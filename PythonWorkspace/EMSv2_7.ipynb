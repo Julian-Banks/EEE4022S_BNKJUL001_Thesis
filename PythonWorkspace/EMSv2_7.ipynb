{
  "cells": [
    {
      "cell_type": "markdown",
      "metadata": {
        "id": "view-in-github",
        "colab_type": "text"
      },
      "source": [
        "<a href=\"https://colab.research.google.com/github/Julian-Banks/EEE4022S_BNKJUL001_Thesis/blob/main/PythonWorkspace/EMSv2_7.ipynb\" target=\"_parent\"><img src=\"https://colab.research.google.com/assets/colab-badge.svg\" alt=\"Open In Colab\"/></a>"
      ]
    },
    {
      "cell_type": "markdown",
      "source": [],
      "metadata": {
        "id": "V6yT1Kii6fZb"
      }
    },
    {
      "cell_type": "markdown",
      "source": [
        "## **Version Notes**\n",
        "\n",
        "# **v2.7**\n",
        " **options**\n",
        " * decreased unmet demand penalty\n",
        " * include real forecasts\n",
        " * include demand charge\n",
        " * try either of these options with or without loadshedding?\n",
        "\n",
        "#**v2.6**\n",
        "*clean up of code\n",
        "\n",
        "#**v2.5**\n",
        "* getting rid of the shorter episodes and going back to the normal approach\n",
        "* reworked normalisation so that the power bal and the battery level are scaled using the same transform. The idea being that the units should be the same and thus the scales?\n",
        "* changed action space to be centered on -1,1\n",
        "*removed demand charge to try and get it to learn how to manage a continuous space first.\n",
        "\n",
        "\n",
        "# **v2.4**\n",
        "* going to have shorter episodes (one month long)\n",
        "* hope the agent can learn to expect the demand charge every 30 days.\n",
        "* fixed a bug with the purchase_price\n",
        "\n",
        "# **v2.3**\n",
        "* Flattening observation space\n",
        "* increasing learning rates\n",
        "* decreasing vf_coef\n",
        "\n",
        "# **v2.2**\n",
        " **Added:**\n",
        " * normalising values. it is time to do this.....\n",
        "\n",
        "# **v2.1**\n",
        "\n",
        "**Added:**\n",
        " * changed reward structure to give a penalty every time the agent reaches a new max demand.\n",
        " * changed obs to include max_demand\n",
        "\n",
        "# **v2.0**\n",
        "*\n",
        "Adding a continous action space! Yolo\n",
        "\n",
        "# **v1.2**\n",
        "**Added:**\n",
        "* Diesel Generator action to mitigate unmet-load\n",
        "* reward based off real prices + demand charge - Demand charge has fucked the agent cause it buys in bulk! - might be time for the continous action space so it can decide how much to buy......\n",
        "\n",
        "**To Do:**\n",
        "* impliment a priority load - not gonna do this, just gonna have unmet load\n",
        "\n",
        "* Add in actual predictions, eish\n",
        "\n",
        "* figure out how to have more episodes!! I think it will have big performance boosts on the training :)\n",
        "\n",
        "* thinking that maybe I should change obs space back to what it was cause I dont actully need to know individual loads and gens!!!!\n",
        "\n",
        "# **v1.1**\n",
        "\n",
        "**Added:**\n",
        "* rect and inverter power tracking\n",
        "* reward logging in my own logging func\n",
        "* changed logging vars to arrays\n",
        "*\n",
        "\n",
        "**To Do**\n",
        "\n",
        "* battery charging rates - I think my assumption is fine.\n",
        "\n",
        "* tweak visualisation to show bar graphs at the end of training/testing. Maybe just print graphs at the end? I have added plt.show() - remember to play if it doesnt work!\n",
        "\n",
        "* impliment a generator!!!!!\n",
        "* impliment a priority load\n",
        "\n",
        "* NB figure out how to have more episodes!! I think it will have big performance boosts on the training :)\n",
        "\n",
        "* thinking that maybe I should change obs space back to what it was cause I dont actully need to know individual loads and gens!!!!\n",
        "\n",
        "# **v1.0**\n",
        "\n",
        "**Added:**\n",
        "* AC and DC load\n",
        "* Wind Gen\n",
        "* changed obs space to hold new loads\n",
        "* re wrote standby and purchase functions\n",
        "\n",
        "**To DO**\n",
        "* thinking that maybe I should change obs space back to what it was cause I dont actully need to know individual loads and gens!!!!\n",
        "* Add in rectifier & inverter power tracking\n",
        "* battery charging rates\n",
        "\n",
        "\n",
        "# **v0.3**\n",
        "**Added:**\n",
        "* loadshedding\n",
        "* New reward structure\n",
        "* added Vec_env\n",
        "* added eval callbacks to validate training\n",
        "* added in logging\n",
        "\n",
        "**Parameters:**\n",
        "* Added in loadshedding forecast\n",
        "\n",
        "**To do:**\n",
        "* find out about battery charging rates  & impliment\n",
        "* Find out if I need to normalise\n",
        "* Try dqn\n",
        "* Find out how the bounds for the obs_space box effect things\n",
        "* Try play with DummyVec wrapper (didnt work in last version)\n",
        "\n",
        "# **v0.2_1**\n",
        "**Added:**\n",
        "*  Monitor wrapper\n",
        "*  DummyVec wrapper\n",
        "*  Wand (weights and bais) enabled\n",
        "\n",
        "**Parameters:**\n",
        "* lowered to 3 predictions  \n",
        "\n",
        "**To do:**\n",
        "* Try to use hyperparameter Optimisation - decided Im only going to do on the final version\n",
        "* Try normalise\n",
        "* Try differnet models\n",
        "* Find out how the bounds for the obs_space box effect things\n",
        "\n",
        "# **v0.2**\n",
        "**Added:**\n",
        "*  simplified load_forecast and gen_forecast to be power_bal_forecasts.\n",
        "*  combined current_load and current_gen to also show current_power_balance\n",
        "*  added proper evaluate call\n",
        "\n",
        "**Parameters:**\n",
        "* No changes  \n",
        "\n",
        "**Results:**\n",
        "* 5% savings on PPO deterministic = true\n",
        "* 4.3% savings on PPO determnistic = false\n",
        "\n",
        "**To do:**\n",
        "* Try to use hyperparameter Optimisation\n",
        "* Try normalise\n",
        "* Try differnet models\n",
        "* Try see if discount rate can be tweaked - at good level.\n",
        "* Find out how the bounds for the obs_space box effect things\n",
        "\n",
        "# **v0.1**\n",
        "**Added:**\n",
        "* added real loads, gen, tou_id's\n",
        "\n",
        "**Parameters:**\n",
        "* training episode = 6000 timesteps\n",
        "* testing episode  = 2760 timesteps\n",
        "* bat_threshold = 100\n",
        "* bat_cap = 500\n",
        "* battery_level at reset = bat_cap/2\n",
        "* num_preds = 24\n",
        "* Trained PPO for 1.65mil timesteps\n",
        "* Trained A2C for 1.2 mil timesteps\n",
        "\n",
        "**Results:**\n",
        "* PP0 - 3.7% improvement from standby mode Deterministic = False\n",
        "* PPO - 6.1% Deterministic =  True\n",
        "* A2C  - -0.3% improvement. And the models after this got worse as training progressed!\n",
        "**To do:**\n",
        "* Try lower num_preds\n",
        "* Try to use hyperparameter Optimisation\n",
        "* Try normalise\n",
        "* Try differnet models\n",
        "* Try see if discount rate can be tweaked\n",
        "\n",
        "\n"
      ],
      "metadata": {
        "id": "5DZFnZnzStt1"
      }
    },
    {
      "cell_type": "code",
      "execution_count": 1,
      "metadata": {
        "id": "nI52iVVCCPaf"
      },
      "outputs": [],
      "source": [
        "%%capture\n",
        "#install dependancies\n",
        "!pip install gymnasium\n",
        "!pip install stable_baselines3[extra]\n",
        "!pip install wandb\n",
        "!pip install sklearn\n",
        "!pip install scipy\n",
        "%load_ext tensorboard\n",
        "\n",
        "#clone repository\n",
        "! git clone https://github.com/Julian-Banks/EEE4022S_BNKJUL001_Thesis\n",
        "\n",
        "#to update the rep\n",
        "%cd /content/EEE4022S_BNKJUL001_Thesis\n",
        "! git pull\n",
        "#import needed libarys\n",
        "import gymnasium as gym\n",
        "import numpy as np\n",
        "import random\n",
        "import pandas as pd\n",
        "from gymnasium import spaces\n",
        "import datetime\n",
        "from stable_baselines3 import PPO, A2C, DQN,DDPG\n",
        "from stable_baselines3.common.evaluation import evaluate_policy\n",
        "from stable_baselines3.common.monitor import Monitor\n",
        "from stable_baselines3.common.callbacks import EvalCallback\n",
        "from stable_baselines3.common.env_util import make_vec_env\n",
        "from stable_baselines3.common.vec_env import VecVideoRecorder\n",
        "import matplotlib.pyplot as plt\n",
        "from matplotlib.animation import FuncAnimation\n",
        "from gym.wrappers import FlattenObservation\n",
        "from sklearn.preprocessing import MinMaxScaler\n",
        "from google.colab import drive\n",
        "import os\n",
        "import wandb\n",
        "from wandb.integration.sb3 import WandbCallback\n",
        "from gymnasium.envs.registration import register\n",
        "import scipy.io\n",
        "from typing import Callable\n",
        "\n",
        "\n",
        "#mount the drive\n",
        "drive.mount('/content/drive')\n",
        "\n"
      ]
    },
    {
      "cell_type": "code",
      "source": [
        "#define paths to logs and model saves\n",
        "model_type = \"PPO\"\n",
        "version    = \"EMSv2_7\"\n",
        "model_dir = f\"/content/drive/MyDrive/Colab Notebooks/{version}/models/{model_type}/\"\n",
        "log_dir   = f\"/content/drive/MyDrive/Colab Notebooks/{version}/models/{model_type}logs/\"\n",
        "\n",
        "#make the appropriate directory if it does not exist\n",
        "if not os.path.exists(model_dir):\n",
        "    os.makedirs(model_dir)\n",
        "if not os.path.exists(log_dir):\n",
        "    os.makedirs(log_dir)\n"
      ],
      "metadata": {
        "id": "SIpnNCVVRTV8",
        "colab": {
          "base_uri": "https://localhost:8080/"
        },
        "outputId": "7310b01e-c83d-48f6-e324-8d421f0cea7c"
      },
      "execution_count": 2,
      "outputs": [
        {
          "output_type": "stream",
          "name": "stderr",
          "text": [
            "/usr/local/lib/python3.10/dist-packages/ipykernel/ipkernel.py:283: DeprecationWarning: `should_run_async` will not call `transform_cell` automatically in the future. Please pass the result to `transformed_cell` argument and any exception that happen during thetransform in `preprocessing_exc_tuple` in IPython 7.17 and above.\n",
            "  and should_run_async(code)\n"
          ]
        }
      ]
    },
    {
      "cell_type": "markdown",
      "source": [
        "**Define our environment class!!**"
      ],
      "metadata": {
        "id": "Q99_jLMvwuZZ"
      }
    },
    {
      "cell_type": "code",
      "execution_count": 6,
      "metadata": {
        "id": "s2iW-k26FIbm",
        "colab": {
          "base_uri": "https://localhost:8080/"
        },
        "outputId": "a68a37aa-2211-4bba-d8fa-09fcf1cacc52"
      },
      "outputs": [
        {
          "output_type": "stream",
          "name": "stderr",
          "text": [
            "/usr/local/lib/python3.10/dist-packages/gymnasium/envs/registration.py:694: UserWarning: \u001b[33mWARN: Overriding environment EMSv2_7 already in registry.\u001b[0m\n",
            "  logger.warn(f\"Overriding environment {new_spec.id} already in registry.\")\n"
          ]
        }
      ],
      "source": [
        "class EMSv2_7(gym.Env):\n",
        "    \"\"\"Custom Environment that follows gym interface.\"\"\"\n",
        "\n",
        "    metadata = {\"render_modes\": [\"human\",\"rgb_array\"], \"render_fps\": 30}\n",
        "\n",
        "    def __init__(self,bat_threshold = 0.1, bat_cap = 1, actual_load = None, actual_gen = None, load_forecast = None , gen_forecast = None, purchase_price = [1,1,1,1,1,1,1,1,2,2,2,2] , episode_len = 8760,num_preds = 24,render_mode = \"rgb_array\", load_shedding = None, wandb_log = False,train_log = True, gen_size = 100,demand_charge = 252.92, demand_flag = True):\n",
        "\n",
        "        super(EMSv2_7, self).__init__()\n",
        "        #define render_mode\n",
        "        self.render_mode = render_mode\n",
        "        #define wandb\n",
        "        self.wandb_log = wandb_log\n",
        "        self.train_log = train_log\n",
        "        #define time frame\n",
        "        self.current_step = 0\n",
        "        self.final_step = int(episode_len)-num_preds-2\n",
        "        self.episode_len = int(episode_len)\n",
        "        #define num preds\n",
        "        self.num_preds = int(num_preds)\n",
        "        #define the battery max capacity\n",
        "        self.bat_cap =  np.float32(bat_cap)\n",
        "        #define the battery low threshold\n",
        "        self.bat_threshold = np.float32(bat_threshold)\n",
        "        #define demand charge\n",
        "        self.demand_charge = demand_charge\n",
        "        self.demand_flag = demand_flag\n",
        "        #define the size of the diesel_gen\n",
        "        self.gen_size = gen_size\n",
        "\n",
        "        #fill all of the actual loads\n",
        "        self.fill_load(actual_load)\n",
        "\n",
        "        #fill all of the actual generation steps.\n",
        "        self.fill_gen(actual_gen)\n",
        "\n",
        "        #fill the total power balance\n",
        "        self.fill_power_bal()\n",
        "\n",
        "        #Fill the loadShedding indicator\n",
        "        self.fill_shedding(load_shedding)\n",
        "\n",
        "        #define the purchase price for every step of the year\n",
        "        self.fill_price(purchase_price)\n",
        "\n",
        "        #Fill the load forecasts\n",
        "        self.fill_load_forecast(load_forecast)\n",
        "\n",
        "        #fill the gen Forecast\n",
        "        self.fill_gen_forecast(gen_forecast)\n",
        "\n",
        "        #action space is recomended to be -1 to 1. by stablebaslines due to the sampling distributions\n",
        "        self.action_scaler = MinMaxScaler(feature_range = (-1,1))\n",
        "        #set the lower bound of the action to 0, (requesting to buy 0 kw) and the upper to the max_avail capacity and the max load required.\n",
        "        self.action_scaler.fit_transform(np.array([0, 300]).reshape(-1,1))\n",
        "        #define the size of the action space\n",
        "        self.action_space = gym.spaces.Box(low= -1 , high =1)\n",
        "\n",
        "        # Dict space to store all the different things\n",
        "        self.observation_space = spaces.Dict({\n",
        "                \"power_bal_forecast\" : gym.spaces.Box(low=-1, high=1, shape=(1,num_preds), dtype=np.float32),\n",
        "                \"price_forecast\"     : gym.spaces.Box(low=0, high=1, shape=(1,num_preds+1), dtype=np.float32),\n",
        "                \"island_forecast\"    : gym.spaces.Box(low=0, high=1, shape=(1,num_preds+1), dtype=np.float32),\n",
        "                \"bat_level\"          : gym.spaces.Box(low=-1, high=1, shape=(1,), dtype=np.float32),\n",
        "                \"current_power_bal\"  : gym.spaces.Box(low=-1, high=1, shape=(1,), dtype=np.float32)\n",
        "                })\n",
        "        #flatten the observation space to a 1D vector so that it can be interperted more easily by the agent.\n",
        "        self.observation_space = spaces.flatten_space(self.observation_space)\n",
        "\n",
        "    def step(self, action):\n",
        "        #update the current state with the action (needs to be done before current_step is inc since we want to apply the action to the previous step to get the current state)\n",
        "        self.update_state(action)\n",
        "\n",
        "        #Calculate reward from the action\n",
        "        self.reward[self.current_step] = self.calc_reward()\n",
        "        reward = self.reward[self.current_step]\n",
        "\n",
        "        #Wand log, if its set to true(so that it only gets run when wandb is initialised)\n",
        "        # if train_log is false then every step is logged by the eval logger. (only the final step is logged by the train logger)\n",
        "        if self.train_log != True and self.wandb_log ==True:\n",
        "            self.wandb_logger()\n",
        "\n",
        "        #inc time step into Future\n",
        "        self.current_step += 1\n",
        "        #get the next observation for the agent (for next time step)\n",
        "        observation = self.get_obs()\n",
        "\n",
        "        #Set terminated to False since there are no failure states\n",
        "        self.terminated = False\n",
        "        #Check if timelimit reached\n",
        "        self.truncated = False if self.current_step<self.final_step else True\n",
        "        #if the episode is truncated, log the final step(both Training and Eval modes)\n",
        "        if self.truncated and self.wandb_log:\n",
        "            self.wandb_logger()\n",
        "\n",
        "        #requirement but I am not using it so it is empty\n",
        "        info = {}\n",
        "        return observation, reward, self.terminated, self.truncated, info\n",
        "\n",
        "    def reset(self, seed=None, options=None):\n",
        "        super().reset(seed = seed, options=options)\n",
        "        #reset the state\n",
        "        self.current_step = 0\n",
        "        self.terminated = False\n",
        "        self.truncated = False\n",
        "\n",
        "        #Reset values to run Grid\n",
        "        self.battery_level      = np.zeros(self.final_step+1)\n",
        "        self.battery_level[0]   = self.power_scaler.transform(np.array(self.bat_cap/2).reshape(-1,1))#set the intial battery level to half its capacity\n",
        "        self.reward             = np.zeros(self.final_step+1)\n",
        "        self.step_purchased     = np.zeros(self.final_step+1)\n",
        "\n",
        "        #Reset all of the other variables used to log\n",
        "        self.excess_gen         = np.zeros(self.final_step+1)\n",
        "        self.step_unmet_load    = np.zeros(self.final_step+1)\n",
        "        self.off_peak_purchases = np.zeros(self.final_step+1)\n",
        "        self.peak_purchases     = np.zeros(self.final_step+1)\n",
        "        self.standard_purchases = np.zeros(self.final_step+1)\n",
        "        self.off_peak_cost      = np.zeros(self.final_step+1)\n",
        "        self.standard_cost      = np.zeros(self.final_step+1)\n",
        "        self.peak_cost          = np.zeros(self.final_step+1)\n",
        "        self.step_invt          = np.zeros(self.final_step+1)\n",
        "        self.step_rect          = np.zeros(self.final_step+1)\n",
        "        self.diesel_gen         = np.zeros(self.final_step+1)\n",
        "        self.action_purchase    = np.zeros(self.final_step+1)\n",
        "        self.money_spent        = np.zeros(self.final_step+1)\n",
        "\n",
        "        #get the first observation\n",
        "        observation = self.get_obs()\n",
        "        #Still don't know what to do with info\n",
        "        info = {}\n",
        "        return observation, info\n",
        "\n",
        "    def render(self, mode='rgb_array', save_path=None):\n",
        "        pass\n",
        "\n",
        "    def close(self):\n",
        "        #don't think i need this for my application\n",
        "        pass\n",
        "\n",
        "\n",
        "\n",
        "    #MAIN HELPER FUNCTIONS\n",
        "    #######################################################################################################################################################################\n",
        "\n",
        "    def update_state(self, action):\n",
        "        #impliment the action into the environment\n",
        "        self.run_grid(purchase_amount = action)\n",
        "        #log the agents action (in kw)\n",
        "        self.action_purchase[self.current_step] = self.action_scaler.inverse_transform(np.array([action]).reshape(-1,1))\n",
        "        #calculate and log the purchases per Time of Use rate\n",
        "        self.tou_purchase_inc()\n",
        "        #Calculate the flow of power\n",
        "        #fetch info from grids\n",
        "        self.calc_power_flow()\n",
        "\n",
        "    def run_grid(self,purchase_amount):\n",
        "        #self.power_scaler.inverse_transform(self.actual_power_bal[self.current_step].reshap(-1,1))\n",
        "        #fetch info from grids\n",
        "        ac_power_bal, avail_grid = self.AC_bus()\n",
        "        dc_power_bal, avail_bat, avail_stor = self.DC_bus()\n",
        "        #fecth the current_battery level for this step.\n",
        "        current_battery_level =  self.power_scaler.inverse_transform(self.battery_level[self.current_step].reshape(-1,1))\n",
        "        #un-normalise the agents purchase request (its action)\n",
        "        purchase_amount_unnorm = self.action_scaler.inverse_transform(np.array([purchase_amount]).reshape(-1,1))\n",
        "\n",
        "        if avail_grid: # if there is no loadshedding purchase the amount requested by the agent.\n",
        "            self.step_purchased[self.current_step] = purchase_amount_unnorm\n",
        "        else:          # if there is loadshedding then it the step purchased must be 0\n",
        "            self.step_purchased[self.current_step] = 0\n",
        "\n",
        "        #calculate the immediate power_bal, this is the AC power, DC power and the Amount that the agent has purchased\n",
        "        grid_power_bal = ac_power_bal + dc_power_bal + self.step_purchased[self.current_step]\n",
        "\n",
        "        #determine the flow of power:\n",
        "        if grid_power_bal > 0 : #if the power balance is positive, the battery is charged and any remaing power is recorded in excess gen\n",
        "            #Set the battery_level for the next step to the current battery plus the exces. Using minimium between avail_stor and grid_power_bal ensures that the battery is only charged to its max capacity.\n",
        "            self.battery_level[self.current_step+1] =  self.power_scaler.transform(current_battery_level+ min(avail_stor, grid_power_bal))\n",
        "            #increments excess gen by the max. If grid_power_bal - avail_stor is negative, there was no excess and it will add 0, else it will add the excess that couln't be stored.\n",
        "            self.excess_gen[self.current_step] = max((grid_power_bal - avail_stor), 0)\n",
        "        else:\n",
        "            #there is a shortage of power since the balance is negative, see if we can take it from the battery.\n",
        "            #set the battery level for the next step. If the battery has the avail capacity to meet the demand, then the demand is subtracted. If the battery does not then the avail_battery is subtracted. This prevents over discharge.\n",
        "            self.battery_level[self.current_step+1] = self.power_scaler.transform(current_battery_level + max(-avail_bat, grid_power_bal))\n",
        "\n",
        "            #check if there is still a shortage of power after the battery has been discharged.\n",
        "            grid_power_bal_discharged = grid_power_bal + min(avail_bat,-grid_power_bal)\n",
        "            #if there is still a shortage, Check if it can be purchased from the grid or if it will be added to unmet_load\n",
        "            if grid_power_bal_discharged  < 0 :\n",
        "            #check if we are islanded and buy elec if we arent\n",
        "                if avail_grid:\n",
        "                    #set the purchased amount for the step to be the amount purchased already, and the remaining amount needed to balance the power.\n",
        "                    self.step_purchased[self.current_step] = purchase_amount_unnorm + -grid_power_bal_discharged\n",
        "                else:\n",
        "                    #if the grid is not available, run the generator\n",
        "                    #the amount of generation provided by the generator is limited by its size\n",
        "                    self.diesel_gen[self.current_step] = min(-grid_power_bal_discharged,self.gen_size)\n",
        "                    #calulate grid_power_bal after the diesel generator has been used\n",
        "                    grid_power_bal_with_diesel = grid_power_bal_discharged + min(-grid_power_bal_discharged,self.gen_size)\n",
        "                    if grid_power_bal_with_diesel < 0:\n",
        "                        self.step_unmet_load[self.current_step] = -grid_power_bal_with_diesel\n",
        "\n",
        "    def calc_reward(self):\n",
        "        #Calculate reward based on the state\n",
        "        #cost of running generator in that step\n",
        "        petrol_per_kw  = 0.4*23 #0.4l per kwh produced multipled by a cost of 23 rand per litre. Very rough values\n",
        "        diesel_cost     = petrol_per_kw*self.diesel_gen[self.current_step]\n",
        "        #cost of purchasing electricity in that step\n",
        "        elec_purchase   = self.step_purchased[self.current_step]*self.price_scaler.inverse_transform(self.purchase_price[self.current_step].reshape(-1,1)).flatten()\n",
        "\n",
        "        #Penality for unmet_load\n",
        "        unmet_load_pen  = self.step_unmet_load[self.current_step]*10\n",
        "\n",
        "        demand_penalty = self.get_demand_penalty()\n",
        "        demand_charge = self.get_demand_charge()\n",
        "\n",
        "        if self.demand_flag:\n",
        "            #Calculate the reward (monetary cost and the added penality for unmet_load!)\n",
        "            reward = -elec_purchase - unmet_load_pen - diesel_cost - demand_penalty\n",
        "            #record the money spent in this step\n",
        "            self.money_spent[self.current_step] =  elec_purchase +  diesel_cost + demand_charge\n",
        "        else:\n",
        "            #Calculate the reward (monetary cost and the added penality for unmet_load!)\n",
        "            reward = -elec_purchase - unmet_load_pen - diesel_cost\n",
        "            #record the money spent in this step\n",
        "            self.money_spent[self.current_step] =  elec_purchase +  diesel_cost\n",
        "        return reward\n",
        "\n",
        "\n",
        "\n",
        "\n",
        "    def get_obs(self):\n",
        "        #Fill the observation space with the next observation\n",
        "\n",
        "        #calculate the power forecast\n",
        "        power_bal_forecast = self.get_forecast() #self.actual_power_bal[self.current_step+1: self.current_step + self.num_preds+1]\n",
        "\n",
        "        #get the prices for the current frame and the next 24 hours. Maybe will cut this down since that seems like a lot of info\n",
        "        price_forecast = np.array( [self.purchase_price[self.current_step:self.current_step+self.num_preds+1]] , dtype = np.float32).reshape(1,self.num_preds+1)\n",
        "        #Just for readibility of the dict object\n",
        "        bat_level      = np.array([self.battery_level[self.current_step]] , dtype= np.float32)\n",
        "\n",
        "        #island forecasst, same as tou forecast\n",
        "        island_forecast =np.array( [self.load_shed[self.current_step:self.current_step+self.num_preds+1]] , dtype = np.float32)\n",
        "\n",
        "        #calculate the current power balance\n",
        "        current_power_bal = self.actual_power_bal[self.current_step]\n",
        "\n",
        "        obs = dict({\n",
        "                \"bat_level\":      bat_level,\n",
        "                \"current_power_bal\" :   current_power_bal,\n",
        "                \"island_forecast\": island_forecast,\n",
        "                \"power_bal_forecast\":  power_bal_forecast,\n",
        "                \"price_forecast\": price_forecast,\n",
        "\n",
        "        })\n",
        "        #flatten the obs to make it the correct shape. 1D array\n",
        "        obs = np.concatenate([obs[key].flatten() for key in obs.keys()])\n",
        "        return obs\n",
        "\n",
        "    def wandb_logger(self):\n",
        "\n",
        "        train_log_dict={\n",
        "                    \"Excess Generation\"         :np.sum(self.excess_gen),\n",
        "                    \"Unmet Load\"                :np.sum(self.step_unmet_load),\n",
        "                    \"Off-Peak Purchases\"        :np.sum(self.off_peak_purchases),\n",
        "                    \"Standard Purchases\"        :np.sum(self.standard_purchases),\n",
        "                    \"Peak Purchases\"            :np.sum(self.peak_purchases),\n",
        "                    \"Num Off-Peak Purchases\"    :np.count_nonzero(self.off_peak_purchases),\n",
        "                    \"Num Standard Purchases\"    :np.count_nonzero(self.standard_purchases),\n",
        "                    \"Num Peak Purchases\"        :np.count_nonzero(self.peak_purchases),\n",
        "                    \"Total Elec Purchase\"       :np.sum(self.step_purchased),\n",
        "                    \"Total Purchase Requested\"  :np.sum(self.action_purchase),\n",
        "                    \"Num Diesel Gen Actions\"    :np.count_nonzero(self.diesel_gen),\n",
        "                    \"Total Reward\"              :np.sum(self.reward),\n",
        "                    \"Total Money spent\"         :np.sum(self.money_spent),\n",
        "                    \"Rectifier total power flow\":np.sum(self.step_rect),\n",
        "                    \"Inverter total power flow\" :np.sum(self.step_invt),\n",
        "                    \"Diesel Generator\"          :np.sum(self.diesel_gen),\n",
        "                    \"Max Demand\"                :np.max(self.step_purchased),\n",
        "                    \"total Purchased Elec\"      :np.sum(self.step_purchased)\n",
        "                    }\n",
        "\n",
        "        eval_log_dict={\n",
        "                    \"battery_level\"             :self.power_scaler.inverse_transform(self.battery_level[self.current_step].reshape(-1,1)).flatten(),\n",
        "                    \"AC load\"                   :self.actual_load[self.current_step,0],\n",
        "                    \"DC load\"                   :self.actual_load[self.current_step,1],\n",
        "                    \"Wind generation\"           :self.actual_gen[self.current_step,0],\n",
        "                    \"PV generation\"             :self.actual_gen[self.current_step,1],\n",
        "                    \"Excess Generation\"         :self.excess_gen[self.current_step],\n",
        "                    \"Unmet Load\"                :self.step_unmet_load[self.current_step],\n",
        "                    \"LoadShedding\"              :self.load_shed[self.current_step],\n",
        "                    \"Off-Peak Purchases\"        :self.off_peak_purchases[self.current_step],\n",
        "                    \"Standard Purchases\"        :self.standard_purchases[self.current_step],\n",
        "                    \"Peak Purchases\"            :self.peak_purchases[self.current_step],\n",
        "                    \"Num Off-Peak Purchases\"    :np.count_nonzero(self.off_peak_purchases),\n",
        "                    \"Num Standard Purchases\"    :np.count_nonzero(self.standard_purchases),\n",
        "                    \"Num Peak Purchases\"        :np.count_nonzero(self.peak_purchases),\n",
        "                    \"Step Purchased\"            :self.step_purchased[self.current_step],\n",
        "                    \"Purchase Requested\"        :self.action_purchase[self.current_step],\n",
        "                    \"Num Diesel Gen Actions\"    :np.count_nonzero(self.diesel_gen),\n",
        "                    \"Total Reward\"              :self.reward[self.current_step],\n",
        "                    \"Money Spent\"               :self.money_spent[self.current_step],\n",
        "                    \"Rectifier total power flow\":self.step_rect[self.current_step],\n",
        "                    \"Inverter total power flow\" :self.step_invt[self.current_step],\n",
        "                    \"Diesel Generator\"          :self.diesel_gen[self.current_step],\n",
        "\n",
        "                    }\n",
        "\n",
        "        if self.train_log:\n",
        "            wandb.log(train_log_dict)\n",
        "        else:\n",
        "            wandb.log(eval_log_dict)\n",
        "\n",
        "        if self.train_log == False and self.current_step == self.final_step:\n",
        "\n",
        "            values = [[np.sum(self.off_peak_purchases),'Off Peak'], [np.sum(self.standard_purchases),'Standard'], [np.sum(self.peak_purchases),'Peak']]\n",
        "            table = wandb.Table(columns = [\"values\",\"labels\"],data=values)\n",
        "            Tou_purchases = wandb.plot.bar(table,\"labels\",\"values\", title=\"kWh per TOU tariff\")\n",
        "\n",
        "            values = [[np.sum(self.off_peak_cost),'Off Peak'], [np.sum(self.standard_cost),'Standard'], [np.sum(self.peak_cost),'Peak']]\n",
        "            table = wandb.Table(columns = [\"values\",\"labels\"],data=values)\n",
        "            Tou_purchase_cost = wandb.plot.bar(table,\"labels\",\"values\", title=\"Rands per TOU tariff\")\n",
        "\n",
        "            values = [[np.max(self.step_purchased),'Max demand'], [np.max(self.diesel_gen),'Max diesel gen'], [np.max(self.step_rect),'Max rectifier power'], [np.max(self.step_invt),'Max inverter power']]\n",
        "            table = wandb.Table(columns = [\"values\",\"labels\"],data=values)\n",
        "            max_metrics = wandb.plot.bar(table,\"labels\",\"values\", title=\"Sizing Metrics\")\n",
        "\n",
        "            values = [[np.sum(self.step_purchased),'Total Purchased'], [np.sum(self.action_purchase),'Total requested purchases'],[np.sum(self.excess_gen),'Total excess generation']]\n",
        "            table = wandb.Table(columns = [\"values\",\"labels\"],data=values)\n",
        "            total_metrics = wandb.plot.bar(table,\"labels\",\"values\", title=\"Total Metrics\")\n",
        "\n",
        "            values = [[np.sum(self.diesel_gen),'Total diesel generation'], [np.sum(self.step_unmet_load),'Total unmet load']]\n",
        "            table = wandb.Table(columns = [\"values\",\"labels\"],data=values)\n",
        "            total_diesel_unmet = wandb.plot.bar(table,\"labels\",\"values\", title=\"Total diesel and unmet load\")\n",
        "\n",
        "            values = [[np.sum(self.reward),'Total reward accumulated']]\n",
        "            table = wandb.Table(columns = [\"values\",\"labels\"],data=values)\n",
        "            total_reward = wandb.plot.bar(table,\"labels\",\"values\", title=\"Total reward\")\n",
        "\n",
        "            values = [[np.sum(self.money_spent),'Total money spent']]\n",
        "            table = wandb.Table(columns = [\"values\",\"labels\"],data=values)\n",
        "            total_spent = wandb.plot.bar(table,\"labels\",\"values\", title=\"Total money spent\")\n",
        "\n",
        "            wandb.log({ \"kWh purchased per TOU tariff\"  : Tou_purchases,\n",
        "                        \"Rands per TOU tariff\"          : Tou_purchase_cost,\n",
        "                        \"Max sizing metrics\"            : max_metrics,\n",
        "                        \"Total metrics\"                 : total_metrics,\n",
        "                        \"Total diesel and unmet load\"   : total_diesel_unmet,\n",
        "                        \"Total reward and money spent\"  :total_reward,\n",
        "                        \"Total money spent\"             :total_spent\n",
        "                        })\n",
        "\n",
        "\n",
        "\n",
        "    #AUXILIARY HELPER FUNCTIONS\n",
        "    #######################################################################################################################################################################\n",
        "    def calc_power_flow(self):\n",
        "        #fetch info from grids\n",
        "        ac_power_bal, _ = self.AC_bus()\n",
        "        dc_power_bal, _ , avail_stor = self.DC_bus()\n",
        "        #Calculate the flow of power (this is max absorb, the min need is just dc_power_bal)\n",
        "        dc_power_absorb = max(-dc_power_bal+avail_stor,0)\n",
        "        #calculate the Dc_power_avail, could go to battery or AC_grid\n",
        "        dc_power_avail = max(dc_power_bal,0) #lol just defined a new var for readability.\n",
        "        #ac power excess will be the power balance added to the purchase amount\n",
        "        ac_power_excess = max(ac_power_bal+self.step_purchased[self.current_step]+self.diesel_gen[self.current_step],0)\n",
        "         # calculate how much power the ac grid needs.\n",
        "        ac_power_need   = max(-ac_power_bal-self.step_purchased[self.current_step]-self.diesel_gen[self.current_step], 0)\n",
        "        #calculate how much power would be in excess if there was to be excess.\n",
        "        dc_power_excess = max(dc_power_avail - ac_power_need - avail_stor,0)\n",
        "\n",
        "        #the power that will flow through the rectifier is the minimum between the amount the DC grid can absorb and the excess the ac_grid has\n",
        "        #This definition implies that the AC subgrid will supply its own loads first and only then send excess to dc Grid?\n",
        "        rect_power = min(dc_power_absorb,ac_power_excess)\n",
        "\n",
        "        #inverter power is equal to the minimum val between the avail dc power and the needed power. Then since all excess power needs to go to the grid, if there is any extra energy after the ac_need has been met and the battery is fully charged, it is also sent through the inverter\n",
        "        #DC subgrid will meet the AC load before charging the battery. Will send excess across if the DC load is met and the battery is fully charged.\n",
        "        invt_power = min(ac_power_need, dc_power_avail) + dc_power_excess\n",
        "        #set the attributes.\n",
        "        self.step_invt[self.current_step] = invt_power\n",
        "        self.step_rect[self.current_step] = rect_power\n",
        "\n",
        "    def tou_purchase_inc(self):\n",
        "        #Summer Months: 5.92, 2.09, 1.33\n",
        "        #Winter Months: 2.22, 1.66, 1.21\n",
        "        #un normalise the price for that step.\n",
        "        step_price = self.price_scaler.inverse_transform(self.purchase_price[self.current_step].reshape(-1,1))\n",
        "        #the conditions are a bit janky due to the different prices in Summer and Winter.\n",
        "        if step_price < 1.5:\n",
        "            self.off_peak_purchases[self.current_step] = self.step_purchased[self.current_step]\n",
        "            self.off_peak_cost[self.current_step]      = self.step_purchased[self.current_step]*step_price\n",
        "        elif step_price < 2.1:\n",
        "            self.standard_purchases[self.current_step] = self.step_purchased[self.current_step]\n",
        "            self.standard_cost[self.current_step]      = self.step_purchased[self.current_step]*step_price\n",
        "        else:\n",
        "            self.peak_purchases[self.current_step] = self.step_purchased[self.current_step]\n",
        "            self.peak_cost[self.current_step]      = self.step_purchased[self.current_step]*step_price\n",
        "\n",
        "    def AC_bus(self):\n",
        "        #fill out info on the ac\n",
        "        ac_gen = self.actual_gen[self.current_step, 0]\n",
        "        ac_load = self.actual_load[self.current_step,0]\n",
        "        ac_power_bal = ac_gen - ac_load\n",
        "        #check if there is load shedding or not\n",
        "        avail_grid = not self.load_shed[self.current_step]\n",
        "        #return relevant values\n",
        "        return ac_power_bal,avail_grid\n",
        "\n",
        "    def DC_bus(self):\n",
        "        #fill in info for DC_bus\n",
        "        dc_gen       = self.actual_gen[self.current_step,1]\n",
        "        dc_load      = self.actual_load[self.current_step,1]\n",
        "        dc_power_bal = dc_gen - dc_load\n",
        "        #fetch and transform information about the battery cap and availability\n",
        "        avail_bat  = self.power_scaler.inverse_transform(self.battery_level[self.current_step].reshape(-1,1)) - self.bat_threshold\n",
        "        avail_stor = self.bat_cap   - self.power_scaler.inverse_transform(self.battery_level[self.current_step].reshape(-1,1))\n",
        "        return dc_power_bal, avail_bat, avail_stor\n",
        "\n",
        "\n",
        "    def fill_load(self,actual_load):\n",
        "        if actual_load is None :#if actual_load is a string then fill with random numbers\n",
        "            self.actual_load = np.random.rand(self.final_step+self.num_preds+1,2).astype(np.float32)\n",
        "        else:                           #else fill the load with the correct number of entries from the input\n",
        "            self.actual_load  = actual_load[:self.episode_len,:]\n",
        "\n",
        "    def fill_gen(self,actual_gen):\n",
        "        if actual_gen is None:#if actual_gen is a string then fill with random numbers\n",
        "            self.actual_gen  = np.random.rand(self.final_step+self.num_preds+1,2).astype(np.float32)\n",
        "        else:                           #else fill the gen with the correct number of entries from the input\n",
        "            self.actual_gen  = actual_gen[:self.episode_len,:]\n",
        "\n",
        "    def fill_load_forecast(self, load_forecast):\n",
        "        if load_forecast is None:\n",
        "            load_sum = self.actual_load.sum(axis = 1)\n",
        "            self.load_forecast = [load_sum[i+1:i+1+self.num_preds] for i in range(self.final_step+1)]\n",
        "            self.load_forecast = np.array(self.load_forecast).astype(np.float32)\n",
        "        else:\n",
        "            self.load_forecast = np.array(load_forecast[:self.final_step+1,:]).astype(np.float32)\n",
        "\n",
        "    def fill_gen_forecast(self, gen_forecast):\n",
        "        if gen_forecast is None:\n",
        "            gen_sum = self.actual_gen.sum(axis = 1)\n",
        "            self.gen_forecast = [gen_sum[i+1:i+1+self.num_preds] for i in range(self.final_step+1)]\n",
        "            self.gen_forecast = np.array(self.gen_forecast).astype(np.float32)\n",
        "        else:\n",
        "            self.gen_forecast = np.array(gen_forecast[:self.final_step,:]).astype(np.float32)\n",
        "\n",
        "    def fill_power_bal(self):\n",
        "        actual_power_bal = self.actual_gen-self.actual_load\n",
        "        if len(actual_power_bal.shape) >= 2:\n",
        "            actual_power_bal = actual_power_bal.sum(axis=1)\n",
        "        self.power_scaler = MinMaxScaler(feature_range=(-1, 1))\n",
        "        #in order for the agent to see the kw in the battery in proportion to the kw in power_bal observations. I have included the bat_cap in the transform, and the battery level will be transformed using the same scaler.\n",
        "        self.power_scaler.fit_transform(np.array(actual_power_bal,self.bat_cap).reshape(-1,1))\n",
        "        self.actual_power_bal = self.power_scaler.transform(actual_power_bal.reshape(-1,1))\n",
        "\n",
        "    def fill_price(self,purchase_price):\n",
        "        purchase_price = np.array(purchase_price).astype(np.float32)\n",
        "        if len(purchase_price)<self.episode_len: #if the proved set of purchase prices is less than the episode length, wrap it so it fills the episode.\n",
        "            repetitions    = (self.final_step+self.num_preds+1) // len(purchase_price)\n",
        "            remainder      = (self.final_step+self.num_preds+1) % len(purchase_price)\n",
        "            self.purchase_price =np.concatenate([purchase_price]*repetitions+[purchase_price[:remainder]])#need to read in from somewhere\n",
        "        else:                                    #else extract the correct number of prices.\n",
        "            self.purchase_price = purchase_price[:self.episode_len]\n",
        "\n",
        "        price_scaler = MinMaxScaler(feature_range=(0,1)) #scale purchase prices to 0,1\n",
        "        self.purchase_price = price_scaler.fit_transform(self.purchase_price.reshape(-1, 1))\n",
        "        self.price_scaler = price_scaler\n",
        "\n",
        "    def fill_shedding(self,load_shedding):\n",
        "        if load_shedding is None: #if no loadshedding schedule has been provided then create a array with between 2-5% instances of loadshedding\n",
        "            num_shedding   = np.random.randint(int(0.02*self.episode_len), int(0.05*self.episode_len))\n",
        "            load_shed      = np.array([1]*num_shedding + [0]*(self.episode_len - num_shedding))\n",
        "            np.random.shuffle(load_shed)\n",
        "            self.load_shed = load_shed\n",
        "        else:                            #else if load shedding schedule is provided collect the correct number of instances\n",
        "            self.load_shed = load_shedding[:self.episode_len]\n",
        "\n",
        "    def get_forecast(self):\n",
        "        load_forecast =   (self.load_forecast[self.current_step,:self.num_preds]).reshape(-1,1)\n",
        "        gen_forecast  =   (self.gen_forecast[self.current_step,:self.num_preds]).reshape(-1,1)\n",
        "        power_bal_forecast = gen_forecast - load_forecast\n",
        "        power_bal_forecast = self.power_scaler.transform(power_bal_forecast.reshape(-1,1))\n",
        "        return power_bal_forecast\n",
        "\n",
        "    def get_demand_charge(self):\n",
        "        if self.current_step % (30*24) == 0:\n",
        "            if self.current_step > 0:\n",
        "                max_demand = max(self.step_purchased[max(0,self.current_step - 30*24) : self.current_step])\n",
        "            else:\n",
        "                max_demand = 0\n",
        "            demand_charge = max_demand * self.demand_charge\n",
        "        else:\n",
        "            demand_charge = 0\n",
        "        return demand_charge\n",
        "\n",
        "    def get_demand_penalty(self):\n",
        "        if self.current_step>0:\n",
        "            rolling_peak_demand = max(self.step_purchased[max(0, self.current_step-30*24):self.current_step])\n",
        "        else:\n",
        "            rolling_peak_demand = 0\n",
        "        rolling_peak_demand = 200\n",
        "        demand_penalty = np.exp(self.power_scaler.transform(self.step_purchased[self.current_step].reshape(-1,1)) - self.power_scaler.transform(np.array(rolling_peak_demand).reshape(-1,1)))*400\n",
        "        return demand_penalty\n",
        "#define a pointer (kinda, don't actually know what its called) a\n",
        "EMS = EMSv2_7\n",
        "\n",
        "# Register environment so I can use make_vec_env\n",
        "register(\n",
        "# unique identifier for the env `name-version`\n",
        "id=f\"{version}\",\n",
        "# path to the class for creating the env\n",
        "# Note: entry_point also accept a class as input (and not only a string)\n",
        "entry_point= EMS(),\n",
        "\n",
        ")\n",
        "\n",
        "#Check the environment with stable_baselines3 check_env.\n",
        "from stable_baselines3.common.env_checker import check_env\n",
        "env = EMS()\n",
        "check_env(env,warn = True)\n",
        "\n"
      ]
    },
    {
      "cell_type": "markdown",
      "metadata": {
        "id": "DG4gB2cM7tDY"
      },
      "source": [
        "**Load in the data for our specific microgrid.**"
      ]
    },
    {
      "cell_type": "code",
      "execution_count": 7,
      "metadata": {
        "id": "0X9RBdXC_2PD",
        "colab": {
          "base_uri": "https://localhost:8080/"
        },
        "outputId": "af750db0-968b-4726-98e3-c020083516d4"
      },
      "outputs": [
        {
          "output_type": "stream",
          "name": "stdout",
          "text": [
            "[[149.06 149.05 149.43 149.06 150.22 149.52 201.5  202.35 205.82 208.42\n",
            "  207.65 212.45 208.06 211.88 210.28 212.22 215.68 215.25 211.31 159.\n",
            "  149.35 150.38 148.1  149.31]\n",
            " [149.05 149.43 149.06 150.22 149.52 201.5  202.35 205.82 208.42 207.65\n",
            "  212.45 208.06 211.88 210.28 212.22 215.68 215.25 211.31 159.   149.35\n",
            "  150.38 148.1  149.31 148.32]\n",
            " [149.43 149.06 150.22 149.52 201.5  202.35 205.82 208.42 207.65 212.45\n",
            "  208.06 211.88 210.28 212.22 215.68 215.25 211.31 159.   149.35 150.38\n",
            "  148.1  149.31 148.32 147.98]\n",
            " [149.06 150.22 149.52 201.5  202.35 205.82 208.42 207.65 212.45 208.06\n",
            "  211.88 210.28 212.22 215.68 215.25 211.31 159.   149.35 150.38 148.1\n",
            "  149.31 148.32 147.98 148.83]\n",
            " [150.22 149.52 201.5  202.35 205.82 208.42 207.65 212.45 208.06 211.88\n",
            "  210.28 212.22 215.68 215.25 211.31 159.   149.35 150.38 148.1  149.31\n",
            "  148.32 147.98 148.83 147.43]]\n",
            "The reset observation space looks like: [ 0.07764236 -0.49452567  0.          0.          0.          0.\n",
            " -0.5361099  -0.5273836  -0.45635018  0.          0.          0.\n",
            "  0.        ]\n",
            "After action 0: \n",
            "Battery level is: 0.07764235883951187kWh\n",
            "Current  Power Balance -0.494525671005249\n",
            "Forecasted  power bal 1 hour ahead: -0.5361099243164062.\n",
            "Forecasted  power bal 2 hour ahead: -0.5273836255073547. \n",
            "Forecasted  power bal 3 hour ahead: -0.456350177526474. \n",
            "current Purchase Prcie: 0.0.\n",
            "Forecasted  price 1 hour ahead: 0.0. \n",
            "Forecasted  price 2 hour ahead: 0.0. \n",
            "Forecasted  price 3 hour ahead: 0.0. \n",
            "_________________________________________________________________________________________________________________\n",
            "\n",
            "After action 0: \n",
            "Battery level is: -0.07079396396875381kWh\n",
            "Current  Power Balance -0.536098062992096\n",
            "Forecasted  power bal 1 hour ahead: -0.5273836255073547.\n",
            "Forecasted  power bal 2 hour ahead: -0.456350177526474. \n",
            "Forecasted  power bal 3 hour ahead: -0.3149435520172119. \n",
            "current Purchase Prcie: 0.0.\n",
            "Forecasted  price 1 hour ahead: 0.0. \n",
            "Forecasted  price 2 hour ahead: 0.0. \n",
            "Forecasted  price 3 hour ahead: 0.0. \n",
            "_________________________________________________________________________________________________________________\n",
            "\n",
            "After action 0: \n",
            "Battery level is: -0.17659667134284973kWh\n",
            "Current  Power Balance -0.5280259847640991\n",
            "Forecasted  power bal 1 hour ahead: -0.456350177526474.\n",
            "Forecasted  power bal 2 hour ahead: -0.3149435520172119. \n",
            "Forecasted  power bal 3 hour ahead: -0.19549594819545746. \n",
            "current Purchase Prcie: 0.0.\n",
            "Forecasted  price 1 hour ahead: 0.0. \n",
            "Forecasted  price 2 hour ahead: 0.0. \n",
            "Forecasted  price 3 hour ahead: 0.0. \n",
            "_________________________________________________________________________________________________________________\n",
            "\n",
            "After action 0: \n",
            "Battery level is: -0.17659667134284973kWh\n",
            "Current  Power Balance -0.455721378326416\n",
            "Forecasted  power bal 1 hour ahead: -0.3149435520172119.\n",
            "Forecasted  power bal 2 hour ahead: -0.19549594819545746. \n",
            "Forecasted  power bal 3 hour ahead: 0.18564224243164062. \n",
            "current Purchase Prcie: 0.0.\n",
            "Forecasted  price 1 hour ahead: 0.0. \n",
            "Forecasted  price 2 hour ahead: 0.0. \n",
            "Forecasted  price 3 hour ahead: 0.09576204419136047. \n",
            "_________________________________________________________________________________________________________________\n",
            "\n",
            "After action 1: \n",
            "Battery level is: 0.2222493588924408kWh\n",
            "Current  Power Balance -0.31690627336502075\n",
            "Forecasted  power bal 1 hour ahead: -0.19549594819545746.\n",
            "Forecasted  power bal 2 hour ahead: 0.18564224243164062. \n",
            "Forecasted  power bal 3 hour ahead: 0.2736656665802002. \n",
            "current Purchase Prcie: 0.0.\n",
            "Forecasted  price 1 hour ahead: 0.0. \n",
            "Forecasted  price 2 hour ahead: 0.09576204419136047. \n",
            "Forecasted  price 3 hour ahead: 0.21427208185195923. \n",
            "_________________________________________________________________________________________________________________\n",
            "\n",
            "Done iteration! Total reward accumulated is: -2893311.412768787\n"
          ]
        }
      ],
      "source": [
        "#need to import data from Github\n",
        "path_data = \"/content/EEE4022S_BNKJUL001_Thesis/PythonWorkspace/dataClean.csv\"\n",
        "data = pd.read_csv(path_data)\n",
        "\n",
        "path_pv_gen = \"/content/EEE4022S_BNKJUL001_Thesis/Generation/BNKJUL001_Thesis_solarGen500kWHomer.csv\"\n",
        "data_pv_gen = pd.read_csv(path_pv_gen)\n",
        "\n",
        "path_wind_gen = \"/content/EEE4022S_BNKJUL001_Thesis/Generation/BNKJUL001_Thesis_Wind500kGenHomer.csv\"\n",
        "data_wind_gen = pd.read_csv(path_wind_gen)\n",
        "\n",
        "path_load_forecast = \"/content/EEE4022S_BNKJUL001_Thesis/PythonWorkspace/load_preds.csv\"\n",
        "\n",
        "\n",
        "path_shedding = \"/content/EEE4022S_BNKJUL001_Thesis/MatlabWorkSpace/loadShedding2022.csv\"\n",
        "data_shedding = pd.read_csv(path_shedding)\n",
        "load_shedding = data_shedding['LoadShedding'].values.astype(np.float32)\n",
        "#load_forecasts = scipy.io.loadmat('load_forecasts.mat')\n",
        "#load_forecasts = load_forecasts['load_forecasts']\n",
        "\n",
        "#get the correct arrays from the data\n",
        "wind_gen = data_wind_gen['Wind_Out'].values.astype(np.float32)\n",
        "PV_gen = data_pv_gen['PV_Out'].values.astype(np.float32)\n",
        "actual_gen = np.column_stack((wind_gen, PV_gen))\n",
        "#read in ac and DC load\n",
        "AC_load = data['AC'].values.astype(np.float32)\n",
        "DC_load = data['DC'].values.astype(np.float32)\n",
        "#stack em together for the input :)\n",
        "actual_load = np.column_stack((AC_load, DC_load))\n",
        "\n",
        "load_forecast = np.loadtxt(path_load_forecast, delimiter=',').astype(np.float32)\n",
        "print(load_forecast[0:5, :])\n",
        "\n",
        "path_purchase_price = \"/content/EEE4022S_BNKJUL001_Thesis/PythonWorkspace/purchasePrice.csv\"\n",
        "data_purchase_price = pd.read_csv(path_purchase_price)\n",
        "purchase_price = data_purchase_price['Grid Power Price'].values.astype(np.float32)\n",
        "\n",
        "#define the base environment\n",
        "base_env = EMS(episode_len = 6000, actual_load = actual_load, load_forecast = load_forecast, actual_gen = actual_gen, bat_threshold = 100, bat_cap = 500, purchase_price = purchase_price,num_preds = 3)\n",
        "#going to print out a bunch of things to test the different spaces.\n",
        "obs,_    = base_env.reset()\n",
        "\n",
        "def print_obs(action_standby=0):\n",
        "    print(f\"After action {action_standby}: \" )\n",
        "    battery_level = obs[0]\n",
        "    print(f\"Battery level is: {battery_level}kWh\")\n",
        "    current_power_bal = obs[1]\n",
        "    print(f\"Current  Power Balance {current_power_bal}\")\n",
        "    power_forecast = obs[6:9]\n",
        "    print(f\"Forecasted  power bal 1 hour ahead: {power_forecast[0]}.\")\n",
        "    print(f\"Forecasted  power bal 2 hour ahead: {power_forecast[1]}. \")\n",
        "    print(f\"Forecasted  power bal 3 hour ahead: {power_forecast[2]}. \")\n",
        "    price = obs[9:]\n",
        "    print(f\"current Purchase Prcie: {price[0]}.\")\n",
        "    print(f\"Forecasted  price 1 hour ahead: {price[1]}. \")\n",
        "    print(f\"Forecasted  price 2 hour ahead: {price[2]}. \")\n",
        "    print(f\"Forecasted  price 3 hour ahead: {price[3]}. \")\n",
        "    print(f\"_________________________________________________________________________________________________________________\")\n",
        "    print(f\"\")\n",
        "\n",
        "print(f\"The reset observation space looks like: {obs}\")\n",
        "\n",
        "print_obs()\n",
        "\n",
        "action_standby = -1\n",
        "obs,reward,terminated,truncated,info = base_env.step(action_standby)\n",
        "\n",
        "print_obs()\n",
        "\n",
        "obs,reward,terminated,truncated,info = base_env.step(action_standby)\n",
        "\n",
        "print_obs()\n",
        "\n",
        "\n",
        "obs,reward,terminated,truncated,info = base_env.step(action_standby)\n",
        "print_obs()\n",
        "\n",
        "action_standby = 1\n",
        "obs,reward,terminated,truncated,info = base_env.step(action_standby)\n",
        "print_obs(action_standby)\n",
        "\n",
        "#Evaluate the base model (no EMS, just using standby mode)\n",
        "#reset score\n",
        "score = 0\n",
        "obs,_    = base_env.reset()\n",
        "#ensure that the exit condition is reset\n",
        "truncated = False\n",
        "#define the action to take. -1 represents requesting to buy 0kw every step.\n",
        "action_standby = -1\n",
        "\n",
        "while not truncated:\n",
        "    obs,reward,terminated,truncated,info = base_env.step(action_standby)\n",
        "    score += reward\n",
        "\n",
        "print(f\"Done iteration! Total reward accumulated is: {score}\")"
      ]
    },
    {
      "cell_type": "markdown",
      "metadata": {
        "id": "7pAj6-n04zyt"
      },
      "source": [
        "**LOAD OR MAKE MODEL HERE!**"
      ]
    },
    {
      "cell_type": "code",
      "source": [
        "\n",
        "\n",
        "def linear_schedule(initial_value: float) -> Callable[[float], float]:\n",
        "    \"\"\"\n",
        "    Linear learning rate schedule.\n",
        "\n",
        "    :param initial_value: Initial learning rate.\n",
        "    :return: schedule that computes\n",
        "      current learning rate depending on remaining progress\n",
        "    \"\"\"\n",
        "    def func(progress_remaining: float) -> float:\n",
        "        \"\"\"\n",
        "        Progress will decrease from 1 (beginning) to 0.\n",
        "\n",
        "        :param progress_remaining:\n",
        "        :return: current learning rate\n",
        "        \"\"\"\n",
        "        return progress_remaining * initial_value\n",
        "\n",
        "    return func\n"
      ],
      "metadata": {
        "id": "pnO0Jh7fcBcl"
      },
      "execution_count": 8,
      "outputs": []
    },
    {
      "cell_type": "markdown",
      "source": [
        "test environment and load up the best performing model to test it.**"
      ],
      "metadata": {
        "id": "C9AGcLlsv4N7"
      }
    },
    {
      "cell_type": "code",
      "execution_count": 10,
      "metadata": {
        "id": "inDHszZaxBUS"
      },
      "outputs": [],
      "source": [
        "def evaluate_current_model(note,loadshedding,demand_charge,steps):\n",
        "    steps = int(steps)\n",
        "    config = {\n",
        "        \"policy_type\": \"MlpPolicy\",\n",
        "        \"total_timesteps\": steps,\n",
        "        \"notes\":f\"{note}_base\"\n",
        "    }\n",
        "\n",
        "    run = wandb.init(\n",
        "        project=\"4022_intelligent_ems\",\n",
        "        config=config,\n",
        "        sync_tensorboard=True,  # auto-upload sb3's tensorboard metrics\n",
        "        monitor_gym=True,  # auto-upload the videos of agents playing the game\n",
        "        save_code=True,  # optional\n",
        "    )\n",
        "\n",
        "\n",
        "    eval_args = {\n",
        "                    \"episode_len\"   :8760-steps,\n",
        "                    \"actual_load\"   :actual_load[steps:],\n",
        "                    \"load_forecast\" :load_forecast[steps: , :],\n",
        "                    \"actual_gen\"    :actual_gen[steps:],\n",
        "                    \"bat_threshold\" :100,\n",
        "                    \"bat_cap\"       :500,\n",
        "                    \"purchase_price\":purchase_price[steps:],\n",
        "                    \"num_preds\"     :n_preds,\n",
        "                    \"load_shedding\" :loadshedding,\n",
        "                    \"wandb_log\"     : True,\n",
        "                    \"train_log\"     : False,\n",
        "                    \"demand_flag\"   : demand_charge\n",
        "    }\n",
        "    #define 5 environments   for training and eval\n",
        "    eval_env = make_vec_env(EMS, n_envs = n_envs,env_kwargs = eval_args )\n",
        "    #first run it with only standby (default)\n",
        "    obs   = eval_env.reset()\n",
        "    #ensure that the exit condition is reset\n",
        "    done = [False]*n_envs\n",
        "    #define the action to take\n",
        "    action_standby = [-1]*n_envs\n",
        "    #reset score\n",
        "    standby_score = [0]*n_envs\n",
        "    standby_score = np.array(standby_score).astype(np.float32)\n",
        "    while not all(done):\n",
        "        #step the model with the action\n",
        "        obs,reward,done,info = eval_env.step(action_standby)\n",
        "        #accumulate the score\n",
        "        standby_score += reward\n",
        "    avg_standby_score = standby_score.mean()\n",
        "    run.finish()\n",
        "\n",
        "    #define 5 environments   for training and eval\n",
        "    eval_env = make_vec_env(EMS, n_envs = n_envs,env_kwargs = eval_args )\n",
        "\n",
        "    #Load model, fetch the latest (or whichever one you want from the model_dir)\n",
        "    #Best A2C model:/content/drive/MyDrive/Colab Notebooks/EMSv1_1/models/A2C/EMSv1_1_A2C1010-081818.zip\n",
        "    best_model =\"/content/drive/MyDrive/Colab Notebooks/EMSv2_1/models/PPO/EMSv2_1_PPO1017-110702.zip\"\n",
        "    #best_model =\n",
        "    #best_PPO_model\n",
        "    #model_load = f\"{best_model}\"\n",
        "\n",
        "    #model  = PPO.load(model_load, env = eval_env)\n",
        "    config = {\n",
        "        \"policy_type\": \"MlpPolicy\",\n",
        "        \"total_timesteps\": steps,\n",
        "        \"notes\":f\"{note}_eval\"\n",
        "    }\n",
        "\n",
        "    run = wandb.init(\n",
        "        project=\"4022_intelligent_ems\",\n",
        "        config=config,\n",
        "        sync_tensorboard=True,  # auto-upload sb3's tensorboard metrics\n",
        "        monitor_gym=True,  # auto-upload the videos of agents playing the game\n",
        "        save_code=True,  # optional\n",
        "    )\n",
        "    obs   = eval_env.reset()\n",
        "    model  = PPO.load(\"model\", env = eval_env,tensorboard_log = f\"runs/{run.id}\")\n",
        "    EMS_reward,EMS_std_reward = evaluate_policy(model,eval_env,n_eval_episodes = 1,deterministic=True)# callback = wandb_callback\n",
        "    run.finish()\n",
        "\n",
        "    print(f\"Note: The term does not refer to the cost in rands but rather to the reward as defined by the reward function!\")\n",
        "    print(f\"Done the Standby Test! Total cost accumulated is: {avg_standby_score}\")\n",
        "    print(f\"Done applying the trained model! Total cost accumulated is: {EMS_reward} +- {EMS_std_reward}\")\n",
        "\n",
        "    savings = EMS_reward - avg_standby_score\n",
        "    print(f\"The amount that was saved by applying the EMS agent: {savings}\")\n",
        "    print(f\"This was saved over a period of {2760/24} days\")\n",
        "    print(f\"The savings represents {(savings/(-avg_standby_score))*100} % of the cost if no EMS is installed\")\n",
        "    print(f\"And it represents {(savings/(-EMS_reward))*100} % of the cost if the EMS is installed\")\n"
      ]
    },
    {
      "cell_type": "code",
      "source": [
        "def train_my_model(note,loadshedding,demand_flag,lr,steps):\n",
        "    model_note = note\n",
        "    steps = int(steps)\n",
        "    config = {\n",
        "        \"policy_type\": \"MlpPolicy\",\n",
        "        \"total_timesteps\": 1_000_000,\n",
        "        \"notes\": f\"{model_note}_train\"\n",
        "    }\n",
        "\n",
        "    run = wandb.init(\n",
        "        project=\"4022_intelligent_ems\",\n",
        "        config=config,\n",
        "        sync_tensorboard=True,  # auto-upload sb3's tensorboard metrics\n",
        "        monitor_gym=True,  # auto-upload the videos of agents playing the game\n",
        "        save_code=True,  # optional\n",
        "    )\n",
        "\n",
        "    #define 5 environments   for training and eval\n",
        "   # n_envs = 5\n",
        "    #define num predictions\n",
        "   # n_preds = 24\n",
        "\n",
        "    train_args = {\n",
        "                    \"episode_len\"   : steps,\n",
        "                    \"actual_load\"   : actual_load,\n",
        "                    \"load_forecast\" : load_forecast,\n",
        "                    \"actual_gen\"    : actual_gen,\n",
        "                    \"bat_threshold\" : 100,\n",
        "                    \"bat_cap\"       : 500,\n",
        "                    \"purchase_price\": purchase_price,\n",
        "                    \"num_preds\"     : n_preds,\n",
        "                    \"load_shedding\" : loadshedding,\n",
        "                    \"render_mode\"   : \"rgb_array\",\n",
        "                    \"wandb_log\"     : True,\n",
        "                    \"train_log\"     : True,\n",
        "                    \"demand_flag\"   : demand_flag\n",
        "\n",
        "                    }\n",
        "\n",
        "    train_env = make_vec_env(EMS, n_envs = n_envs,env_kwargs = train_args )\n",
        "\n",
        "    wand_eval = f\"{version}_{model_type}_eval\"+datetime.datetime.now().strftime(\"%Y%m%d-%H%M%S\")\n",
        "    wand_train = f\"{version}_{model_type}_train\"+datetime.datetime.now().strftime(\"%Y%m%d-%H%M%S\")\n",
        "    wandb_callback = WandbCallback(\n",
        "                    gradient_save_freq=100,\n",
        "                    model_save_path=f\"models/{run.id}.{datetime.datetime.now()}\",\n",
        "                    model_save_freq= 30000,\n",
        "                    verbose=2,\n",
        "                    log = \"all\",\n",
        "                )\n",
        "\n",
        "    #model_load = \"/content/drive/MyDrive/Colab Notebooks/EMSv2_7/models/PPO/EMSv2_7_PPO1018-225923.zip\"\n",
        "    model  = PPO.load(\"model\", env = train_env,learning_rate = linear_schedule(lr),tensorboard_log = f\"runs/{run.id}\")\n",
        "    #model = PPO(\"MlpPolicy\",train_env, verbose = 1, learning_rate = linear_schedule(0.002),tensorboard_log = f\"runs/{run.id}\")#learning_rate = 0.01, vf_coef = 0.2\n",
        "\n",
        "    model.learn(total_timesteps= config[\"total_timesteps\"],\n",
        "                tb_log_name = wand_train,\n",
        "                callback = wandb_callback\n",
        "                )\n",
        "\n",
        "    model.save(f\"{model_dir}{version}_{model_type}\"+datetime.datetime.now().strftime(\"%m%d-%H%M%S\"))\n",
        "    model.save(\"model\")\n",
        "    run.finish()"
      ],
      "metadata": {
        "id": "5cKsknGULCtO"
      },
      "execution_count": 11,
      "outputs": []
    },
    {
      "cell_type": "code",
      "execution_count": 17,
      "metadata": {
        "id": "gQDhUNGWeum4"
      },
      "outputs": [],
      "source": [
        "#define 5 environments   for training and eval\n",
        "n_envs = 5\n",
        "#define num predictions\n",
        "n_preds = 24\n",
        "def make_my_model():\n",
        "    train_args = {\n",
        "                \"episode_len\"   : 6000,\n",
        "                \"actual_load\"   : actual_load,\n",
        "                \"actual_gen\"    : actual_gen,\n",
        "                \"bat_threshold\" : 100,\n",
        "                \"bat_cap\"       : 600,\n",
        "                \"purchase_price\": purchase_price,\n",
        "                \"num_preds\"     : n_preds,\n",
        "                \"load_shedding\" : load_shedding,\n",
        "                \"render_mode\"   : \"rgb_array\",\n",
        "                \"wandb_log\"     : True,\n",
        "                \"train_log\"     : True,\n",
        "                \"demand_flag\"   : False\n",
        "\n",
        "                        }\n",
        "\n",
        "    train_env = make_vec_env(EMS, n_envs = n_envs,env_kwargs = train_args )\n",
        "    model_load = \"/content/EEE4022S_BNKJUL001_Thesis/PythonWorkspace/model.zip\"\n",
        "    model  = PPO.load(model_load, env = train_env)\n",
        "    #model = PPO(\"MlpPolicy\", train_env,verbose = 1)\n",
        "    model.save(\"model\")\n",
        "    #   c163c28885695cb2b0493ac455e296dcc8bc462a"
      ]
    },
    {
      "cell_type": "code",
      "source": [
        "#no_shedding = np.zeros(len(load_shedding)).astype(np.float32)\n",
        "#train_my_model('Neither',no_shedding,False,0.01,len(actual_load)/2)\n",
        "#evaluate_current_model('Neither',no_shedding,False,len(actual_load)/2)"
      ],
      "metadata": {
        "id": "DVMSShWpcK-a"
      },
      "execution_count": null,
      "outputs": []
    },
    {
      "cell_type": "code",
      "source": [
        "make_my_model()\n",
        "no_load_shed = np.zeros(int(len(load_shedding)/2)).astype(np.float32)\n",
        "train_my_model(\"Neither\",no_load_shed,False,0.01,len(actual_load)/2)\n",
        "evaluate_current_model(\"Neither trained - only Demand\",no_load_shed,True,len(actual_load)/2)"
      ],
      "metadata": {
        "id": "fxKc1iW1fF8Q"
      },
      "execution_count": null,
      "outputs": []
    },
    {
      "cell_type": "code",
      "source": [
        "make_my_model()\n",
        "train_my_model(\"Neither  1 \",no_load_shed,False,0.01,len(actual_load)/2)\n",
        "evaluate_current_model(\"Neither trained - only Demand 1\",no_load_shed,True,len(actual_load)/2)"
      ],
      "metadata": {
        "id": "CasouWUcUOpM"
      },
      "execution_count": null,
      "outputs": []
    },
    {
      "cell_type": "code",
      "source": [
        "make_my_model()\n",
        "train_my_model(\"Only demand 2 \",no_load_shed,True,0.01,len(actual_load)/2)\n",
        "evaluate_current_model(\"only Demand 2\",no_load_shed,True,len(actual_load)/2)"
      ],
      "metadata": {
        "id": "gTCnv5PTUQ3M"
      },
      "execution_count": null,
      "outputs": []
    },
    {
      "cell_type": "code",
      "source": [
        "make_my_model()\n",
        "#train_my_model(\"Only Load shedding 1\",load_shedding[int(len(load_shedding)/2):],False,0.01,len(actual_load)/2)\n",
        "#evaluate_current_model(\"only load shedding - sarima forecasts\",load_shedding[int(len(load_shedding)/2):],False,len(actual_load)/2)\n",
        "\n",
        "evaluate_current_model(\"Both - sarima forecasts\",load_shedding[int(len(load_shedding)/2):],True,len(actual_load)/2)\n",
        "no_load_shed = np.zeros(int(len(load_shedding)/2)).astype(np.float32)\n",
        "evaluate_current_model(\"only Demand-sarima forecasts\",no_load_shed,True,len(actual_load)/2)"
      ],
      "metadata": {
        "colab": {
          "base_uri": "https://localhost:8080/",
          "height": 1000,
          "referenced_widgets": [
            "8a741219b9794534ba4e75a57b73fd69",
            "ec0d0565d5ba4f11a6d300ad32d1f5dc",
            "90d80713f5e441489483c996f7296d03",
            "5c24138de7e9481f9e0877c1b71c82f3",
            "5957b198678043a59164a3e14ece48c5",
            "2d7e615174ab4da99884e27ddb156d47",
            "cbe978c0ad894fc7b952c412b0f7292c",
            "37c9cf041ee540f1bdeaca8f5d791ef1"
          ]
        },
        "id": "deG68bgiT1CU",
        "outputId": "62d2d2ab-91e2-4f20-a629-60d94e1c1f2e"
      },
      "execution_count": 18,
      "outputs": [
        {
          "output_type": "display_data",
          "data": {
            "text/plain": [
              "<IPython.core.display.HTML object>"
            ],
            "text/html": [
              "Finishing last run (ID:qcycnd4k) before initializing another..."
            ]
          },
          "metadata": {}
        },
        {
          "output_type": "display_data",
          "data": {
            "text/plain": [
              "<IPython.core.display.HTML object>"
            ],
            "text/html": [
              "Waiting for W&B process to finish... <strong style=\"color:green\">(success).</strong>"
            ]
          },
          "metadata": {}
        },
        {
          "output_type": "display_data",
          "data": {
            "text/plain": [
              "VBox(children=(Label(value='0.475 MB of 0.475 MB uploaded (0.000 MB deduped)\\r'), FloatProgress(value=1.0, max…"
            ],
            "application/vnd.jupyter.widget-view+json": {
              "version_major": 2,
              "version_minor": 0,
              "model_id": "8a741219b9794534ba4e75a57b73fd69"
            }
          },
          "metadata": {}
        },
        {
          "output_type": "display_data",
          "data": {
            "text/plain": [
              "<IPython.core.display.HTML object>"
            ],
            "text/html": [
              " View run <strong style=\"color:#cdcd00\">robust-oath-476</strong> at: <a href='https://wandb.ai/4022_intelligent_ems/4022_intelligent_ems/runs/qcycnd4k' target=\"_blank\">https://wandb.ai/4022_intelligent_ems/4022_intelligent_ems/runs/qcycnd4k</a><br/>Synced 5 W&B file(s), 0 media file(s), 6 artifact file(s) and 1 other file(s)"
            ]
          },
          "metadata": {}
        },
        {
          "output_type": "display_data",
          "data": {
            "text/plain": [
              "<IPython.core.display.HTML object>"
            ],
            "text/html": [
              "Find logs at: <code>./wandb/run-20231025_185030-qcycnd4k/logs</code>"
            ]
          },
          "metadata": {}
        },
        {
          "output_type": "display_data",
          "data": {
            "text/plain": [
              "<IPython.core.display.HTML object>"
            ],
            "text/html": [
              "Successfully finished last run (ID:qcycnd4k). Initializing new run:<br/>"
            ]
          },
          "metadata": {}
        },
        {
          "output_type": "display_data",
          "data": {
            "text/plain": [
              "<IPython.core.display.HTML object>"
            ],
            "text/html": [
              "Tracking run with wandb version 0.15.12"
            ]
          },
          "metadata": {}
        },
        {
          "output_type": "display_data",
          "data": {
            "text/plain": [
              "<IPython.core.display.HTML object>"
            ],
            "text/html": [
              "Run data is saved locally in <code>/content/EEE4022S_BNKJUL001_Thesis/wandb/run-20231025_185139-t1erv6ox</code>"
            ]
          },
          "metadata": {}
        },
        {
          "output_type": "display_data",
          "data": {
            "text/plain": [
              "<IPython.core.display.HTML object>"
            ],
            "text/html": [
              "Syncing run <strong><a href='https://wandb.ai/4022_intelligent_ems/4022_intelligent_ems/runs/t1erv6ox' target=\"_blank\">hearty-river-477</a></strong> to <a href='https://wandb.ai/4022_intelligent_ems/4022_intelligent_ems' target=\"_blank\">Weights & Biases</a> (<a href='https://wandb.me/run' target=\"_blank\">docs</a>)<br/>"
            ]
          },
          "metadata": {}
        },
        {
          "output_type": "display_data",
          "data": {
            "text/plain": [
              "<IPython.core.display.HTML object>"
            ],
            "text/html": [
              " View project at <a href='https://wandb.ai/4022_intelligent_ems/4022_intelligent_ems' target=\"_blank\">https://wandb.ai/4022_intelligent_ems/4022_intelligent_ems</a>"
            ]
          },
          "metadata": {}
        },
        {
          "output_type": "display_data",
          "data": {
            "text/plain": [
              "<IPython.core.display.HTML object>"
            ],
            "text/html": [
              " View run at <a href='https://wandb.ai/4022_intelligent_ems/4022_intelligent_ems/runs/t1erv6ox' target=\"_blank\">https://wandb.ai/4022_intelligent_ems/4022_intelligent_ems/runs/t1erv6ox</a>"
            ]
          },
          "metadata": {}
        },
        {
          "output_type": "display_data",
          "data": {
            "text/plain": [
              "<IPython.core.display.HTML object>"
            ],
            "text/html": [
              "Waiting for W&B process to finish... <strong style=\"color:green\">(success).</strong>"
            ]
          },
          "metadata": {}
        },
        {
          "output_type": "display_data",
          "data": {
            "text/plain": [
              "<IPython.core.display.HTML object>"
            ],
            "text/html": [
              "<style>\n",
              "    table.wandb td:nth-child(1) { padding: 0 10px; text-align: left ; width: auto;} td:nth-child(2) {text-align: left ; width: 100%}\n",
              "    .wandb-row { display: flex; flex-direction: row; flex-wrap: wrap; justify-content: flex-start; width: 100% }\n",
              "    .wandb-col { display: flex; flex-direction: column; flex-basis: 100%; flex: 1; padding: 10px; }\n",
              "    </style>\n",
              "<div class=\"wandb-row\"><div class=\"wandb-col\"><h3>Run history:</h3><br/><table class=\"wandb\"><tr><td>AC load</td><td>▅▄▂▂▃▃▂▇▃▂▇▆▂▆█▃▄▆▆▂▆▅▂▄▆▇▂▄▆▂▁▃▂▁▅▁▁▃▃▂</td></tr><tr><td>DC load</td><td>▅▄▂▂▄▂▃▅▂▂█▄▂▇▅▁▂▇▅▁▆▁▂▂█▄▁▁▆▁▃▂▁▁▃▂▂▂▁▃</td></tr><tr><td>Diesel Generator</td><td>▁▁▁▁▁▁▁▁▁▁▁▁▁▁▁▁▁▁▁▁▁▁▁▁▁▁▁▁▁▁▁▁▁▁▁▁▁▁▁▁</td></tr><tr><td>Excess Generation</td><td>▃▁▁▁▁▄▁▅▁▁▁▁▁▁▃▁▁▁▁▁▃▁▁▄▆▅▁▅▁▁▁██▁▁▇▁▁▁▁</td></tr><tr><td>Inverter total power flow</td><td>▁▁▁▄▁▁▁▅▁▁▅▂▁▁▂▁▁▄▁▁▁▆▁▁▄▄▁▂▁▁▁█▆▁▄▇▁▁▅▁</td></tr><tr><td>LoadShedding</td><td>▁▁▁▁▁▁▁▁▁▁▁▁▁▁▁▁▁▁▁▁▁▁▁▁▁▁▁▁▁▁▁▁█▁▁▁▁▁▁▁</td></tr><tr><td>Money Spent</td><td>▁█▁▁▇▁▆▁▃▆▄█▆▁▁▇▆▁▁▃▁▁▁▁▁▁▄▁▁▆▅▁▁▁▅▁▁▆▁▃</td></tr><tr><td>Num Diesel Gen Actions</td><td>▁▁▁▁▁▁▁▂▂▂▂▂▂▂▂▂▂▂▃▃▄▄▄▄▄▅▅▅▅▅▅▆▆▆▆▆▇▇██</td></tr><tr><td>Num Off-Peak Purchases</td><td>▁▁▁▂▂▂▂▃▃▃▃▃▄▄▄▄▄▅▅▅▅▅▆▆▆▆▆▆▆▇▇▇▇▇▇▇████</td></tr><tr><td>Num Peak Purchases</td><td>▁▁▂▂▂▂▂▃▃▃▃▃▄▄▄▄▅▅▅▅▅▆▆▆▆▆▇▇▇▇▇▇▇▇██████</td></tr><tr><td>Num Standard Purchases</td><td>▁▁▂▂▂▂▂▃▃▃▃▄▄▄▅▅▅▅▅▅▆▆▆▆▆▇▇▇▇▇▇▇▇███████</td></tr><tr><td>Off-Peak Purchases</td><td>▁█▁▁▇▁▆▁▁▆▄▁▆▁▁▁▇▁▁▄▁▁▁▁▁▁▄▁▁▁▆▁▁▁▁▁▁▆▁▃</td></tr><tr><td>PV generation</td><td>▃▁▁█▁▁▁▆▁▁▇▄▁▁▄▁▁█▅▁▄▆▁▁▇▅▁▃▃▁▁▇▅▁▅▇▁▁▆▁</td></tr><tr><td>Peak Purchases</td><td>▁▁▁▁▁▁▁▁▁▁▁▁▁▁▁▁▁▁▁▁▁▁▁▁▁▁▁▁▁▁▁▁▁▁█▁▁▁▁▁</td></tr><tr><td>Purchase Requested</td><td>▁▁▁▁▁▁▁▁▁▁▁▁▁▁▁▁▁▁▁▁▁▁▁▁▁▁▁▁▁▁▁▁▁▁▁▁▁▁▁▁</td></tr><tr><td>Rectifier total power flow</td><td>▅▄▆▁▄▃▄▁▃▃▁▁▃█▁▂▃▁▁▂▁▁▁▃▁▁▂▁▁▃▄▁▁▃▁▁▃▃▁▁</td></tr><tr><td>Standard Purchases</td><td>▁▁▁▁▁▁▁▁▃▁▁█▁▁▁█▁▁▁▁▁▁▁▁▁▁▁▁▁▇▁▁▁▁▁▁▁▁▁▁</td></tr><tr><td>Step Purchased</td><td>▁█▁▁▇▁▆▁▂▆▄▅▆▁▁▆▇▁▁▄▁▁▁▁▁▁▄▁▁▅▆▁▁▁▃▁▁▆▁▃</td></tr><tr><td>Total Reward</td><td>█▁██▂█▃█▆▃▅▁▃██▂▃██▆██████▅██▃▄███▄██▃█▆</td></tr><tr><td>Unmet Load</td><td>▁▁▁▁▁▁▁▁▁▁▁▁▁▁▁▁▁▁▁▁▁▁▁▁▁▁▁▁▁▁▁▁▁▁▁▁▁▁▁▁</td></tr><tr><td>Wind generation</td><td>█▁▅▁▁█▁▇▃▁▁▁▁█▇▁▁▃▅▂▆▁▃███▁█▃▁▁██▃▁▆▃▁▁▁</td></tr><tr><td>battery_level</td><td>▆▁▁▁▁█▁█▁▁▁▁▁▃█▁▁▂▇▁██▄███▂██▁▁██▃▁█▁▁▁▃</td></tr></table><br/></div><div class=\"wandb-col\"><h3>Run summary:</h3><br/><table class=\"wandb\"><tr><td>AC load</td><td>104.20567</td></tr><tr><td>DC load</td><td>54.2</td></tr><tr><td>Diesel Generator</td><td>0.0</td></tr><tr><td>Excess Generation</td><td>0.0</td></tr><tr><td>Inverter total power flow</td><td>0.0</td></tr><tr><td>LoadShedding</td><td>1.0</td></tr><tr><td>Money Spent</td><td>0.0</td></tr><tr><td>Num Diesel Gen Actions</td><td>69</td></tr><tr><td>Num Off-Peak Purchases</td><td>1049</td></tr><tr><td>Num Peak Purchases</td><td>196</td></tr><tr><td>Num Standard Purchases</td><td>333</td></tr><tr><td>Off-Peak Purchases</td><td>0.0</td></tr><tr><td>PV generation</td><td>0.0</td></tr><tr><td>Peak Purchases</td><td>0.0</td></tr><tr><td>Purchase Requested</td><td>0.0</td></tr><tr><td>Rectifier total power flow</td><td>0.0</td></tr><tr><td>Standard Purchases</td><td>0.0</td></tr><tr><td>Step Purchased</td><td>0.0</td></tr><tr><td>Total Reward</td><td>0.0</td></tr><tr><td>Unmet Load</td><td>0.0</td></tr><tr><td>Wind generation</td><td>0.0</td></tr><tr><td>battery_level</td><td>100.0</td></tr></table><br/></div></div>"
            ]
          },
          "metadata": {}
        },
        {
          "output_type": "display_data",
          "data": {
            "text/plain": [
              "<IPython.core.display.HTML object>"
            ],
            "text/html": [
              " View run <strong style=\"color:#cdcd00\">hearty-river-477</strong> at: <a href='https://wandb.ai/4022_intelligent_ems/4022_intelligent_ems/runs/t1erv6ox' target=\"_blank\">https://wandb.ai/4022_intelligent_ems/4022_intelligent_ems/runs/t1erv6ox</a><br/>Synced 4 W&B file(s), 35 media file(s), 7 artifact file(s) and 0 other file(s)"
            ]
          },
          "metadata": {}
        },
        {
          "output_type": "display_data",
          "data": {
            "text/plain": [
              "<IPython.core.display.HTML object>"
            ],
            "text/html": [
              "Find logs at: <code>./wandb/run-20231025_185139-t1erv6ox/logs</code>"
            ]
          },
          "metadata": {}
        },
        {
          "output_type": "stream",
          "name": "stderr",
          "text": [
            "\u001b[34m\u001b[1mwandb\u001b[0m: Currently logged in as: \u001b[33mbnkjul001_work\u001b[0m (\u001b[33m4022_intelligent_ems\u001b[0m). Use \u001b[1m`wandb login --relogin`\u001b[0m to force relogin\n"
          ]
        },
        {
          "output_type": "display_data",
          "data": {
            "text/plain": [
              "<IPython.core.display.HTML object>"
            ],
            "text/html": [
              "Tracking run with wandb version 0.15.12"
            ]
          },
          "metadata": {}
        },
        {
          "output_type": "display_data",
          "data": {
            "text/plain": [
              "<IPython.core.display.HTML object>"
            ],
            "text/html": [
              "Run data is saved locally in <code>/content/EEE4022S_BNKJUL001_Thesis/wandb/run-20231025_185350-qn2bd1u7</code>"
            ]
          },
          "metadata": {}
        },
        {
          "output_type": "display_data",
          "data": {
            "text/plain": [
              "<IPython.core.display.HTML object>"
            ],
            "text/html": [
              "Syncing run <strong><a href='https://wandb.ai/4022_intelligent_ems/4022_intelligent_ems/runs/qn2bd1u7' target=\"_blank\">playful-leaf-478</a></strong> to <a href='https://wandb.ai/4022_intelligent_ems/4022_intelligent_ems' target=\"_blank\">Weights & Biases</a> (<a href='https://wandb.me/run' target=\"_blank\">docs</a>)<br/>"
            ]
          },
          "metadata": {}
        },
        {
          "output_type": "display_data",
          "data": {
            "text/plain": [
              "<IPython.core.display.HTML object>"
            ],
            "text/html": [
              " View project at <a href='https://wandb.ai/4022_intelligent_ems/4022_intelligent_ems' target=\"_blank\">https://wandb.ai/4022_intelligent_ems/4022_intelligent_ems</a>"
            ]
          },
          "metadata": {}
        },
        {
          "output_type": "display_data",
          "data": {
            "text/plain": [
              "<IPython.core.display.HTML object>"
            ],
            "text/html": [
              " View run at <a href='https://wandb.ai/4022_intelligent_ems/4022_intelligent_ems/runs/qn2bd1u7' target=\"_blank\">https://wandb.ai/4022_intelligent_ems/4022_intelligent_ems/runs/qn2bd1u7</a>"
            ]
          },
          "metadata": {}
        },
        {
          "output_type": "display_data",
          "data": {
            "text/plain": [
              "<IPython.core.display.HTML object>"
            ],
            "text/html": [
              "Waiting for W&B process to finish... <strong style=\"color:green\">(success).</strong>"
            ]
          },
          "metadata": {}
        },
        {
          "output_type": "display_data",
          "data": {
            "text/plain": [
              "<IPython.core.display.HTML object>"
            ],
            "text/html": [
              "<style>\n",
              "    table.wandb td:nth-child(1) { padding: 0 10px; text-align: left ; width: auto;} td:nth-child(2) {text-align: left ; width: 100%}\n",
              "    .wandb-row { display: flex; flex-direction: row; flex-wrap: wrap; justify-content: flex-start; width: 100% }\n",
              "    .wandb-col { display: flex; flex-direction: column; flex-basis: 100%; flex: 1; padding: 10px; }\n",
              "    </style>\n",
              "<div class=\"wandb-row\"><div class=\"wandb-col\"><h3>Run history:</h3><br/><table class=\"wandb\"><tr><td>AC load</td><td>▅▄▂▂▃▃▂▇▃▂▇▆▂▆█▃▄▆▆▂▆▅▂▄▆▇▂▄▆▂▁▃▂▁▅▁▁▃▃▂</td></tr><tr><td>DC load</td><td>▅▄▂▂▄▂▃▅▂▂█▄▂▇▅▁▂▇▅▁▆▁▂▂█▄▁▁▆▁▃▂▁▁▃▂▂▂▁▃</td></tr><tr><td>Diesel Generator</td><td>▁▁▁▁▁▁▁▁▁▁▁▁▁▁▁▁▁▁▁▁▁▁▁▁▁▁▁▁▁▁▁▁▁▁▁▁▁▁▁▁</td></tr><tr><td>Excess Generation</td><td>▃▁▁▁▁▄▁▅▁▁▁▁▁▁▃▁▁▁▂▁▃▁▁▄▆▅▁▅▁▁▁██▁▁▇▁▁▁▁</td></tr><tr><td>Inverter total power flow</td><td>▁▁▁▄▁▁▁▅▁▁▅▂▁▁▂▁▁▄▃▁▁▆▁▁▄▄▁▂▁▁▁█▆▁▃▇▁▁▅▁</td></tr><tr><td>LoadShedding</td><td>▁▁▁▁▁▁▁▁▁▁▁▁▁▁▁▁▁▁▁▁▁▁▁▁▁▁▁▁▁▁▁▁█▁▁▁▁▁▁▁</td></tr><tr><td>Money Spent</td><td>▁█▅▁▆▁█▁▂▇▃█▅▁▁█▇▁▁▅▁▁▃▁▁▁▃▁▁▅▇▁▁▁▅▁▂▇▁▄</td></tr><tr><td>Num Diesel Gen Actions</td><td>▁▁▅▅▅▅▅▅▅▅▅▅▅▅▅▅▅▅▅█████████████████████</td></tr><tr><td>Num Off-Peak Purchases</td><td>▁▁▁▂▂▂▂▃▃▃▃▃▄▄▄▄▄▅▅▅▅▅▅▆▆▆▆▆▆▆▇▇▇▇▇▇████</td></tr><tr><td>Num Peak Purchases</td><td>▁▁▁▁▂▂▂▂▂▂▃▃▃▃▄▄▄▄▄▅▅▅▆▆▆▆▆▆▆▇▇▇▇▇▇▇▇███</td></tr><tr><td>Num Standard Purchases</td><td>▁▁▁▂▂▂▂▃▃▃▃▃▄▄▄▄▅▅▅▅▅▆▆▆▆▆▇▇▇▇▇▇▇▇▇▇████</td></tr><tr><td>Off-Peak Purchases</td><td>▁█▅▁▆▁█▁▁█▄▁▅▁▁▁▇▁▁▅▁▁▁▁▁▁▃▁▁▁█▁▁▁▁▁▂█▁▅</td></tr><tr><td>PV generation</td><td>▃▁▁█▁▁▁▆▁▁▇▄▁▁▄▁▁█▅▁▄▆▁▁▇▅▁▃▃▁▁▇▅▁▅▇▁▁▆▁</td></tr><tr><td>Peak Purchases</td><td>▁▁▁▁▁▁▁▁▁▁▁▁▁▁▁▁▁▁▁▁▁▁▁▁▁▁▁▁▁▁▁▁▁▁█▁▁▁▁▁</td></tr><tr><td>Purchase Requested</td><td>▁▆▅▁▆▁█▁▂█▂▆▅▁▁▇▇▁▁▅▁▁▂▁▁▁▃▁▁▅█▁▁▁▄▁▂█▁▅</td></tr><tr><td>Rectifier total power flow</td><td>▃▃█▁▂▂▄▁▂▄▁▁▂▆▁▃▃▁▁▃▁▁▂▂▁▁▁▁▁▂▅▁▁▃▁▁▃▃▁▂</td></tr><tr><td>Standard Purchases</td><td>▁▁▁▁▁▁▁▁▃▁▁▇▁▁▁█▁▁▁▁▁▁▃▁▁▁▁▁▁▆▁▁▁▁▁▁▁▁▁▁</td></tr><tr><td>Step Purchased</td><td>▁█▅▁▆▁█▁▂█▄▆▅▁▁▇▇▁▁▅▁▁▂▁▁▁▃▁▁▅█▁▁▁▄▁▂█▁▅</td></tr><tr><td>Total Reward</td><td>█▁▄█▃█▁█▇▂▆▁▄██▁▂██▄██▆███▆██▄▂███▄█▇▂█▅</td></tr><tr><td>Unmet Load</td><td>▁▁▁▁▁▁▁▁▁▁▁▁▁▁▁▁▁▁▁▁▁▁▁▁▁▁▁▁▁▁▁▁▁▁▁▁▁▁▁▁</td></tr><tr><td>Wind generation</td><td>█▁▅▁▁█▁▇▃▁▁▁▁█▇▁▁▃▅▂▆▁▃███▁█▃▁▁██▃▁▆▃▁▁▁</td></tr><tr><td>battery_level</td><td>▆▁▂▂▂█▅█▂▄▁▁▃▃█▃▄▂█▃██▄███▅██▃▅██▄▃█▂▇▁▆</td></tr></table><br/></div><div class=\"wandb-col\"><h3>Run summary:</h3><br/><table class=\"wandb\"><tr><td>AC load</td><td>104.20567</td></tr><tr><td>DC load</td><td>54.2</td></tr><tr><td>Diesel Generator</td><td>0.0</td></tr><tr><td>Excess Generation</td><td>0.0</td></tr><tr><td>Inverter total power flow</td><td>0.0</td></tr><tr><td>LoadShedding</td><td>1.0</td></tr><tr><td>Money Spent</td><td>0.0</td></tr><tr><td>Num Diesel Gen Actions</td><td>2</td></tr><tr><td>Num Off-Peak Purchases</td><td>1270</td></tr><tr><td>Num Peak Purchases</td><td>185</td></tr><tr><td>Num Standard Purchases</td><td>429</td></tr><tr><td>Off-Peak Purchases</td><td>0.0</td></tr><tr><td>PV generation</td><td>0.0</td></tr><tr><td>Peak Purchases</td><td>0.0</td></tr><tr><td>Purchase Requested</td><td>0.0</td></tr><tr><td>Rectifier total power flow</td><td>0.0</td></tr><tr><td>Standard Purchases</td><td>0.0</td></tr><tr><td>Step Purchased</td><td>0.0</td></tr><tr><td>Total Reward</td><td>0.0</td></tr><tr><td>Unmet Load</td><td>0.0</td></tr><tr><td>Wind generation</td><td>0.0</td></tr><tr><td>battery_level</td><td>475.56596</td></tr></table><br/></div></div>"
            ]
          },
          "metadata": {}
        },
        {
          "output_type": "display_data",
          "data": {
            "text/plain": [
              "<IPython.core.display.HTML object>"
            ],
            "text/html": [
              " View run <strong style=\"color:#cdcd00\">playful-leaf-478</strong> at: <a href='https://wandb.ai/4022_intelligent_ems/4022_intelligent_ems/runs/qn2bd1u7' target=\"_blank\">https://wandb.ai/4022_intelligent_ems/4022_intelligent_ems/runs/qn2bd1u7</a><br/>Synced 4 W&B file(s), 35 media file(s), 9 artifact file(s) and 1 other file(s)"
            ]
          },
          "metadata": {}
        },
        {
          "output_type": "display_data",
          "data": {
            "text/plain": [
              "<IPython.core.display.HTML object>"
            ],
            "text/html": [
              "Find logs at: <code>./wandb/run-20231025_185350-qn2bd1u7/logs</code>"
            ]
          },
          "metadata": {}
        },
        {
          "output_type": "stream",
          "name": "stdout",
          "text": [
            "Note: The term does not refer to the cost in rands but rather to the reward as defined by the reward function!\n",
            "Done the Standby Test! Total cost accumulated is: -555625.75\n",
            "Done applying the trained model! Total cost accumulated is: -457299.620635 +- 0.0\n",
            "The amount that was saved by applying the EMS agent: 98326.129365\n",
            "This was saved over a period of 115.0 days\n",
            "The savings represents 17.696467337051963 % of the cost if no EMS is installed\n",
            "And it represents 21.50146751236436 % of the cost if the EMS is installed\n"
          ]
        },
        {
          "output_type": "display_data",
          "data": {
            "text/plain": [
              "<IPython.core.display.HTML object>"
            ],
            "text/html": [
              "Tracking run with wandb version 0.15.12"
            ]
          },
          "metadata": {}
        },
        {
          "output_type": "display_data",
          "data": {
            "text/plain": [
              "<IPython.core.display.HTML object>"
            ],
            "text/html": [
              "Run data is saved locally in <code>/content/EEE4022S_BNKJUL001_Thesis/wandb/run-20231025_185544-0jh0jx2n</code>"
            ]
          },
          "metadata": {}
        },
        {
          "output_type": "display_data",
          "data": {
            "text/plain": [
              "<IPython.core.display.HTML object>"
            ],
            "text/html": [
              "Syncing run <strong><a href='https://wandb.ai/4022_intelligent_ems/4022_intelligent_ems/runs/0jh0jx2n' target=\"_blank\">elated-cloud-479</a></strong> to <a href='https://wandb.ai/4022_intelligent_ems/4022_intelligent_ems' target=\"_blank\">Weights & Biases</a> (<a href='https://wandb.me/run' target=\"_blank\">docs</a>)<br/>"
            ]
          },
          "metadata": {}
        },
        {
          "output_type": "display_data",
          "data": {
            "text/plain": [
              "<IPython.core.display.HTML object>"
            ],
            "text/html": [
              " View project at <a href='https://wandb.ai/4022_intelligent_ems/4022_intelligent_ems' target=\"_blank\">https://wandb.ai/4022_intelligent_ems/4022_intelligent_ems</a>"
            ]
          },
          "metadata": {}
        },
        {
          "output_type": "display_data",
          "data": {
            "text/plain": [
              "<IPython.core.display.HTML object>"
            ],
            "text/html": [
              " View run at <a href='https://wandb.ai/4022_intelligent_ems/4022_intelligent_ems/runs/0jh0jx2n' target=\"_blank\">https://wandb.ai/4022_intelligent_ems/4022_intelligent_ems/runs/0jh0jx2n</a>"
            ]
          },
          "metadata": {}
        },
        {
          "output_type": "display_data",
          "data": {
            "text/plain": [
              "<IPython.core.display.HTML object>"
            ],
            "text/html": [
              "Waiting for W&B process to finish... <strong style=\"color:green\">(success).</strong>"
            ]
          },
          "metadata": {}
        },
        {
          "output_type": "display_data",
          "data": {
            "text/plain": [
              "<IPython.core.display.HTML object>"
            ],
            "text/html": [
              "<style>\n",
              "    table.wandb td:nth-child(1) { padding: 0 10px; text-align: left ; width: auto;} td:nth-child(2) {text-align: left ; width: 100%}\n",
              "    .wandb-row { display: flex; flex-direction: row; flex-wrap: wrap; justify-content: flex-start; width: 100% }\n",
              "    .wandb-col { display: flex; flex-direction: column; flex-basis: 100%; flex: 1; padding: 10px; }\n",
              "    </style>\n",
              "<div class=\"wandb-row\"><div class=\"wandb-col\"><h3>Run history:</h3><br/><table class=\"wandb\"><tr><td>AC load</td><td>▅▄▂▂▃▃▂▇▃▂▇▆▂▆█▃▄▆▆▂▆▅▂▄▆▇▂▄▆▂▁▃▂▁▅▁▁▃▃▂</td></tr><tr><td>DC load</td><td>▅▄▂▂▄▂▃▅▂▂█▄▂▇▅▁▂▇▅▁▆▁▂▂█▄▁▁▆▁▃▂▁▁▃▂▂▂▁▃</td></tr><tr><td>Diesel Generator</td><td>▁▁▁▁▁▁▁▁▁▁▁▁▁▁▁▁▁▁▁▁▁▁▁▁▁▁▁▁▁▁▁▁▁▁▁▁▁▁▁▁</td></tr><tr><td>Excess Generation</td><td>▃▁▁▁▁▄▁▅▁▁▁▁▁▁▃▁▁▁▁▁▃▁▁▄▆▅▁▅▁▁▁██▁▁▇▁▁▁▁</td></tr><tr><td>Inverter total power flow</td><td>▁▁▁▄▁▁▁▅▁▁▅▂▁▁▂▁▁▄▁▁▁▆▁▁▄▄▁▂▁▁▁█▆▁▄▇▁▁▅▁</td></tr><tr><td>LoadShedding</td><td>▁▁▁▁▁▁▁▁▁▁▁▁▁▁▁▁▁▁▁▁▁▁▁▁▁▁▁▁▁▁▁▁█▁▁▁▁▁▁▁</td></tr><tr><td>Money Spent</td><td>▁█▁▁▇▁▆▁▃▆▄█▆▁▁▇▆▁▁▃▁▁▁▁▁▁▄▁▁▆▅▁▁▁▅▁▁▆▁▃</td></tr><tr><td>Num Diesel Gen Actions</td><td>▁▁▁▁▁▁▁▂▂▂▂▂▂▂▂▂▂▂▃▃▄▄▄▄▄▅▅▅▅▅▅▆▆▆▆▆▇▇██</td></tr><tr><td>Num Off-Peak Purchases</td><td>▁▁▁▂▂▂▂▃▃▃▃▃▄▄▄▄▄▅▅▅▅▅▆▆▆▆▆▆▆▇▇▇▇▇▇▇████</td></tr><tr><td>Num Peak Purchases</td><td>▁▁▂▂▂▂▂▃▃▃▃▃▄▄▄▄▅▅▅▅▅▆▆▆▆▆▇▇▇▇▇▇▇▇██████</td></tr><tr><td>Num Standard Purchases</td><td>▁▁▂▂▂▂▂▃▃▃▃▄▄▄▅▅▅▅▅▅▆▆▆▆▆▇▇▇▇▇▇▇▇███████</td></tr><tr><td>Off-Peak Purchases</td><td>▁█▁▁▇▁▆▁▁▆▄▁▆▁▁▁▇▁▁▄▁▁▁▁▁▁▄▁▁▁▆▁▁▁▁▁▁▆▁▃</td></tr><tr><td>PV generation</td><td>▃▁▁█▁▁▁▆▁▁▇▄▁▁▄▁▁█▅▁▄▆▁▁▇▅▁▃▃▁▁▇▅▁▅▇▁▁▆▁</td></tr><tr><td>Peak Purchases</td><td>▁▁▁▁▁▁▁▁▁▁▁▁▁▁▁▁▁▁▁▁▁▁▁▁▁▁▁▁▁▁▁▁▁▁█▁▁▁▁▁</td></tr><tr><td>Purchase Requested</td><td>▁▁▁▁▁▁▁▁▁▁▁▁▁▁▁▁▁▁▁▁▁▁▁▁▁▁▁▁▁▁▁▁▁▁▁▁▁▁▁▁</td></tr><tr><td>Rectifier total power flow</td><td>▅▄▆▁▄▃▄▁▃▃▁▁▃█▁▂▃▁▁▂▁▁▁▃▁▁▂▁▁▃▄▁▁▃▁▁▃▃▁▁</td></tr><tr><td>Standard Purchases</td><td>▁▁▁▁▁▁▁▁▃▁▁█▁▁▁█▁▁▁▁▁▁▁▁▁▁▁▁▁▇▁▁▁▁▁▁▁▁▁▁</td></tr><tr><td>Step Purchased</td><td>▁█▁▁▇▁▆▁▂▆▄▅▆▁▁▆▇▁▁▄▁▁▁▁▁▁▄▁▁▅▆▁▁▁▃▁▁▆▁▃</td></tr><tr><td>Total Reward</td><td>█▁██▂█▃█▇▄▆▂▄██▃▃██▆██████▅██▃▄███▅██▃█▆</td></tr><tr><td>Unmet Load</td><td>▁▁▁▁▁▁▁▁▁▁▁▁▁▁▁▁▁▁▁▁▁▁▁▁▁▁▁▁▁▁▁▁▁▁▁▁▁▁▁▁</td></tr><tr><td>Wind generation</td><td>█▁▅▁▁█▁▇▃▁▁▁▁█▇▁▁▃▅▂▆▁▃███▁█▃▁▁██▃▁▆▃▁▁▁</td></tr><tr><td>battery_level</td><td>▆▁▁▁▁█▁█▁▁▁▁▁▃█▁▁▂▇▁██▄███▂██▁▁██▃▁█▁▁▁▃</td></tr></table><br/></div><div class=\"wandb-col\"><h3>Run summary:</h3><br/><table class=\"wandb\"><tr><td>AC load</td><td>104.20567</td></tr><tr><td>DC load</td><td>54.2</td></tr><tr><td>Diesel Generator</td><td>0.0</td></tr><tr><td>Excess Generation</td><td>0.0</td></tr><tr><td>Inverter total power flow</td><td>0.0</td></tr><tr><td>LoadShedding</td><td>1.0</td></tr><tr><td>Money Spent</td><td>0.0</td></tr><tr><td>Num Diesel Gen Actions</td><td>69</td></tr><tr><td>Num Off-Peak Purchases</td><td>1049</td></tr><tr><td>Num Peak Purchases</td><td>196</td></tr><tr><td>Num Standard Purchases</td><td>333</td></tr><tr><td>Off-Peak Purchases</td><td>0.0</td></tr><tr><td>PV generation</td><td>0.0</td></tr><tr><td>Peak Purchases</td><td>0.0</td></tr><tr><td>Purchase Requested</td><td>0.0</td></tr><tr><td>Rectifier total power flow</td><td>0.0</td></tr><tr><td>Standard Purchases</td><td>0.0</td></tr><tr><td>Step Purchased</td><td>0.0</td></tr><tr><td>Total Reward</td><td>0.0</td></tr><tr><td>Unmet Load</td><td>0.0</td></tr><tr><td>Wind generation</td><td>0.0</td></tr><tr><td>battery_level</td><td>100.0</td></tr></table><br/></div></div>"
            ]
          },
          "metadata": {}
        },
        {
          "output_type": "display_data",
          "data": {
            "text/plain": [
              "<IPython.core.display.HTML object>"
            ],
            "text/html": [
              " View run <strong style=\"color:#cdcd00\">elated-cloud-479</strong> at: <a href='https://wandb.ai/4022_intelligent_ems/4022_intelligent_ems/runs/0jh0jx2n' target=\"_blank\">https://wandb.ai/4022_intelligent_ems/4022_intelligent_ems/runs/0jh0jx2n</a><br/>Synced 4 W&B file(s), 35 media file(s), 9 artifact file(s) and 1 other file(s)"
            ]
          },
          "metadata": {}
        },
        {
          "output_type": "display_data",
          "data": {
            "text/plain": [
              "<IPython.core.display.HTML object>"
            ],
            "text/html": [
              "Find logs at: <code>./wandb/run-20231025_185544-0jh0jx2n/logs</code>"
            ]
          },
          "metadata": {}
        },
        {
          "output_type": "display_data",
          "data": {
            "text/plain": [
              "<IPython.core.display.HTML object>"
            ],
            "text/html": [
              "Tracking run with wandb version 0.15.12"
            ]
          },
          "metadata": {}
        },
        {
          "output_type": "display_data",
          "data": {
            "text/plain": [
              "<IPython.core.display.HTML object>"
            ],
            "text/html": [
              "Run data is saved locally in <code>/content/EEE4022S_BNKJUL001_Thesis/wandb/run-20231025_185744-dfw4ljbk</code>"
            ]
          },
          "metadata": {}
        },
        {
          "output_type": "display_data",
          "data": {
            "text/plain": [
              "<IPython.core.display.HTML object>"
            ],
            "text/html": [
              "Syncing run <strong><a href='https://wandb.ai/4022_intelligent_ems/4022_intelligent_ems/runs/dfw4ljbk' target=\"_blank\">proud-frost-480</a></strong> to <a href='https://wandb.ai/4022_intelligent_ems/4022_intelligent_ems' target=\"_blank\">Weights & Biases</a> (<a href='https://wandb.me/run' target=\"_blank\">docs</a>)<br/>"
            ]
          },
          "metadata": {}
        },
        {
          "output_type": "display_data",
          "data": {
            "text/plain": [
              "<IPython.core.display.HTML object>"
            ],
            "text/html": [
              " View project at <a href='https://wandb.ai/4022_intelligent_ems/4022_intelligent_ems' target=\"_blank\">https://wandb.ai/4022_intelligent_ems/4022_intelligent_ems</a>"
            ]
          },
          "metadata": {}
        },
        {
          "output_type": "display_data",
          "data": {
            "text/plain": [
              "<IPython.core.display.HTML object>"
            ],
            "text/html": [
              " View run at <a href='https://wandb.ai/4022_intelligent_ems/4022_intelligent_ems/runs/dfw4ljbk' target=\"_blank\">https://wandb.ai/4022_intelligent_ems/4022_intelligent_ems/runs/dfw4ljbk</a>"
            ]
          },
          "metadata": {}
        },
        {
          "output_type": "display_data",
          "data": {
            "text/plain": [
              "<IPython.core.display.HTML object>"
            ],
            "text/html": [
              "Waiting for W&B process to finish... <strong style=\"color:green\">(success).</strong>"
            ]
          },
          "metadata": {}
        },
        {
          "output_type": "display_data",
          "data": {
            "text/plain": [
              "<IPython.core.display.HTML object>"
            ],
            "text/html": [
              "<style>\n",
              "    table.wandb td:nth-child(1) { padding: 0 10px; text-align: left ; width: auto;} td:nth-child(2) {text-align: left ; width: 100%}\n",
              "    .wandb-row { display: flex; flex-direction: row; flex-wrap: wrap; justify-content: flex-start; width: 100% }\n",
              "    .wandb-col { display: flex; flex-direction: column; flex-basis: 100%; flex: 1; padding: 10px; }\n",
              "    </style>\n",
              "<div class=\"wandb-row\"><div class=\"wandb-col\"><h3>Run history:</h3><br/><table class=\"wandb\"><tr><td>AC load</td><td>▅▄▂▂▃▃▂▇▃▂▇▆▂▆█▃▄▆▆▂▆▅▂▄▆▇▂▄▆▂▁▃▂▁▅▁▁▃▃▂</td></tr><tr><td>DC load</td><td>▅▄▂▂▄▂▃▅▂▂█▄▂▇▅▁▂▇▅▁▆▁▂▂█▄▁▁▆▁▃▂▁▁▃▂▂▂▁▃</td></tr><tr><td>Diesel Generator</td><td>▁▁▁▁▁▁▁▁▁▁▁▁▁▁▁▁▁▁▁▁▁▁▁▁▁▁▁▁▁▁▁▁▁▁▁▁▁▁▁▁</td></tr><tr><td>Excess Generation</td><td>▃▁▁▁▁▄▁▅▁▁▁▁▁▁▃▁▁▁▂▁▃▁▁▄▆▅▁▅▁▁▁██▁▁▇▁▁▁▁</td></tr><tr><td>Inverter total power flow</td><td>▁▁▁▄▁▁▁▅▁▁▅▂▁▁▂▁▁▄▃▁▁▆▁▁▄▄▁▂▁▁▁█▆▁▃▇▁▁▅▁</td></tr><tr><td>LoadShedding</td><td>▁▁▁▁▁▁▁▁▁▁▁▁▁▁▁▁▁▁▁▁▁▁▁▁▁▁▁▁▁▁▁▁█▁▁▁▁▁▁▁</td></tr><tr><td>Money Spent</td><td>▁█▅▁▆▁█▁▂▇▃█▅▁▁█▇▁▁▅▁▁▃▁▁▁▃▁▁▅▇▁▁▁▅▁▂▇▁▄</td></tr><tr><td>Num Diesel Gen Actions</td><td>▁▁▅▅▅▅▅▅▅▅▅▅▅▅▅▅▅▅▅█████████████████████</td></tr><tr><td>Num Off-Peak Purchases</td><td>▁▁▁▂▂▂▂▃▃▃▃▃▄▄▄▄▄▅▅▅▅▅▅▆▆▆▆▆▆▆▇▇▇▇▇▇████</td></tr><tr><td>Num Peak Purchases</td><td>▁▁▁▁▂▂▂▂▂▂▃▃▃▃▄▄▄▄▄▅▅▅▆▆▆▆▆▆▆▇▇▇▇▇▇▇▇███</td></tr><tr><td>Num Standard Purchases</td><td>▁▁▁▂▂▂▂▃▃▃▃▃▄▄▄▄▅▅▅▅▅▆▆▆▆▆▇▇▇▇▇▇▇▇▇▇████</td></tr><tr><td>Off-Peak Purchases</td><td>▁█▅▁▆▁█▁▁█▄▁▅▁▁▁▇▁▁▅▁▁▁▁▁▁▃▁▁▁█▁▁▁▁▁▂█▁▅</td></tr><tr><td>PV generation</td><td>▃▁▁█▁▁▁▆▁▁▇▄▁▁▄▁▁█▅▁▄▆▁▁▇▅▁▃▃▁▁▇▅▁▅▇▁▁▆▁</td></tr><tr><td>Peak Purchases</td><td>▁▁▁▁▁▁▁▁▁▁▁▁▁▁▁▁▁▁▁▁▁▁▁▁▁▁▁▁▁▁▁▁▁▁█▁▁▁▁▁</td></tr><tr><td>Purchase Requested</td><td>▁▆▅▁▆▁█▁▂█▂▆▅▁▁▇▇▁▁▅▁▁▂▁▁▁▃▁▁▅█▁▁▁▄▁▂█▁▅</td></tr><tr><td>Rectifier total power flow</td><td>▃▃█▁▂▂▄▁▂▄▁▁▂▆▁▃▃▁▁▃▁▁▂▂▁▁▁▁▁▂▅▁▁▃▁▁▃▃▁▂</td></tr><tr><td>Standard Purchases</td><td>▁▁▁▁▁▁▁▁▃▁▁▇▁▁▁█▁▁▁▁▁▁▃▁▁▁▁▁▁▆▁▁▁▁▁▁▁▁▁▁</td></tr><tr><td>Step Purchased</td><td>▁█▅▁▆▁█▁▂█▄▆▅▁▁▇▇▁▁▅▁▁▂▁▁▁▃▁▁▅█▁▁▁▄▁▂█▁▅</td></tr><tr><td>Total Reward</td><td>█▁▄█▃█▁█▇▁▆▂▄██▂▂██▄██▇███▆██▄▁███▄█▇▁█▅</td></tr><tr><td>Unmet Load</td><td>▁▁▁▁▁▁▁▁▁▁▁▁▁▁▁▁▁▁▁▁▁▁▁▁▁▁▁▁▁▁▁▁▁▁▁▁▁▁▁▁</td></tr><tr><td>Wind generation</td><td>█▁▅▁▁█▁▇▃▁▁▁▁█▇▁▁▃▅▂▆▁▃███▁█▃▁▁██▃▁▆▃▁▁▁</td></tr><tr><td>battery_level</td><td>▆▁▂▂▂█▅█▂▄▁▁▃▃█▃▄▂█▃██▄███▅██▃▅██▄▃█▂▇▁▆</td></tr></table><br/></div><div class=\"wandb-col\"><h3>Run summary:</h3><br/><table class=\"wandb\"><tr><td>AC load</td><td>104.20567</td></tr><tr><td>DC load</td><td>54.2</td></tr><tr><td>Diesel Generator</td><td>0.0</td></tr><tr><td>Excess Generation</td><td>0.0</td></tr><tr><td>Inverter total power flow</td><td>0.0</td></tr><tr><td>LoadShedding</td><td>1.0</td></tr><tr><td>Money Spent</td><td>0.0</td></tr><tr><td>Num Diesel Gen Actions</td><td>2</td></tr><tr><td>Num Off-Peak Purchases</td><td>1270</td></tr><tr><td>Num Peak Purchases</td><td>185</td></tr><tr><td>Num Standard Purchases</td><td>429</td></tr><tr><td>Off-Peak Purchases</td><td>0.0</td></tr><tr><td>PV generation</td><td>0.0</td></tr><tr><td>Peak Purchases</td><td>0.0</td></tr><tr><td>Purchase Requested</td><td>0.0</td></tr><tr><td>Rectifier total power flow</td><td>0.0</td></tr><tr><td>Standard Purchases</td><td>0.0</td></tr><tr><td>Step Purchased</td><td>0.0</td></tr><tr><td>Total Reward</td><td>0.0</td></tr><tr><td>Unmet Load</td><td>0.0</td></tr><tr><td>Wind generation</td><td>0.0</td></tr><tr><td>battery_level</td><td>475.56596</td></tr></table><br/></div></div>"
            ]
          },
          "metadata": {}
        },
        {
          "output_type": "display_data",
          "data": {
            "text/plain": [
              "<IPython.core.display.HTML object>"
            ],
            "text/html": [
              " View run <strong style=\"color:#cdcd00\">proud-frost-480</strong> at: <a href='https://wandb.ai/4022_intelligent_ems/4022_intelligent_ems/runs/dfw4ljbk' target=\"_blank\">https://wandb.ai/4022_intelligent_ems/4022_intelligent_ems/runs/dfw4ljbk</a><br/>Synced 4 W&B file(s), 35 media file(s), 9 artifact file(s) and 1 other file(s)"
            ]
          },
          "metadata": {}
        },
        {
          "output_type": "display_data",
          "data": {
            "text/plain": [
              "<IPython.core.display.HTML object>"
            ],
            "text/html": [
              "Find logs at: <code>./wandb/run-20231025_185744-dfw4ljbk/logs</code>"
            ]
          },
          "metadata": {}
        },
        {
          "output_type": "stream",
          "name": "stdout",
          "text": [
            "Note: The term does not refer to the cost in rands but rather to the reward as defined by the reward function!\n",
            "Done the Standby Test! Total cost accumulated is: -1947200.75\n",
            "Done applying the trained model! Total cost accumulated is: -1864750.902696 +- 0.0\n",
            "The amount that was saved by applying the EMS agent: 82449.84730400005\n",
            "This was saved over a period of 115.0 days\n",
            "The savings represents 4.234275654628834 % of the cost if no EMS is installed\n",
            "And it represents 4.421493894160157 % of the cost if the EMS is installed\n"
          ]
        }
      ]
    },
    {
      "cell_type": "code",
      "source": [
        "no_load_shed = np.zeros(int(len(load_shedding)/2)).astype(np.float32)\n",
        "evaluate_current_model(\"only Demand-sarima forecasts\",no_load_shed,True,len(actual_load)/2)"
      ],
      "metadata": {
        "colab": {
          "base_uri": "https://localhost:8080/",
          "height": 1000
        },
        "id": "qqSlTzTBMlvT",
        "outputId": "a87cffae-10d5-4243-d615-2596c37a83ed"
      },
      "execution_count": 19,
      "outputs": [
        {
          "output_type": "display_data",
          "data": {
            "text/plain": [
              "<IPython.core.display.HTML object>"
            ],
            "text/html": [
              "Tracking run with wandb version 0.15.12"
            ]
          },
          "metadata": {}
        },
        {
          "output_type": "display_data",
          "data": {
            "text/plain": [
              "<IPython.core.display.HTML object>"
            ],
            "text/html": [
              "Run data is saved locally in <code>/content/EEE4022S_BNKJUL001_Thesis/wandb/run-20231025_185939-fnp2o9ah</code>"
            ]
          },
          "metadata": {}
        },
        {
          "output_type": "display_data",
          "data": {
            "text/plain": [
              "<IPython.core.display.HTML object>"
            ],
            "text/html": [
              "Syncing run <strong><a href='https://wandb.ai/4022_intelligent_ems/4022_intelligent_ems/runs/fnp2o9ah' target=\"_blank\">denim-morning-481</a></strong> to <a href='https://wandb.ai/4022_intelligent_ems/4022_intelligent_ems' target=\"_blank\">Weights & Biases</a> (<a href='https://wandb.me/run' target=\"_blank\">docs</a>)<br/>"
            ]
          },
          "metadata": {}
        },
        {
          "output_type": "display_data",
          "data": {
            "text/plain": [
              "<IPython.core.display.HTML object>"
            ],
            "text/html": [
              " View project at <a href='https://wandb.ai/4022_intelligent_ems/4022_intelligent_ems' target=\"_blank\">https://wandb.ai/4022_intelligent_ems/4022_intelligent_ems</a>"
            ]
          },
          "metadata": {}
        },
        {
          "output_type": "display_data",
          "data": {
            "text/plain": [
              "<IPython.core.display.HTML object>"
            ],
            "text/html": [
              " View run at <a href='https://wandb.ai/4022_intelligent_ems/4022_intelligent_ems/runs/fnp2o9ah' target=\"_blank\">https://wandb.ai/4022_intelligent_ems/4022_intelligent_ems/runs/fnp2o9ah</a>"
            ]
          },
          "metadata": {}
        },
        {
          "output_type": "display_data",
          "data": {
            "text/plain": [
              "<IPython.core.display.HTML object>"
            ],
            "text/html": [
              "Waiting for W&B process to finish... <strong style=\"color:green\">(success).</strong>"
            ]
          },
          "metadata": {}
        },
        {
          "output_type": "display_data",
          "data": {
            "text/plain": [
              "<IPython.core.display.HTML object>"
            ],
            "text/html": [
              "<style>\n",
              "    table.wandb td:nth-child(1) { padding: 0 10px; text-align: left ; width: auto;} td:nth-child(2) {text-align: left ; width: 100%}\n",
              "    .wandb-row { display: flex; flex-direction: row; flex-wrap: wrap; justify-content: flex-start; width: 100% }\n",
              "    .wandb-col { display: flex; flex-direction: column; flex-basis: 100%; flex: 1; padding: 10px; }\n",
              "    </style>\n",
              "<div class=\"wandb-row\"><div class=\"wandb-col\"><h3>Run history:</h3><br/><table class=\"wandb\"><tr><td>AC load</td><td>▅▄▂▂▃▃▂▇▃▂▇▆▂▆█▃▄▆▆▂▆▅▂▄▆▇▂▄▆▂▁▃▂▁▅▁▁▃▃▂</td></tr><tr><td>DC load</td><td>▅▄▂▂▄▂▃▅▂▂█▄▂▇▅▁▂▇▅▁▆▁▂▂█▄▁▁▆▁▃▂▁▁▃▂▂▂▁▃</td></tr><tr><td>Diesel Generator</td><td>▁▁▁▁▁▁▁▁▁▁▁▁▁▁▁▁▁▁▁▁▁▁▁▁▁▁▁▁▁▁▁▁▁▁▁▁▁▁▁▁</td></tr><tr><td>Excess Generation</td><td>▃▁▁▁▁▄▁▅▁▁▁▁▁▁▃▁▁▁▁▁▃▁▁▄▆▅▁▅▁▁▁██▁▁▇▁▁▁▁</td></tr><tr><td>Inverter total power flow</td><td>▁▁▁▄▁▁▁▅▁▁▅▂▁▁▂▁▁▄▁▁▁▆▁▁▄▄▁▂▁▁▁█▆▁▄▇▁▁▅▁</td></tr><tr><td>LoadShedding</td><td>▁▁▁▁▁▁▁▁▁▁▁▁▁▁▁▁▁▁▁▁▁▁▁▁▁▁▁▁▁▁▁▁▁▁▁▁▁▁▁▁</td></tr><tr><td>Money Spent</td><td>▁█▁▁▇▁▆▁▃▆▄█▆▁▁▇▆▁▁▃▁▁▁▁▁▁▄▁▁▆▅▁▁▁▅▁▁▆▁▃</td></tr><tr><td>Num Diesel Gen Actions</td><td>▁▁▁▁▁▁▁▁▁▁▁▁▁▁▁▁▁▁▁▁▁▁▁▁▁▁▁▁▁▁▁▁▁▁▁▁▁▁▁▁</td></tr><tr><td>Num Off-Peak Purchases</td><td>▁▁▁▂▂▂▂▃▃▃▃▃▄▄▄▄▄▅▅▅▅▅▅▆▆▆▆▆▆▇▇▇▇▇▇▇▇███</td></tr><tr><td>Num Peak Purchases</td><td>▁▁▂▂▂▂▂▃▃▃▃▃▄▄▄▄▅▅▅▅▅▆▆▆▆▆▇▇▇▇▇▇▇▇██████</td></tr><tr><td>Num Standard Purchases</td><td>▁▁▁▂▂▂▂▃▃▃▃▄▄▄▅▅▅▅▅▅▆▆▆▆▆▆▇▇▇▇▇▇▇███████</td></tr><tr><td>Off-Peak Purchases</td><td>▁█▁▁▇▁▆▁▁▆▄▁▆▁▁▁▇▁▁▄▁▁▁▁▁▁▄▁▁▁▆▁▁▁▁▁▁▆▁▃</td></tr><tr><td>PV generation</td><td>▃▁▁█▁▁▁▆▁▁▇▄▁▁▄▁▁█▅▁▄▆▁▁▇▅▁▃▃▁▁▇▅▁▅▇▁▁▆▁</td></tr><tr><td>Peak Purchases</td><td>▁▁▁▁▁▁▁▁▁▁▁▁▁▁▁▁▁▁▁▁▁▁▁▁▁▁▁▁▁▁▁▁▁▁█▁▁▁▁▁</td></tr><tr><td>Purchase Requested</td><td>▁▁▁▁▁▁▁▁▁▁▁▁▁▁▁▁▁▁▁▁▁▁▁▁▁▁▁▁▁▁▁▁▁▁▁▁▁▁▁▁</td></tr><tr><td>Rectifier total power flow</td><td>▅▄▆▁▄▃▄▁▃▃▁▁▃█▁▂▃▁▁▂▁▁▁▃▁▁▂▁▁▃▄▁▁▃▁▁▃▃▁▁</td></tr><tr><td>Standard Purchases</td><td>▁▁▁▁▁▁▁▁▃▁▁█▁▁▁█▁▁▁▁▁▁▁▁▁▁▁▁▁▇▁▁▁▁▁▁▁▁▁▁</td></tr><tr><td>Step Purchased</td><td>▁█▁▁▇▁▆▁▂▆▄▅▆▁▁▆▇▁▁▄▁▁▁▁▁▁▄▁▁▅▆▁▁▁▃▁▁▆▁▃</td></tr><tr><td>Total Reward</td><td>█▁██▂█▃█▇▄▆▂▄██▃▃██▆██████▅██▃▄███▅██▃█▆</td></tr><tr><td>Unmet Load</td><td>▁▁▁▁▁▁▁▁▁▁▁▁▁▁▁▁▁▁▁▁▁▁▁▁▁▁▁▁▁▁▁▁▁▁▁▁▁▁▁▁</td></tr><tr><td>Wind generation</td><td>█▁▅▁▁█▁▇▃▁▁▁▁█▇▁▁▃▅▂▆▁▃███▁█▃▁▁██▃▁▆▃▁▁▁</td></tr><tr><td>battery_level</td><td>▆▁▁▁▁█▁█▁▁▁▁▁▃█▁▁▂▇▁██▄███▂██▁▁██▃▁█▁▁▁▃</td></tr></table><br/></div><div class=\"wandb-col\"><h3>Run summary:</h3><br/><table class=\"wandb\"><tr><td>AC load</td><td>104.20567</td></tr><tr><td>DC load</td><td>54.2</td></tr><tr><td>Diesel Generator</td><td>0.0</td></tr><tr><td>Excess Generation</td><td>0.0</td></tr><tr><td>Inverter total power flow</td><td>0.0</td></tr><tr><td>LoadShedding</td><td>0.0</td></tr><tr><td>Money Spent</td><td>0.0</td></tr><tr><td>Num Diesel Gen Actions</td><td>0</td></tr><tr><td>Num Off-Peak Purchases</td><td>1101</td></tr><tr><td>Num Peak Purchases</td><td>199</td></tr><tr><td>Num Standard Purchases</td><td>347</td></tr><tr><td>Off-Peak Purchases</td><td>0.0</td></tr><tr><td>PV generation</td><td>0.0</td></tr><tr><td>Peak Purchases</td><td>0.0</td></tr><tr><td>Purchase Requested</td><td>0.0</td></tr><tr><td>Rectifier total power flow</td><td>0.0</td></tr><tr><td>Standard Purchases</td><td>0.0</td></tr><tr><td>Step Purchased</td><td>0.0</td></tr><tr><td>Total Reward</td><td>0.0</td></tr><tr><td>Unmet Load</td><td>0.0</td></tr><tr><td>Wind generation</td><td>0.0</td></tr><tr><td>battery_level</td><td>100.0</td></tr></table><br/></div></div>"
            ]
          },
          "metadata": {}
        },
        {
          "output_type": "display_data",
          "data": {
            "text/plain": [
              "<IPython.core.display.HTML object>"
            ],
            "text/html": [
              " View run <strong style=\"color:#cdcd00\">denim-morning-481</strong> at: <a href='https://wandb.ai/4022_intelligent_ems/4022_intelligent_ems/runs/fnp2o9ah' target=\"_blank\">https://wandb.ai/4022_intelligent_ems/4022_intelligent_ems/runs/fnp2o9ah</a><br/>Synced 4 W&B file(s), 35 media file(s), 9 artifact file(s) and 1 other file(s)"
            ]
          },
          "metadata": {}
        },
        {
          "output_type": "display_data",
          "data": {
            "text/plain": [
              "<IPython.core.display.HTML object>"
            ],
            "text/html": [
              "Find logs at: <code>./wandb/run-20231025_185939-fnp2o9ah/logs</code>"
            ]
          },
          "metadata": {}
        },
        {
          "output_type": "display_data",
          "data": {
            "text/plain": [
              "<IPython.core.display.HTML object>"
            ],
            "text/html": [
              "Tracking run with wandb version 0.15.12"
            ]
          },
          "metadata": {}
        },
        {
          "output_type": "display_data",
          "data": {
            "text/plain": [
              "<IPython.core.display.HTML object>"
            ],
            "text/html": [
              "Run data is saved locally in <code>/content/EEE4022S_BNKJUL001_Thesis/wandb/run-20231025_190133-mpvrpf4g</code>"
            ]
          },
          "metadata": {}
        },
        {
          "output_type": "display_data",
          "data": {
            "text/plain": [
              "<IPython.core.display.HTML object>"
            ],
            "text/html": [
              "Syncing run <strong><a href='https://wandb.ai/4022_intelligent_ems/4022_intelligent_ems/runs/mpvrpf4g' target=\"_blank\">bumbling-resonance-482</a></strong> to <a href='https://wandb.ai/4022_intelligent_ems/4022_intelligent_ems' target=\"_blank\">Weights & Biases</a> (<a href='https://wandb.me/run' target=\"_blank\">docs</a>)<br/>"
            ]
          },
          "metadata": {}
        },
        {
          "output_type": "display_data",
          "data": {
            "text/plain": [
              "<IPython.core.display.HTML object>"
            ],
            "text/html": [
              " View project at <a href='https://wandb.ai/4022_intelligent_ems/4022_intelligent_ems' target=\"_blank\">https://wandb.ai/4022_intelligent_ems/4022_intelligent_ems</a>"
            ]
          },
          "metadata": {}
        },
        {
          "output_type": "display_data",
          "data": {
            "text/plain": [
              "<IPython.core.display.HTML object>"
            ],
            "text/html": [
              " View run at <a href='https://wandb.ai/4022_intelligent_ems/4022_intelligent_ems/runs/mpvrpf4g' target=\"_blank\">https://wandb.ai/4022_intelligent_ems/4022_intelligent_ems/runs/mpvrpf4g</a>"
            ]
          },
          "metadata": {}
        },
        {
          "output_type": "display_data",
          "data": {
            "text/plain": [
              "<IPython.core.display.HTML object>"
            ],
            "text/html": [
              "Waiting for W&B process to finish... <strong style=\"color:green\">(success).</strong>"
            ]
          },
          "metadata": {}
        },
        {
          "output_type": "display_data",
          "data": {
            "text/plain": [
              "<IPython.core.display.HTML object>"
            ],
            "text/html": [
              "<style>\n",
              "    table.wandb td:nth-child(1) { padding: 0 10px; text-align: left ; width: auto;} td:nth-child(2) {text-align: left ; width: 100%}\n",
              "    .wandb-row { display: flex; flex-direction: row; flex-wrap: wrap; justify-content: flex-start; width: 100% }\n",
              "    .wandb-col { display: flex; flex-direction: column; flex-basis: 100%; flex: 1; padding: 10px; }\n",
              "    </style>\n",
              "<div class=\"wandb-row\"><div class=\"wandb-col\"><h3>Run history:</h3><br/><table class=\"wandb\"><tr><td>AC load</td><td>▅▄▂▂▃▃▂▇▃▂▇▆▂▆█▃▄▆▆▂▆▅▂▄▆▇▂▄▆▂▁▃▂▁▅▁▁▃▃▂</td></tr><tr><td>DC load</td><td>▅▄▂▂▄▂▃▅▂▂█▄▂▇▅▁▂▇▅▁▆▁▂▂█▄▁▁▆▁▃▂▁▁▃▂▂▂▁▃</td></tr><tr><td>Diesel Generator</td><td>▁▁▁▁▁▁▁▁▁▁▁▁▁▁▁▁▁▁▁▁▁▁▁▁▁▁▁▁▁▁▁▁▁▁▁▁▁▁▁▁</td></tr><tr><td>Excess Generation</td><td>▃▁▁▁▁▄▁▅▁▁▁▁▁▁▃▁▁▁▁▁▃▁▁▄▆▅▁▅▁▁▁██▁▁▇▁▁▁▁</td></tr><tr><td>Inverter total power flow</td><td>▁▁▁▄▁▁▁▅▁▁▅▂▁▁▂▁▁▄▁▁▁▆▁▁▄▄▁▂▁▁▁█▆▁▄▇▁▁▅▁</td></tr><tr><td>LoadShedding</td><td>▁▁▁▁▁▁▁▁▁▁▁▁▁▁▁▁▁▁▁▁▁▁▁▁▁▁▁▁▁▁▁▁▁▁▁▁▁▁▁▁</td></tr><tr><td>Money Spent</td><td>▁█▃▁▆▁█▁▂▇▃█▅▁▁▆▇▁▁▃▁▁▃▁▁▁▃▁▁▆▅▁▁▁▄▁▁▅▁▂</td></tr><tr><td>Num Diesel Gen Actions</td><td>▁▁▁▁▁▁▁▁▁▁▁▁▁▁▁▁▁▁▁▁▁▁▁▁▁▁▁▁▁▁▁▁▁▁▁▁▁▁▁▁</td></tr><tr><td>Num Off-Peak Purchases</td><td>▁▁▁▂▂▂▂▃▃▃▃▃▄▄▄▄▄▅▅▅▅▅▅▆▆▆▆▆▆▆▇▇▇▇▇▇████</td></tr><tr><td>Num Peak Purchases</td><td>▁▁▁▁▂▂▂▂▂▂▃▃▃▃▄▄▄▄▄▅▅▅▆▆▆▆▆▆▇▇▇▇▇▇▇▇▇███</td></tr><tr><td>Num Standard Purchases</td><td>▁▁▁▂▂▂▂▃▃▃▃▄▄▄▄▄▅▅▅▅▅▆▆▆▆▆▇▇▇▇▇▇▇▇██████</td></tr><tr><td>Off-Peak Purchases</td><td>▁█▃▁▆▁█▁▁█▄▁▅▁▁▁▇▁▁▃▁▁▁▁▁▁▃▁▁▁▆▁▁▁▁▁▁▅▁▂</td></tr><tr><td>PV generation</td><td>▃▁▁█▁▁▁▆▁▁▇▄▁▁▄▁▁█▅▁▄▆▁▁▇▅▁▃▃▁▁▇▅▁▅▇▁▁▆▁</td></tr><tr><td>Peak Purchases</td><td>▁▁▁▁▁▁▁▁▁▁▁▁▁▁▁▁▁▁▁▁▁▁▁▁▁▁▁▁▁▁▁▁▁▁█▁▁▁▁▁</td></tr><tr><td>Purchase Requested</td><td>▁▆▃▁▆▁█▁▂█▁▆▅▁▁▅▇▁▁▁▁▁▂▁▁▁▃▁▁▂▆▁▁▁▁▁▁▅▁▂</td></tr><tr><td>Rectifier total power flow</td><td>▄▄█▁▃▃▅▁▃▅▁▁▃▇▁▂▃▁▁▂▁▁▂▃▁▁▁▁▁▂▄▁▁▃▁▁▃▂▁▁</td></tr><tr><td>Standard Purchases</td><td>▁▁▁▁▁▁▁▁▃▁▁█▁▁▁▇▁▁▁▁▁▁▃▁▁▁▁▁▁▇▁▁▁▁▁▁▁▁▁▁</td></tr><tr><td>Step Purchased</td><td>▁█▃▁▆▁█▁▂█▄▆▅▁▁▅▇▁▁▃▁▁▂▁▁▁▃▁▁▅▆▁▁▁▃▁▁▅▁▂</td></tr><tr><td>Total Reward</td><td>█▁▆█▃█▁█▇▁▆▂▄██▃▂██▆██▇███▆██▃▄███▅██▄█▇</td></tr><tr><td>Unmet Load</td><td>▁▁▁▁▁▁▁▁▁▁▁▁▁▁▁▁▁▁▁▁▁▁▁▁▁▁▁▁▁▁▁▁▁▁▁▁▁▁▁▁</td></tr><tr><td>Wind generation</td><td>█▁▅▁▁█▁▇▃▁▁▁▁█▇▁▁▃▅▂▆▁▃███▁█▃▁▁██▃▁▆▃▁▁▁</td></tr><tr><td>battery_level</td><td>▆▁▂▂▂█▅█▂▄▁▁▃▃█▁▂▂▇▁██▄███▅██▁▂██▃▁█▁▆▁▅</td></tr></table><br/></div><div class=\"wandb-col\"><h3>Run summary:</h3><br/><table class=\"wandb\"><tr><td>AC load</td><td>104.20567</td></tr><tr><td>DC load</td><td>54.2</td></tr><tr><td>Diesel Generator</td><td>0.0</td></tr><tr><td>Excess Generation</td><td>0.0</td></tr><tr><td>Inverter total power flow</td><td>0.0</td></tr><tr><td>LoadShedding</td><td>0.0</td></tr><tr><td>Money Spent</td><td>0.0</td></tr><tr><td>Num Diesel Gen Actions</td><td>0</td></tr><tr><td>Num Off-Peak Purchases</td><td>1289</td></tr><tr><td>Num Peak Purchases</td><td>182</td></tr><tr><td>Num Standard Purchases</td><td>418</td></tr><tr><td>Off-Peak Purchases</td><td>0.0</td></tr><tr><td>PV generation</td><td>0.0</td></tr><tr><td>Peak Purchases</td><td>0.0</td></tr><tr><td>Purchase Requested</td><td>0.0</td></tr><tr><td>Rectifier total power flow</td><td>0.0</td></tr><tr><td>Standard Purchases</td><td>0.0</td></tr><tr><td>Step Purchased</td><td>0.0</td></tr><tr><td>Total Reward</td><td>0.0</td></tr><tr><td>Unmet Load</td><td>0.0</td></tr><tr><td>Wind generation</td><td>0.0</td></tr><tr><td>battery_level</td><td>207.92596</td></tr></table><br/></div></div>"
            ]
          },
          "metadata": {}
        },
        {
          "output_type": "display_data",
          "data": {
            "text/plain": [
              "<IPython.core.display.HTML object>"
            ],
            "text/html": [
              " View run <strong style=\"color:#cdcd00\">bumbling-resonance-482</strong> at: <a href='https://wandb.ai/4022_intelligent_ems/4022_intelligent_ems/runs/mpvrpf4g' target=\"_blank\">https://wandb.ai/4022_intelligent_ems/4022_intelligent_ems/runs/mpvrpf4g</a><br/>Synced 4 W&B file(s), 35 media file(s), 9 artifact file(s) and 1 other file(s)"
            ]
          },
          "metadata": {}
        },
        {
          "output_type": "display_data",
          "data": {
            "text/plain": [
              "<IPython.core.display.HTML object>"
            ],
            "text/html": [
              "Find logs at: <code>./wandb/run-20231025_190133-mpvrpf4g/logs</code>"
            ]
          },
          "metadata": {}
        },
        {
          "output_type": "stream",
          "name": "stdout",
          "text": [
            "Note: The term does not refer to the cost in rands but rather to the reward as defined by the reward function!\n",
            "Done the Standby Test! Total cost accumulated is: -1869779.375\n",
            "Done applying the trained model! Total cost accumulated is: -1835866.011563 +- 0.0\n",
            "The amount that was saved by applying the EMS agent: 33913.36343699996\n",
            "This was saved over a period of 115.0 days\n",
            "The savings represents 1.8137628369657228 % of the cost if no EMS is installed\n",
            "And it represents 1.847267895554489 % of the cost if the EMS is installed\n"
          ]
        }
      ]
    },
    {
      "cell_type": "code",
      "source": [
        "make_my_model()\n",
        "train_my_model(\"Only Load shedding 2\",load_shedding[int(len(load_shedding)/2):],False,0.01,len(actual_load)/2)\n",
        "evaluate_current_model(\"only load shedding 2\",load_shedding[int(len(load_shedding)/2):],False,len(actual_load)/2)\n",
        "evaluate_current_model(\"Both 2\",load_shedding[int(len(load_shedding)/2):],True,len(actual_load)/2)"
      ],
      "metadata": {
        "id": "-7Mtr3oxQ2rE"
      },
      "execution_count": null,
      "outputs": []
    },
    {
      "cell_type": "code",
      "source": [
        "make_my_model()\n",
        "train_my_model(\"Both3\",load_shedding[int(len(load_shedding)/2):],True,0.01,len(actual_load)/2)\n",
        "evaluate_current_model(\"Both3\",load_shedding[int(len(load_shedding)/2):],True,len(actual_load)/2)\n"
      ],
      "metadata": {
        "id": "81RmX1vxSQgi"
      },
      "execution_count": null,
      "outputs": []
    }
  ],
  "metadata": {
    "colab": {
      "provenance": [],
      "gpuType": "T4",
      "include_colab_link": true
    },
    "kernelspec": {
      "display_name": "Python 3",
      "name": "python3"
    },
    "language_info": {
      "name": "python"
    },
    "accelerator": "GPU",
    "widgets": {
      "application/vnd.jupyter.widget-state+json": {
        "8a741219b9794534ba4e75a57b73fd69": {
          "model_module": "@jupyter-widgets/controls",
          "model_name": "VBoxModel",
          "model_module_version": "1.5.0",
          "state": {
            "_dom_classes": [],
            "_model_module": "@jupyter-widgets/controls",
            "_model_module_version": "1.5.0",
            "_model_name": "VBoxModel",
            "_view_count": null,
            "_view_module": "@jupyter-widgets/controls",
            "_view_module_version": "1.5.0",
            "_view_name": "VBoxView",
            "box_style": "",
            "children": [
              "IPY_MODEL_ec0d0565d5ba4f11a6d300ad32d1f5dc",
              "IPY_MODEL_90d80713f5e441489483c996f7296d03"
            ],
            "layout": "IPY_MODEL_5c24138de7e9481f9e0877c1b71c82f3"
          }
        },
        "ec0d0565d5ba4f11a6d300ad32d1f5dc": {
          "model_module": "@jupyter-widgets/controls",
          "model_name": "LabelModel",
          "model_module_version": "1.5.0",
          "state": {
            "_dom_classes": [],
            "_model_module": "@jupyter-widgets/controls",
            "_model_module_version": "1.5.0",
            "_model_name": "LabelModel",
            "_view_count": null,
            "_view_module": "@jupyter-widgets/controls",
            "_view_module_version": "1.5.0",
            "_view_name": "LabelView",
            "description": "",
            "description_tooltip": null,
            "layout": "IPY_MODEL_5957b198678043a59164a3e14ece48c5",
            "placeholder": "​",
            "style": "IPY_MODEL_2d7e615174ab4da99884e27ddb156d47",
            "value": "0.475 MB of 0.620 MB uploaded (0.000 MB deduped)\r"
          }
        },
        "90d80713f5e441489483c996f7296d03": {
          "model_module": "@jupyter-widgets/controls",
          "model_name": "FloatProgressModel",
          "model_module_version": "1.5.0",
          "state": {
            "_dom_classes": [],
            "_model_module": "@jupyter-widgets/controls",
            "_model_module_version": "1.5.0",
            "_model_name": "FloatProgressModel",
            "_view_count": null,
            "_view_module": "@jupyter-widgets/controls",
            "_view_module_version": "1.5.0",
            "_view_name": "ProgressView",
            "bar_style": "",
            "description": "",
            "description_tooltip": null,
            "layout": "IPY_MODEL_cbe978c0ad894fc7b952c412b0f7292c",
            "max": 1,
            "min": 0,
            "orientation": "horizontal",
            "style": "IPY_MODEL_37c9cf041ee540f1bdeaca8f5d791ef1",
            "value": 0.7664100268025565
          }
        },
        "5c24138de7e9481f9e0877c1b71c82f3": {
          "model_module": "@jupyter-widgets/base",
          "model_name": "LayoutModel",
          "model_module_version": "1.2.0",
          "state": {
            "_model_module": "@jupyter-widgets/base",
            "_model_module_version": "1.2.0",
            "_model_name": "LayoutModel",
            "_view_count": null,
            "_view_module": "@jupyter-widgets/base",
            "_view_module_version": "1.2.0",
            "_view_name": "LayoutView",
            "align_content": null,
            "align_items": null,
            "align_self": null,
            "border": null,
            "bottom": null,
            "display": null,
            "flex": null,
            "flex_flow": null,
            "grid_area": null,
            "grid_auto_columns": null,
            "grid_auto_flow": null,
            "grid_auto_rows": null,
            "grid_column": null,
            "grid_gap": null,
            "grid_row": null,
            "grid_template_areas": null,
            "grid_template_columns": null,
            "grid_template_rows": null,
            "height": null,
            "justify_content": null,
            "justify_items": null,
            "left": null,
            "margin": null,
            "max_height": null,
            "max_width": null,
            "min_height": null,
            "min_width": null,
            "object_fit": null,
            "object_position": null,
            "order": null,
            "overflow": null,
            "overflow_x": null,
            "overflow_y": null,
            "padding": null,
            "right": null,
            "top": null,
            "visibility": null,
            "width": null
          }
        },
        "5957b198678043a59164a3e14ece48c5": {
          "model_module": "@jupyter-widgets/base",
          "model_name": "LayoutModel",
          "model_module_version": "1.2.0",
          "state": {
            "_model_module": "@jupyter-widgets/base",
            "_model_module_version": "1.2.0",
            "_model_name": "LayoutModel",
            "_view_count": null,
            "_view_module": "@jupyter-widgets/base",
            "_view_module_version": "1.2.0",
            "_view_name": "LayoutView",
            "align_content": null,
            "align_items": null,
            "align_self": null,
            "border": null,
            "bottom": null,
            "display": null,
            "flex": null,
            "flex_flow": null,
            "grid_area": null,
            "grid_auto_columns": null,
            "grid_auto_flow": null,
            "grid_auto_rows": null,
            "grid_column": null,
            "grid_gap": null,
            "grid_row": null,
            "grid_template_areas": null,
            "grid_template_columns": null,
            "grid_template_rows": null,
            "height": null,
            "justify_content": null,
            "justify_items": null,
            "left": null,
            "margin": null,
            "max_height": null,
            "max_width": null,
            "min_height": null,
            "min_width": null,
            "object_fit": null,
            "object_position": null,
            "order": null,
            "overflow": null,
            "overflow_x": null,
            "overflow_y": null,
            "padding": null,
            "right": null,
            "top": null,
            "visibility": null,
            "width": null
          }
        },
        "2d7e615174ab4da99884e27ddb156d47": {
          "model_module": "@jupyter-widgets/controls",
          "model_name": "DescriptionStyleModel",
          "model_module_version": "1.5.0",
          "state": {
            "_model_module": "@jupyter-widgets/controls",
            "_model_module_version": "1.5.0",
            "_model_name": "DescriptionStyleModel",
            "_view_count": null,
            "_view_module": "@jupyter-widgets/base",
            "_view_module_version": "1.2.0",
            "_view_name": "StyleView",
            "description_width": ""
          }
        },
        "cbe978c0ad894fc7b952c412b0f7292c": {
          "model_module": "@jupyter-widgets/base",
          "model_name": "LayoutModel",
          "model_module_version": "1.2.0",
          "state": {
            "_model_module": "@jupyter-widgets/base",
            "_model_module_version": "1.2.0",
            "_model_name": "LayoutModel",
            "_view_count": null,
            "_view_module": "@jupyter-widgets/base",
            "_view_module_version": "1.2.0",
            "_view_name": "LayoutView",
            "align_content": null,
            "align_items": null,
            "align_self": null,
            "border": null,
            "bottom": null,
            "display": null,
            "flex": null,
            "flex_flow": null,
            "grid_area": null,
            "grid_auto_columns": null,
            "grid_auto_flow": null,
            "grid_auto_rows": null,
            "grid_column": null,
            "grid_gap": null,
            "grid_row": null,
            "grid_template_areas": null,
            "grid_template_columns": null,
            "grid_template_rows": null,
            "height": null,
            "justify_content": null,
            "justify_items": null,
            "left": null,
            "margin": null,
            "max_height": null,
            "max_width": null,
            "min_height": null,
            "min_width": null,
            "object_fit": null,
            "object_position": null,
            "order": null,
            "overflow": null,
            "overflow_x": null,
            "overflow_y": null,
            "padding": null,
            "right": null,
            "top": null,
            "visibility": null,
            "width": null
          }
        },
        "37c9cf041ee540f1bdeaca8f5d791ef1": {
          "model_module": "@jupyter-widgets/controls",
          "model_name": "ProgressStyleModel",
          "model_module_version": "1.5.0",
          "state": {
            "_model_module": "@jupyter-widgets/controls",
            "_model_module_version": "1.5.0",
            "_model_name": "ProgressStyleModel",
            "_view_count": null,
            "_view_module": "@jupyter-widgets/base",
            "_view_module_version": "1.2.0",
            "_view_name": "StyleView",
            "bar_color": null,
            "description_width": ""
          }
        }
      }
    }
  },
  "nbformat": 4,
  "nbformat_minor": 0
}