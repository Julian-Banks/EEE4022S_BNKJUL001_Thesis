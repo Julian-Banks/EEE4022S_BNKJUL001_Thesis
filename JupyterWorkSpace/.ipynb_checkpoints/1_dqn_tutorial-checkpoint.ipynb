{
 "cells": [
  {
   "cell_type": "markdown",
   "metadata": {
    "id": "klGNgWREsvQv"
   },
   "source": [
    "##### Copyright 2023 The TF-Agents Authors."
   ]
  },
  {
   "cell_type": "code",
   "execution_count": 1,
   "metadata": {
    "cellView": "form",
    "execution": {
     "iopub.execute_input": "2023-02-16T13:28:22.657628Z",
     "iopub.status.busy": "2023-02-16T13:28:22.657046Z",
     "iopub.status.idle": "2023-02-16T13:28:22.660508Z",
     "shell.execute_reply": "2023-02-16T13:28:22.659968Z"
    },
    "id": "nQnmcm0oI1Q-"
   },
   "outputs": [],
   "source": [
    "#@title Licensed under the Apache License, Version 2.0 (the \"License\");\n",
    "# you may not use this file except in compliance with the License.\n",
    "# You may obtain a copy of the License at\n",
    "#\n",
    "# https://www.apache.org/licenses/LICENSE-2.0\n",
    "#\n",
    "# Unless required by applicable law or agreed to in writing, software\n",
    "# distributed under the License is distributed on an \"AS IS\" BASIS,\n",
    "# WITHOUT WARRANTIES OR CONDITIONS OF ANY KIND, either express or implied.\n",
    "# See the License for the specific language governing permissions and\n",
    "# limitations under the License."
   ]
  },
  {
   "cell_type": "markdown",
   "metadata": {
    "id": "pmDI-h7cI0tI"
   },
   "source": [
    "# Train a Deep Q Network with TF-Agents\n",
    "\n",
    "<table class=\"tfo-notebook-buttons\" align=\"left\">\n",
    "  <td>\n",
    "    <a target=\"_blank\" href=\"https://www.tensorflow.org/agents/tutorials/1_dqn_tutorial\">\n",
    "    <img src=\"https://www.tensorflow.org/images/tf_logo_32px.png\" />\n",
    "    View on TensorFlow.org</a>\n",
    "  </td>\n",
    "  <td>\n",
    "    <a target=\"_blank\" href=\"https://colab.research.google.com/github/tensorflow/agents/blob/master/docs/tutorials/1_dqn_tutorial.ipynb\">\n",
    "    <img src=\"https://www.tensorflow.org/images/colab_logo_32px.png\" />\n",
    "    Run in Google Colab</a>\n",
    "  </td>\n",
    "  <td>\n",
    "    <a target=\"_blank\" href=\"https://github.com/tensorflow/agents/blob/master/docs/tutorials/1_dqn_tutorial.ipynb\">\n",
    "    <img src=\"https://www.tensorflow.org/images/GitHub-Mark-32px.png\" />\n",
    "    View source on GitHub</a>\n",
    "  </td>\n",
    "  <td>\n",
    "    <a href=\"https://storage.googleapis.com/tensorflow_docs/agents/docs/tutorials/1_dqn_tutorial.ipynb\"><img src=\"https://www.tensorflow.org/images/download_logo_32px.png\" />Download notebook</a>\n",
    "  </td>\n",
    "</table>"
   ]
  },
  {
   "cell_type": "markdown",
   "metadata": {
    "id": "lsaQlK8fFQqH"
   },
   "source": [
    "## Introduction\n"
   ]
  },
  {
   "cell_type": "markdown",
   "metadata": {
    "id": "cKOCZlhUgXVK"
   },
   "source": [
    "This example shows how to train a [DQN (Deep Q Networks)](https://storage.googleapis.com/deepmind-media/dqn/DQNNaturePaper.pdf)  agent on the Cartpole environment using the TF-Agents library.\n",
    "\n",
    "![Cartpole environment](https://raw.githubusercontent.com/tensorflow/agents/master/docs/tutorials/images/cartpole.png)\n",
    "\n",
    "It will walk you through all the components in a Reinforcement Learning (RL) pipeline for training, evaluation and data collection.\n",
    "\n",
    "\n",
    "To run this code live, click the 'Run in Google Colab' link above.\n"
   ]
  },
  {
   "cell_type": "markdown",
   "metadata": {
    "id": "1u9QVVsShC9X"
   },
   "source": [
    "## Setup"
   ]
  },
  {
   "cell_type": "markdown",
   "metadata": {
    "id": "kNrNXKI7bINP"
   },
   "source": [
    "If you haven't installed the following dependencies, run:"
   ]
  },
  {
   "cell_type": "code",
   "execution_count": 2,
   "metadata": {
    "execution": {
     "iopub.execute_input": "2023-02-16T13:28:22.663719Z",
     "iopub.status.busy": "2023-02-16T13:28:22.663337Z",
     "iopub.status.idle": "2023-02-16T13:29:01.971399Z",
     "shell.execute_reply": "2023-02-16T13:29:01.970539Z"
    },
    "id": "KEHR2Ui-lo8O"
   },
   "outputs": [
    {
     "name": "stdout",
     "output_type": "stream",
     "text": [
      "Hit:1 http://us-central1.gce.archive.ubuntu.com/ubuntu focal InRelease\n",
      "Hit:2 http://us-central1.gce.archive.ubuntu.com/ubuntu focal-updates InRelease \n",
      "Get:3 http://us-central1.gce.archive.ubuntu.com/ubuntu focal-backports InRelease [108 kB]\n",
      "Hit:5 https://download.docker.com/linux/ubuntu focal InRelease                 \n",
      "Hit:6 https://developer.download.nvidia.com/compute/cuda/repos/ubuntu2004/x86_64  InRelease\n",
      "Hit:7 https://nvidia.github.io/libnvidia-container/stable/ubuntu18.04/amd64  InRelease\n",
      "Hit:4 https://apt.llvm.org/focal llvm-toolchain-focal-14 InRelease             \n",
      "Hit:8 https://nvidia.github.io/nvidia-container-runtime/stable/ubuntu18.04/amd64  InRelease\n",
      "Hit:9 https://nvidia.github.io/nvidia-docker/ubuntu18.04/amd64  InRelease      \n",
      "Hit:10 http://ppa.launchpad.net/deadsnakes/ppa/ubuntu focal InRelease          \n",
      "Hit:11 http://security.ubuntu.com/ubuntu focal-security InRelease          \n",
      "Hit:12 http://ppa.launchpad.net/longsleep/golang-backports/ubuntu focal InRelease\n",
      "Hit:13 http://ppa.launchpad.net/openjdk-r/ppa/ubuntu focal InRelease\n",
      "Fetched 108 kB in 1s (83.0 kB/s)\n",
      "Reading package lists... Done\n",
      "Reading package lists... Done\n",
      "Building dependency tree       \n",
      "Reading state information... Done\n",
      "freeglut3-dev is already the newest version (2.8.1-3).\n",
      "ffmpeg is already the newest version (7:4.2.7-0ubuntu0.1).\n",
      "xvfb is already the newest version (2:1.20.13-1ubuntu1~20.04.6).\n",
      "The following packages were automatically installed and are no longer required:\n",
      "  libatasmart4 libblockdev-fs2 libblockdev-loop2 libblockdev-part-err2\n",
      "  libblockdev-part2 libblockdev-swap2 libblockdev-utils2 libblockdev2\n",
      "  libparted-fs-resize0 libxmlb2\n",
      "Use 'sudo apt autoremove' to remove them.\n",
      "0 upgraded, 0 newly installed, 0 to remove and 56 not upgraded.\n",
      "Collecting imageio==2.4.0\n",
      "  Using cached imageio-2.4.0-py3-none-any.whl\n",
      "Requirement already satisfied: numpy in /tmpfs/src/tf_docs_env/lib/python3.9/site-packages (from imageio==2.4.0) (1.23.5)\n",
      "Requirement already satisfied: pillow in /tmpfs/src/tf_docs_env/lib/python3.9/site-packages (from imageio==2.4.0) (9.4.0)\n",
      "Installing collected packages: imageio\n",
      "  Attempting uninstall: imageio\n",
      "    Found existing installation: imageio 2.25.1\n",
      "    Uninstalling imageio-2.25.1:\n",
      "      Successfully uninstalled imageio-2.25.1\n",
      "\u001b[31mERROR: pip's dependency resolver does not currently take into account all the packages that are installed. This behaviour is the source of the following dependency conflicts.\n",
      "scikit-image 0.19.3 requires imageio>=2.4.1, but you have imageio 2.4.0 which is incompatible.\u001b[0m\u001b[31m\n",
      "\u001b[0mSuccessfully installed imageio-2.4.0\n",
      "Collecting pyvirtualdisplay\n",
      "  Using cached PyVirtualDisplay-3.0-py3-none-any.whl (15 kB)\n",
      "Installing collected packages: pyvirtualdisplay\n",
      "Successfully installed pyvirtualdisplay-3.0\n",
      "Collecting tf-agents[reverb]\n",
      "  Using cached tf_agents-0.15.0-py3-none-any.whl (1.4 MB)\n",
      "Collecting cloudpickle>=1.3\n",
      "  Using cached cloudpickle-2.2.1-py3-none-any.whl (25 kB)\n",
      "Collecting pygame==2.1.0\n",
      "  Using cached pygame-2.1.0-cp39-cp39-manylinux_2_17_x86_64.manylinux2014_x86_64.whl (18.3 MB)\n",
      "Collecting tensorflow-probability>=0.18.0\n",
      "  Using cached tensorflow_probability-0.19.0-py2.py3-none-any.whl (6.7 MB)\n",
      "Requirement already satisfied: wrapt>=1.11.1 in /tmpfs/src/tf_docs_env/lib/python3.9/site-packages (from tf-agents[reverb]) (1.15.0rc1)\n",
      "Collecting gin-config>=0.4.0\n",
      "  Using cached gin_config-0.5.0-py3-none-any.whl (61 kB)\n",
      "Requirement already satisfied: pillow in /tmpfs/src/tf_docs_env/lib/python3.9/site-packages (from tf-agents[reverb]) (9.4.0)\n",
      "Requirement already satisfied: six>=1.10.0 in /tmpfs/src/tf_docs_env/lib/python3.9/site-packages (from tf-agents[reverb]) (1.16.0)\n",
      "Requirement already satisfied: absl-py>=0.6.1 in /tmpfs/src/tf_docs_env/lib/python3.9/site-packages (from tf-agents[reverb]) (1.4.0)\n",
      "Requirement already satisfied: numpy>=1.13.3 in /tmpfs/src/tf_docs_env/lib/python3.9/site-packages (from tf-agents[reverb]) (1.23.5)\n",
      "Requirement already satisfied: typing-extensions>=3.7.4.3 in /tmpfs/src/tf_docs_env/lib/python3.9/site-packages (from tf-agents[reverb]) (4.5.0)\n",
      "Requirement already satisfied: protobuf>=3.11.3 in /tmpfs/src/tf_docs_env/lib/python3.9/site-packages (from tf-agents[reverb]) (3.20.3)\n",
      "Collecting gym<=0.23.0,>=0.17.0\n",
      "  Using cached gym-0.23.0-py3-none-any.whl\n",
      "Collecting tensorflow==2.11.0\n",
      "  Using cached tensorflow-2.11.0-cp39-cp39-manylinux_2_17_x86_64.manylinux2014_x86_64.whl (588.3 MB)\n",
      "Collecting dm-reverb~=0.10.0\n",
      "  Using cached dm_reverb-0.10.0-cp39-cp39-manylinux2014_x86_64.whl (6.3 MB)\n",
      "Collecting rlds\n",
      "  Using cached rlds-0.1.7-py3-none-manylinux2010_x86_64.whl (48 kB)\n",
      "Requirement already satisfied: setuptools in /tmpfs/src/tf_docs_env/lib/python3.9/site-packages (from tensorflow==2.11.0->tf-agents[reverb]) (67.3.2)\n",
      "Requirement already satisfied: astunparse>=1.6.0 in /tmpfs/src/tf_docs_env/lib/python3.9/site-packages (from tensorflow==2.11.0->tf-agents[reverb]) (1.6.3)\n",
      "Requirement already satisfied: libclang>=13.0.0 in /tmpfs/src/tf_docs_env/lib/python3.9/site-packages (from tensorflow==2.11.0->tf-agents[reverb]) (15.0.6.1)\n",
      "Requirement already satisfied: packaging in /tmpfs/src/tf_docs_env/lib/python3.9/site-packages (from tensorflow==2.11.0->tf-agents[reverb]) (23.0)\n",
      "Requirement already satisfied: gast<=0.4.0,>=0.2.1 in /tmpfs/src/tf_docs_env/lib/python3.9/site-packages (from tensorflow==2.11.0->tf-agents[reverb]) (0.4.0)\n",
      "Requirement already satisfied: opt-einsum>=2.3.2 in /tmpfs/src/tf_docs_env/lib/python3.9/site-packages (from tensorflow==2.11.0->tf-agents[reverb]) (3.3.0)\n",
      "Requirement already satisfied: flatbuffers>=2.0 in /tmpfs/src/tf_docs_env/lib/python3.9/site-packages (from tensorflow==2.11.0->tf-agents[reverb]) (23.1.21)\n",
      "Collecting tensorboard<2.12,>=2.11\n",
      "  Using cached tensorboard-2.11.2-py3-none-any.whl (6.0 MB)\n",
      "Collecting tensorflow-estimator<2.12,>=2.11.0\n",
      "  Using cached tensorflow_estimator-2.11.0-py2.py3-none-any.whl (439 kB)\n",
      "Requirement already satisfied: google-pasta>=0.1.1 in /tmpfs/src/tf_docs_env/lib/python3.9/site-packages (from tensorflow==2.11.0->tf-agents[reverb]) (0.2.0)\n",
      "Requirement already satisfied: termcolor>=1.1.0 in /tmpfs/src/tf_docs_env/lib/python3.9/site-packages (from tensorflow==2.11.0->tf-agents[reverb]) (2.2.0)\n",
      "Collecting protobuf>=3.11.3\n",
      "  Using cached protobuf-3.19.6-cp39-cp39-manylinux_2_17_x86_64.manylinux2014_x86_64.whl (1.1 MB)\n",
      "Collecting keras<2.12,>=2.11.0\n",
      "  Using cached keras-2.11.0-py2.py3-none-any.whl (1.7 MB)\n",
      "Requirement already satisfied: h5py>=2.9.0 in /tmpfs/src/tf_docs_env/lib/python3.9/site-packages (from tensorflow==2.11.0->tf-agents[reverb]) (3.8.0)\n",
      "Requirement already satisfied: tensorflow-io-gcs-filesystem>=0.23.1 in /tmpfs/src/tf_docs_env/lib/python3.9/site-packages (from tensorflow==2.11.0->tf-agents[reverb]) (0.30.0)\n",
      "Requirement already satisfied: grpcio<2.0,>=1.24.3 in /tmpfs/src/tf_docs_env/lib/python3.9/site-packages (from tensorflow==2.11.0->tf-agents[reverb]) (1.52.0rc1)\n",
      "Collecting portpicker\n",
      "  Using cached portpicker-1.5.2-py3-none-any.whl (14 kB)\n",
      "Requirement already satisfied: dm-tree in /tmpfs/src/tf_docs_env/lib/python3.9/site-packages (from dm-reverb~=0.10.0->tf-agents[reverb]) (0.1.8)\n",
      "Requirement already satisfied: importlib-metadata>=4.10.0 in /tmpfs/src/tf_docs_env/lib/python3.9/site-packages (from gym<=0.23.0,>=0.17.0->tf-agents[reverb]) (6.0.0)\n",
      "Collecting gym-notices>=0.0.4\n",
      "  Using cached gym_notices-0.0.8-py3-none-any.whl (3.0 kB)\n",
      "Requirement already satisfied: decorator in /tmpfs/src/tf_docs_env/lib/python3.9/site-packages (from tensorflow-probability>=0.18.0->tf-agents[reverb]) (5.1.1)\n",
      "Requirement already satisfied: wheel<1.0,>=0.23.0 in /tmpfs/src/tf_docs_env/lib/python3.9/site-packages (from astunparse>=1.6.0->tensorflow==2.11.0->tf-agents[reverb]) (0.38.4)\n",
      "Requirement already satisfied: zipp>=0.5 in /tmpfs/src/tf_docs_env/lib/python3.9/site-packages (from importlib-metadata>=4.10.0->gym<=0.23.0,>=0.17.0->tf-agents[reverb]) (3.13.0)\n",
      "Requirement already satisfied: tensorboard-plugin-wit>=1.6.0 in /tmpfs/src/tf_docs_env/lib/python3.9/site-packages (from tensorboard<2.12,>=2.11->tensorflow==2.11.0->tf-agents[reverb]) (1.8.1)\n",
      "Requirement already satisfied: google-auth-oauthlib<0.5,>=0.4.1 in /tmpfs/src/tf_docs_env/lib/python3.9/site-packages (from tensorboard<2.12,>=2.11->tensorflow==2.11.0->tf-agents[reverb]) (0.4.6)\n",
      "Requirement already satisfied: requests<3,>=2.21.0 in /tmpfs/src/tf_docs_env/lib/python3.9/site-packages (from tensorboard<2.12,>=2.11->tensorflow==2.11.0->tf-agents[reverb]) (2.28.2)\n",
      "Requirement already satisfied: werkzeug>=1.0.1 in /tmpfs/src/tf_docs_env/lib/python3.9/site-packages (from tensorboard<2.12,>=2.11->tensorflow==2.11.0->tf-agents[reverb]) (2.2.3)\n",
      "Collecting tensorboard-data-server<0.7.0,>=0.6.0\n",
      "  Using cached tensorboard_data_server-0.6.1-py3-none-manylinux2010_x86_64.whl (4.9 MB)\n"
     ]
    },
    {
     "name": "stdout",
     "output_type": "stream",
     "text": [
      "Requirement already satisfied: google-auth<3,>=1.6.3 in /tmpfs/src/tf_docs_env/lib/python3.9/site-packages (from tensorboard<2.12,>=2.11->tensorflow==2.11.0->tf-agents[reverb]) (2.16.0)\n",
      "Requirement already satisfied: markdown>=2.6.8 in /tmpfs/src/tf_docs_env/lib/python3.9/site-packages (from tensorboard<2.12,>=2.11->tensorflow==2.11.0->tf-agents[reverb]) (3.4.1)\n",
      "Requirement already satisfied: psutil in /tmpfs/src/tf_docs_env/lib/python3.9/site-packages (from portpicker->dm-reverb~=0.10.0->tf-agents[reverb]) (5.9.4)\n",
      "Requirement already satisfied: rsa<5,>=3.1.4 in /tmpfs/src/tf_docs_env/lib/python3.9/site-packages (from google-auth<3,>=1.6.3->tensorboard<2.12,>=2.11->tensorflow==2.11.0->tf-agents[reverb]) (4.9)\n",
      "Requirement already satisfied: pyasn1-modules>=0.2.1 in /tmpfs/src/tf_docs_env/lib/python3.9/site-packages (from google-auth<3,>=1.6.3->tensorboard<2.12,>=2.11->tensorflow==2.11.0->tf-agents[reverb]) (0.3.0rc1)\n",
      "Requirement already satisfied: cachetools<6.0,>=2.0.0 in /tmpfs/src/tf_docs_env/lib/python3.9/site-packages (from google-auth<3,>=1.6.3->tensorboard<2.12,>=2.11->tensorflow==2.11.0->tf-agents[reverb]) (5.3.0)\n",
      "Requirement already satisfied: requests-oauthlib>=0.7.0 in /tmpfs/src/tf_docs_env/lib/python3.9/site-packages (from google-auth-oauthlib<0.5,>=0.4.1->tensorboard<2.12,>=2.11->tensorflow==2.11.0->tf-agents[reverb]) (1.3.1)\n",
      "Requirement already satisfied: urllib3<1.27,>=1.21.1 in /tmpfs/src/tf_docs_env/lib/python3.9/site-packages (from requests<3,>=2.21.0->tensorboard<2.12,>=2.11->tensorflow==2.11.0->tf-agents[reverb]) (1.26.14)\n",
      "Requirement already satisfied: idna<4,>=2.5 in /tmpfs/src/tf_docs_env/lib/python3.9/site-packages (from requests<3,>=2.21.0->tensorboard<2.12,>=2.11->tensorflow==2.11.0->tf-agents[reverb]) (3.4)\n",
      "Requirement already satisfied: charset-normalizer<4,>=2 in /tmpfs/src/tf_docs_env/lib/python3.9/site-packages (from requests<3,>=2.21.0->tensorboard<2.12,>=2.11->tensorflow==2.11.0->tf-agents[reverb]) (3.0.1)\n",
      "Requirement already satisfied: certifi>=2017.4.17 in /tmpfs/src/tf_docs_env/lib/python3.9/site-packages (from requests<3,>=2.21.0->tensorboard<2.12,>=2.11->tensorflow==2.11.0->tf-agents[reverb]) (2022.12.7)\n",
      "Requirement already satisfied: MarkupSafe>=2.1.1 in /tmpfs/src/tf_docs_env/lib/python3.9/site-packages (from werkzeug>=1.0.1->tensorboard<2.12,>=2.11->tensorflow==2.11.0->tf-agents[reverb]) (2.1.2)\n",
      "Requirement already satisfied: pyasn1<0.6.0,>=0.4.6 in /tmpfs/src/tf_docs_env/lib/python3.9/site-packages (from pyasn1-modules>=0.2.1->google-auth<3,>=1.6.3->tensorboard<2.12,>=2.11->tensorflow==2.11.0->tf-agents[reverb]) (0.5.0rc2)\n",
      "Requirement already satisfied: oauthlib>=3.0.0 in /tmpfs/src/tf_docs_env/lib/python3.9/site-packages (from requests-oauthlib>=0.7.0->google-auth-oauthlib<0.5,>=0.4.1->tensorboard<2.12,>=2.11->tensorflow==2.11.0->tf-agents[reverb]) (3.2.2)\n",
      "Installing collected packages: gym-notices, gin-config, tensorflow-estimator, tensorboard-data-server, rlds, pygame, protobuf, portpicker, keras, cloudpickle, tensorflow-probability, gym, dm-reverb, tf-agents, tensorboard, tensorflow\n",
      "  Attempting uninstall: tensorflow-estimator\n",
      "    Found existing installation: tensorflow-estimator 2.12.0rc0\n",
      "    Uninstalling tensorflow-estimator-2.12.0rc0:\n",
      "      Successfully uninstalled tensorflow-estimator-2.12.0rc0\n",
      "  Attempting uninstall: tensorboard-data-server\n",
      "    Found existing installation: tensorboard-data-server 0.7.0\n",
      "    Uninstalling tensorboard-data-server-0.7.0:\n",
      "      Successfully uninstalled tensorboard-data-server-0.7.0\n",
      "  Attempting uninstall: protobuf\n",
      "    Found existing installation: protobuf 3.20.3\n",
      "    Uninstalling protobuf-3.20.3:\n",
      "      Successfully uninstalled protobuf-3.20.3\n",
      "  Attempting uninstall: keras\n",
      "    Found existing installation: keras 2.12.0rc0\n",
      "    Uninstalling keras-2.12.0rc0:\n",
      "      Successfully uninstalled keras-2.12.0rc0\n",
      "  Attempting uninstall: tensorboard\n",
      "    Found existing installation: tensorboard 2.12.0\n",
      "    Uninstalling tensorboard-2.12.0:\n",
      "      Successfully uninstalled tensorboard-2.12.0\n",
      "  Attempting uninstall: tensorflow\n",
      "    Found existing installation: tensorflow 2.12.0rc0\n",
      "    Uninstalling tensorflow-2.12.0rc0:\n",
      "      Successfully uninstalled tensorflow-2.12.0rc0\n",
      "Successfully installed cloudpickle-2.2.1 dm-reverb-0.10.0 gin-config-0.5.0 gym-0.23.0 gym-notices-0.0.8 keras-2.11.0 portpicker-1.5.2 protobuf-3.19.6 pygame-2.1.0 rlds-0.1.7 tensorboard-2.11.2 tensorboard-data-server-0.6.1 tensorflow-2.11.0 tensorflow-estimator-2.11.0 tensorflow-probability-0.19.0 tf-agents-0.15.0\n",
      "Requirement already satisfied: pyglet in /tmpfs/src/tf_docs_env/lib/python3.9/site-packages (2.0.4)\n"
     ]
    }
   ],
   "source": [
    "!sudo apt-get update\n",
    "!sudo apt-get install -y xvfb ffmpeg freeglut3-dev\n",
    "!pip install 'imageio==2.4.0'\n",
    "!pip install pyvirtualdisplay\n",
    "!pip install tf-agents[reverb]\n",
    "!pip install pyglet"
   ]
  },
  {
   "cell_type": "code",
   "execution_count": 3,
   "metadata": {
    "execution": {
     "iopub.execute_input": "2023-02-16T13:29:01.975124Z",
     "iopub.status.busy": "2023-02-16T13:29:01.974879Z",
     "iopub.status.idle": "2023-02-16T13:29:04.620016Z",
     "shell.execute_reply": "2023-02-16T13:29:04.619255Z"
    },
    "id": "sMitx5qSgJk1"
   },
   "outputs": [
    {
     "name": "stderr",
     "output_type": "stream",
     "text": [
      "2023-02-16 13:29:03.229568: W tensorflow/compiler/xla/stream_executor/platform/default/dso_loader.cc:64] Could not load dynamic library 'libnvinfer.so.7'; dlerror: libnvinfer.so.7: cannot open shared object file: No such file or directory\n",
      "2023-02-16 13:29:03.229668: W tensorflow/compiler/xla/stream_executor/platform/default/dso_loader.cc:64] Could not load dynamic library 'libnvinfer_plugin.so.7'; dlerror: libnvinfer_plugin.so.7: cannot open shared object file: No such file or directory\n",
      "2023-02-16 13:29:03.229677: W tensorflow/compiler/tf2tensorrt/utils/py_utils.cc:38] TF-TRT Warning: Cannot dlopen some TensorRT libraries. If you would like to use Nvidia GPU with TensorRT, please make sure the missing libraries mentioned above are installed properly.\n"
     ]
    }
   ],
   "source": [
    "from __future__ import absolute_import, division, print_function\n",
    "\n",
    "import base64\n",
    "import imageio\n",
    "import IPython\n",
    "import matplotlib\n",
    "import matplotlib.pyplot as plt\n",
    "import numpy as np\n",
    "import PIL.Image\n",
    "import pyvirtualdisplay\n",
    "import reverb\n",
    "\n",
    "import tensorflow as tf\n",
    "\n",
    "from tf_agents.agents.dqn import dqn_agent\n",
    "from tf_agents.drivers import py_driver\n",
    "from tf_agents.environments import suite_gym\n",
    "from tf_agents.environments import tf_py_environment\n",
    "from tf_agents.eval import metric_utils\n",
    "from tf_agents.metrics import tf_metrics\n",
    "from tf_agents.networks import sequential\n",
    "from tf_agents.policies import py_tf_eager_policy\n",
    "from tf_agents.policies import random_tf_policy\n",
    "from tf_agents.replay_buffers import reverb_replay_buffer\n",
    "from tf_agents.replay_buffers import reverb_utils\n",
    "from tf_agents.trajectories import trajectory\n",
    "from tf_agents.specs import tensor_spec\n",
    "from tf_agents.utils import common"
   ]
  },
  {
   "cell_type": "code",
   "execution_count": 4,
   "metadata": {
    "execution": {
     "iopub.execute_input": "2023-02-16T13:29:04.623737Z",
     "iopub.status.busy": "2023-02-16T13:29:04.623296Z",
     "iopub.status.idle": "2023-02-16T13:29:04.706102Z",
     "shell.execute_reply": "2023-02-16T13:29:04.705051Z"
    },
    "id": "J6HsdS5GbSjd"
   },
   "outputs": [],
   "source": [
    "# Set up a virtual display for rendering OpenAI gym environments.\n",
    "display = pyvirtualdisplay.Display(visible=0, size=(1400, 900)).start()"
   ]
  },
  {
   "cell_type": "code",
   "execution_count": 5,
   "metadata": {
    "execution": {
     "iopub.execute_input": "2023-02-16T13:29:04.709920Z",
     "iopub.status.busy": "2023-02-16T13:29:04.709635Z",
     "iopub.status.idle": "2023-02-16T13:29:04.717124Z",
     "shell.execute_reply": "2023-02-16T13:29:04.716583Z"
    },
    "id": "NspmzG4nP3b9"
   },
   "outputs": [
    {
     "data": {
      "text/plain": [
       "'2.11.0'"
      ]
     },
     "execution_count": 5,
     "metadata": {},
     "output_type": "execute_result"
    }
   ],
   "source": [
    "tf.version.VERSION"
   ]
  },
  {
   "cell_type": "markdown",
   "metadata": {
    "id": "LmC0NDhdLIKY"
   },
   "source": [
    "## Hyperparameters"
   ]
  },
  {
   "cell_type": "code",
   "execution_count": 6,
   "metadata": {
    "execution": {
     "iopub.execute_input": "2023-02-16T13:29:04.720105Z",
     "iopub.status.busy": "2023-02-16T13:29:04.719876Z",
     "iopub.status.idle": "2023-02-16T13:29:04.723601Z",
     "shell.execute_reply": "2023-02-16T13:29:04.723001Z"
    },
    "id": "HC1kNrOsLSIZ"
   },
   "outputs": [],
   "source": [
    "num_iterations = 20000 # @param {type:\"integer\"}\n",
    "\n",
    "initial_collect_steps = 100  # @param {type:\"integer\"}\n",
    "collect_steps_per_iteration =   1# @param {type:\"integer\"}\n",
    "replay_buffer_max_length = 100000  # @param {type:\"integer\"}\n",
    "\n",
    "batch_size = 64  # @param {type:\"integer\"}\n",
    "learning_rate = 1e-3  # @param {type:\"number\"}\n",
    "log_interval = 200  # @param {type:\"integer\"}\n",
    "\n",
    "num_eval_episodes = 10  # @param {type:\"integer\"}\n",
    "eval_interval = 1000  # @param {type:\"integer\"}"
   ]
  },
  {
   "cell_type": "markdown",
   "metadata": {
    "id": "VMsJC3DEgI0x"
   },
   "source": [
    "## Environment\n",
    "\n",
    "In Reinforcement Learning (RL), an environment represents the task or problem to be solved. Standard environments can be created in TF-Agents using `tf_agents.environments` suites. TF-Agents has suites for loading environments from sources such as the OpenAI Gym, Atari, and DM Control.\n",
    "\n",
    "Load the CartPole environment from the OpenAI Gym suite. "
   ]
  },
  {
   "cell_type": "code",
   "execution_count": 7,
   "metadata": {
    "execution": {
     "iopub.execute_input": "2023-02-16T13:29:04.726761Z",
     "iopub.status.busy": "2023-02-16T13:29:04.726190Z",
     "iopub.status.idle": "2023-02-16T13:29:04.755764Z",
     "shell.execute_reply": "2023-02-16T13:29:04.755203Z"
    },
    "id": "pYEz-S9gEv2-"
   },
   "outputs": [],
   "source": [
    "env_name = 'CartPole-v0'\n",
    "env = suite_gym.load(env_name)"
   ]
  },
  {
   "cell_type": "markdown",
   "metadata": {
    "id": "IIHYVBkuvPNw"
   },
   "source": [
    "You can render this environment to see how it looks. A free-swinging pole is attached to a cart.  The goal is to move the cart right or left in order to keep the pole pointing up."
   ]
  },
  {
   "cell_type": "code",
   "execution_count": 8,
   "metadata": {
    "execution": {
     "iopub.execute_input": "2023-02-16T13:29:04.758685Z",
     "iopub.status.busy": "2023-02-16T13:29:04.758440Z",
     "iopub.status.idle": "2023-02-16T13:29:04.884474Z",
     "shell.execute_reply": "2023-02-16T13:29:04.883958Z"
    },
    "id": "RlO7WIQHu_7D"
   },
   "outputs": [
    {
     "data": {
      "image/png": "[encoded data removed]",
      "text/plain": [
       "<PIL.Image.Image image mode=RGB size=600x400>"
      ]
     },
     "execution_count": 8,
     "metadata": {},
     "output_type": "execute_result"
    }
   ],
   "source": [
    "#@test {\"skip\": true}\n",
    "env.reset()\n",
    "PIL.Image.fromarray(env.render())"
   ]
  },
  {
   "cell_type": "markdown",
   "metadata": {
    "id": "B9_lskPOey18"
   },
   "source": [
    "The `environment.step` method takes an `action` in the environment and returns a `TimeStep` tuple containing the next observation of the environment and the reward for the action.\n",
    "\n",
    "The `time_step_spec()` method returns the specification for the `TimeStep` tuple. Its `observation` attribute shows the shape of observations, the data types, and the ranges of allowed values. The `reward` attribute shows the same details for the reward.\n"
   ]
  },
  {
   "cell_type": "code",
   "execution_count": 9,
   "metadata": {
    "execution": {
     "iopub.execute_input": "2023-02-16T13:29:04.887427Z",
     "iopub.status.busy": "2023-02-16T13:29:04.887196Z",
     "iopub.status.idle": "2023-02-16T13:29:05.051752Z",
     "shell.execute_reply": "2023-02-16T13:29:05.051051Z"
    },
    "id": "exDv57iHfwQV"
   },
   "outputs": [
    {
     "name": "stdout",
     "output_type": "stream",
     "text": [
      "Observation Spec:\n",
      "BoundedArraySpec(shape=(4,), dtype=dtype('float32'), name='observation', minimum=[-4.8000002e+00 -3.4028235e+38 -4.1887903e-01 -3.4028235e+38], maximum=[4.8000002e+00 3.4028235e+38 4.1887903e-01 3.4028235e+38])\n"
     ]
    }
   ],
   "source": [
    "print('Observation Spec:')\n",
    "print(env.time_step_spec().observation)"
   ]
  },
  {
   "cell_type": "code",
   "execution_count": 10,
   "metadata": {
    "execution": {
     "iopub.execute_input": "2023-02-16T13:29:05.054614Z",
     "iopub.status.busy": "2023-02-16T13:29:05.054391Z",
     "iopub.status.idle": "2023-02-16T13:29:05.058095Z",
     "shell.execute_reply": "2023-02-16T13:29:05.057559Z"
    },
    "id": "UxiSyCbBUQPi"
   },
   "outputs": [
    {
     "name": "stdout",
     "output_type": "stream",
     "text": [
      "Reward Spec:\n",
      "ArraySpec(shape=(), dtype=dtype('float32'), name='reward')\n"
     ]
    }
   ],
   "source": [
    "print('Reward Spec:')\n",
    "print(env.time_step_spec().reward)"
   ]
  },
  {
   "cell_type": "markdown",
   "metadata": {
    "id": "b_lHcIcqUaqB"
   },
   "source": [
    "The `action_spec()` method returns the shape, data types, and allowed values of valid actions."
   ]
  },
  {
   "cell_type": "code",
   "execution_count": 11,
   "metadata": {
    "execution": {
     "iopub.execute_input": "2023-02-16T13:29:05.061060Z",
     "iopub.status.busy": "2023-02-16T13:29:05.060812Z",
     "iopub.status.idle": "2023-02-16T13:29:05.064259Z",
     "shell.execute_reply": "2023-02-16T13:29:05.063722Z"
    },
    "id": "bttJ4uxZUQBr"
   },
   "outputs": [
    {
     "name": "stdout",
     "output_type": "stream",
     "text": [
      "Action Spec:\n",
      "BoundedArraySpec(shape=(), dtype=dtype('int64'), name='action', minimum=0, maximum=1)\n"
     ]
    }
   ],
   "source": [
    "print('Action Spec:')\n",
    "print(env.action_spec())"
   ]
  },
  {
   "cell_type": "markdown",
   "metadata": {
    "id": "eJCgJnx3g0yY"
   },
   "source": [
    "In the Cartpole environment:\n",
    "\n",
    "-   `observation` is an array of 4 floats: \n",
    "    -   the position and velocity of the cart\n",
    "    -   the angular position and velocity of the pole \n",
    "-   `reward` is a scalar float value\n",
    "-   `action` is a scalar integer with only two possible values:\n",
    "    -   `0` — \"move left\"\n",
    "    -   `1` — \"move right\"\n"
   ]
  },
  {
   "cell_type": "code",
   "execution_count": 12,
   "metadata": {
    "execution": {
     "iopub.execute_input": "2023-02-16T13:29:05.067062Z",
     "iopub.status.busy": "2023-02-16T13:29:05.066849Z",
     "iopub.status.idle": "2023-02-16T13:29:05.073103Z",
     "shell.execute_reply": "2023-02-16T13:29:05.072574Z"
    },
    "id": "V2UGR5t_iZX-"
   },
   "outputs": [
    {
     "name": "stdout",
     "output_type": "stream",
     "text": [
      "Time step:\n",
      "TimeStep(\n",
      "{'discount': array(1., dtype=float32),\n",
      " 'observation': array([-0.00597946,  0.02228957, -0.04941824, -0.02423982], dtype=float32),\n",
      " 'reward': array(0., dtype=float32),\n",
      " 'step_type': array(0, dtype=int32)})\n",
      "Next time step:\n",
      "TimeStep(\n",
      "{'discount': array(1., dtype=float32),\n",
      " 'observation': array([-0.00553366,  0.21808411, -0.04990304, -0.33209613], dtype=float32),\n",
      " 'reward': array(1., dtype=float32),\n",
      " 'step_type': array(1, dtype=int32)})\n"
     ]
    }
   ],
   "source": [
    "time_step = env.reset()\n",
    "print('Time step:')\n",
    "print(time_step)\n",
    "\n",
    "action = np.array(1, dtype=np.int32)\n",
    "\n",
    "next_time_step = env.step(action)\n",
    "print('Next time step:')\n",
    "print(next_time_step)"
   ]
  },
  {
   "cell_type": "markdown",
   "metadata": {
    "id": "4JSc9GviWUBK"
   },
   "source": [
    "Usually two environments are instantiated: one for training and one for evaluation. "
   ]
  },
  {
   "cell_type": "code",
   "execution_count": 13,
   "metadata": {
    "execution": {
     "iopub.execute_input": "2023-02-16T13:29:05.075881Z",
     "iopub.status.busy": "2023-02-16T13:29:05.075668Z",
     "iopub.status.idle": "2023-02-16T13:29:05.080322Z",
     "shell.execute_reply": "2023-02-16T13:29:05.079766Z"
    },
    "id": "N7brXNIGWXjC"
   },
   "outputs": [],
   "source": [
    "train_py_env = suite_gym.load(env_name)\n",
    "eval_py_env = suite_gym.load(env_name)"
   ]
  },
  {
   "cell_type": "markdown",
   "metadata": {
    "id": "zuUqXAVmecTU"
   },
   "source": [
    "The Cartpole environment, like most environments, is written in pure Python. This is converted to TensorFlow using the `TFPyEnvironment` wrapper.\n",
    "\n",
    "The original environment's API uses Numpy arrays. The `TFPyEnvironment` converts these to `Tensors` to make it compatible with Tensorflow agents and policies.\n"
   ]
  },
  {
   "cell_type": "code",
   "execution_count": 14,
   "metadata": {
    "execution": {
     "iopub.execute_input": "2023-02-16T13:29:05.083292Z",
     "iopub.status.busy": "2023-02-16T13:29:05.082809Z",
     "iopub.status.idle": "2023-02-16T13:29:05.091575Z",
     "shell.execute_reply": "2023-02-16T13:29:05.090925Z"
    },
    "id": "Xp-Y4mD6eDhF"
   },
   "outputs": [],
   "source": [
    "train_env = tf_py_environment.TFPyEnvironment(train_py_env)\n",
    "eval_env = tf_py_environment.TFPyEnvironment(eval_py_env)"
   ]
  },
  {
   "cell_type": "markdown",
   "metadata": {
    "id": "E9lW_OZYFR8A"
   },
   "source": [
    "## Agent\n",
    "\n",
    "The algorithm used to solve an RL problem is represented by an `Agent`. TF-Agents provides standard implementations of a variety of `Agents`, including:\n",
    "\n",
    "-   [DQN](https://storage.googleapis.com/deepmind-media/dqn/DQNNaturePaper.pdf) (used in this tutorial)\n",
    "-   [REINFORCE](https://www-anw.cs.umass.edu/~barto/courses/cs687/williams92simple.pdf)\n",
    "-   [DDPG](https://arxiv.org/pdf/1509.02971.pdf)\n",
    "-   [TD3](https://arxiv.org/pdf/1802.09477.pdf)\n",
    "-   [PPO](https://arxiv.org/abs/1707.06347)\n",
    "-   [SAC](https://arxiv.org/abs/1801.01290)\n",
    "\n",
    "The DQN agent can be used in any environment which has a discrete action space.\n",
    "\n",
    "At the heart of a DQN Agent is a `QNetwork`, a neural network model that can learn to predict `QValues` (expected returns) for all actions, given an observation from the environment.\n",
    "\n",
    "We will use `tf_agents.networks.` to create a `QNetwork`. The network will consist of a sequence of `tf.keras.layers.Dense` layers, where the final layer will have 1 output for each possible action."
   ]
  },
  {
   "cell_type": "code",
   "execution_count": 15,
   "metadata": {
    "execution": {
     "iopub.execute_input": "2023-02-16T13:29:05.094404Z",
     "iopub.status.busy": "2023-02-16T13:29:05.094178Z",
     "iopub.status.idle": "2023-02-16T13:29:05.111080Z",
     "shell.execute_reply": "2023-02-16T13:29:05.110446Z"
    },
    "id": "TgkdEPg_muzV"
   },
   "outputs": [],
   "source": [
    "fc_layer_params = (100, 50)\n",
    "action_tensor_spec = tensor_spec.from_spec(env.action_spec())\n",
    "num_actions = action_tensor_spec.maximum - action_tensor_spec.minimum + 1\n",
    "\n",
    "# Define a helper function to create Dense layers configured with the right\n",
    "# activation and kernel initializer.\n",
    "def dense_layer(num_units):\n",
    "  return tf.keras.layers.Dense(\n",
    "      num_units,\n",
    "      activation=tf.keras.activations.relu,\n",
    "      kernel_initializer=tf.keras.initializers.VarianceScaling(\n",
    "          scale=2.0, mode='fan_in', distribution='truncated_normal'))\n",
    "\n",
    "# QNetwork consists of a sequence of Dense layers followed by a dense layer\n",
    "# with `num_actions` units to generate one q_value per available action as\n",
    "# its output.\n",
    "dense_layers = [dense_layer(num_units) for num_units in fc_layer_params]\n",
    "q_values_layer = tf.keras.layers.Dense(\n",
    "    num_actions,\n",
    "    activation=None,\n",
    "    kernel_initializer=tf.keras.initializers.RandomUniform(\n",
    "        minval=-0.03, maxval=0.03),\n",
    "    bias_initializer=tf.keras.initializers.Constant(-0.2))\n",
    "q_net = sequential.Sequential(dense_layers + [q_values_layer])"
   ]
  },
  {
   "cell_type": "markdown",
   "metadata": {
    "id": "z62u55hSmviJ"
   },
   "source": [
    "Now use `tf_agents.agents.dqn.dqn_agent` to instantiate a `DqnAgent`. In addition to the `time_step_spec`, `action_spec` and the QNetwork, the agent constructor also requires an optimizer (in this case, `AdamOptimizer`), a loss function, and an integer step counter."
   ]
  },
  {
   "cell_type": "code",
   "execution_count": 16,
   "metadata": {
    "execution": {
     "iopub.execute_input": "2023-02-16T13:29:05.113866Z",
     "iopub.status.busy": "2023-02-16T13:29:05.113663Z",
     "iopub.status.idle": "2023-02-16T13:29:08.684793Z",
     "shell.execute_reply": "2023-02-16T13:29:08.684103Z"
    },
    "id": "jbY4yrjTEyc9"
   },
   "outputs": [],
   "source": [
    "optimizer = tf.keras.optimizers.Adam(learning_rate=learning_rate)\n",
    "\n",
    "train_step_counter = tf.Variable(0)\n",
    "\n",
    "agent = dqn_agent.DqnAgent(\n",
    "    train_env.time_step_spec(),\n",
    "    train_env.action_spec(),\n",
    "    q_network=q_net,\n",
    "    optimizer=optimizer,\n",
    "    td_errors_loss_fn=common.element_wise_squared_loss,\n",
    "    train_step_counter=train_step_counter)\n",
    "\n",
    "agent.initialize()"
   ]
  },
  {
   "cell_type": "markdown",
   "metadata": {
    "id": "I0KLrEPwkn5x"
   },
   "source": [
    "## Policies\n",
    "\n",
    "A policy defines the way an agent acts in an environment. Typically, the goal of reinforcement learning is to train the underlying model until the policy produces the desired outcome.\n",
    "\n",
    "In this tutorial:\n",
    "\n",
    "-   The desired outcome is keeping the pole balanced upright over the cart.\n",
    "-   The policy returns an action (left or right) for each `time_step` observation.\n",
    "\n",
    "Agents contain two policies: \n",
    "\n",
    "-   `agent.policy` — The main policy that is used for evaluation and deployment.\n",
    "-   `agent.collect_policy` — A second policy that is used for data collection.\n"
   ]
  },
  {
   "cell_type": "code",
   "execution_count": 17,
   "metadata": {
    "execution": {
     "iopub.execute_input": "2023-02-16T13:29:08.688393Z",
     "iopub.status.busy": "2023-02-16T13:29:08.688151Z",
     "iopub.status.idle": "2023-02-16T13:29:08.691431Z",
     "shell.execute_reply": "2023-02-16T13:29:08.690712Z"
    },
    "id": "BwY7StuMkuV4"
   },
   "outputs": [],
   "source": [
    "eval_policy = agent.policy\n",
    "collect_policy = agent.collect_policy"
   ]
  },
  {
   "cell_type": "markdown",
   "metadata": {
    "id": "2Qs1Fl3dV0ae"
   },
   "source": [
    "Policies can be created independently of agents. For example, use `tf_agents.policies.random_tf_policy` to create a policy which will randomly select an action for each `time_step`."
   ]
  },
  {
   "cell_type": "code",
   "execution_count": 18,
   "metadata": {
    "execution": {
     "iopub.execute_input": "2023-02-16T13:29:08.694293Z",
     "iopub.status.busy": "2023-02-16T13:29:08.694073Z",
     "iopub.status.idle": "2023-02-16T13:29:08.697417Z",
     "shell.execute_reply": "2023-02-16T13:29:08.696833Z"
    },
    "id": "HE37-UCIrE69"
   },
   "outputs": [],
   "source": [
    "random_policy = random_tf_policy.RandomTFPolicy(train_env.time_step_spec(),\n",
    "                                                train_env.action_spec())"
   ]
  },
  {
   "cell_type": "markdown",
   "metadata": {
    "id": "dOlnlRRsUbxP"
   },
   "source": [
    "To get an action from a policy, call the `policy.action(time_step)` method. The `time_step` contains the observation from the environment. This method returns a `PolicyStep`, which is a named tuple with three components:\n",
    "\n",
    "-   `action` — the action to be taken (in this case, `0` or `1`)\n",
    "-   `state` — used for stateful (that is, RNN-based) policies\n",
    "-   `info` — auxiliary data, such as log probabilities of actions"
   ]
  },
  {
   "cell_type": "code",
   "execution_count": 19,
   "metadata": {
    "execution": {
     "iopub.execute_input": "2023-02-16T13:29:08.700522Z",
     "iopub.status.busy": "2023-02-16T13:29:08.699955Z",
     "iopub.status.idle": "2023-02-16T13:29:08.706195Z",
     "shell.execute_reply": "2023-02-16T13:29:08.705671Z"
    },
    "id": "5gCcpXswVAxk"
   },
   "outputs": [],
   "source": [
    "example_environment = tf_py_environment.TFPyEnvironment(\n",
    "    suite_gym.load('CartPole-v0'))"
   ]
  },
  {
   "cell_type": "code",
   "execution_count": 20,
   "metadata": {
    "execution": {
     "iopub.execute_input": "2023-02-16T13:29:08.708843Z",
     "iopub.status.busy": "2023-02-16T13:29:08.708636Z",
     "iopub.status.idle": "2023-02-16T13:29:08.713747Z",
     "shell.execute_reply": "2023-02-16T13:29:08.713208Z"
    },
    "id": "D4DHZtq3Ndis"
   },
   "outputs": [],
   "source": [
    "time_step = example_environment.reset()"
   ]
  },
  {
   "cell_type": "code",
   "execution_count": 21,
   "metadata": {
    "execution": {
     "iopub.execute_input": "2023-02-16T13:29:08.716815Z",
     "iopub.status.busy": "2023-02-16T13:29:08.716259Z",
     "iopub.status.idle": "2023-02-16T13:29:08.728163Z",
     "shell.execute_reply": "2023-02-16T13:29:08.727562Z"
    },
    "id": "PRFqAUzpNaAW"
   },
   "outputs": [
    {
     "data": {
      "text/plain": [
       "PolicyStep(action=<tf.Tensor: shape=(1,), dtype=int64, numpy=array([0])>, state=(), info=())"
      ]
     },
     "execution_count": 21,
     "metadata": {},
     "output_type": "execute_result"
    }
   ],
   "source": [
    "random_policy.action(time_step)"
   ]
  },
  {
   "cell_type": "markdown",
   "metadata": {
    "id": "94rCXQtbUbXv"
   },
   "source": [
    "## Metrics and Evaluation\n",
    "\n",
    "The most common metric used to evaluate a policy is the average return. The return is the sum of rewards obtained while running a policy in an environment for an episode. Several episodes are run, creating an average return.\n",
    "\n",
    "The following function computes the average return of a policy, given the policy, environment, and a number of episodes.\n"
   ]
  },
  {
   "cell_type": "code",
   "execution_count": 22,
   "metadata": {
    "execution": {
     "iopub.execute_input": "2023-02-16T13:29:08.730917Z",
     "iopub.status.busy": "2023-02-16T13:29:08.730649Z",
     "iopub.status.idle": "2023-02-16T13:29:08.734965Z",
     "shell.execute_reply": "2023-02-16T13:29:08.734349Z"
    },
    "id": "bitzHo5_UbXy"
   },
   "outputs": [],
   "source": [
    "#@test {\"skip\": true}\n",
    "def compute_avg_return(environment, policy, num_episodes=10):\n",
    "\n",
    "  total_return = 0.0\n",
    "  for _ in range(num_episodes):\n",
    "\n",
    "    time_step = environment.reset()\n",
    "    episode_return = 0.0\n",
    "\n",
    "    while not time_step.is_last():\n",
    "      action_step = policy.action(time_step)\n",
    "      time_step = environment.step(action_step.action)\n",
    "      episode_return += time_step.reward\n",
    "    total_return += episode_return\n",
    "\n",
    "  avg_return = total_return / num_episodes\n",
    "  return avg_return.numpy()[0]\n",
    "\n",
    "\n",
    "# See also the metrics module for standard implementations of different metrics.\n",
    "# https://github.com/tensorflow/agents/tree/master/tf_agents/metrics"
   ]
  },
  {
   "cell_type": "markdown",
   "metadata": {
    "id": "_snCVvq5Z8lJ"
   },
   "source": [
    "Running this computation on the `random_policy` shows a baseline performance in the environment."
   ]
  },
  {
   "cell_type": "code",
   "execution_count": 23,
   "metadata": {
    "execution": {
     "iopub.execute_input": "2023-02-16T13:29:08.737925Z",
     "iopub.status.busy": "2023-02-16T13:29:08.737387Z",
     "iopub.status.idle": "2023-02-16T13:29:09.607013Z",
     "shell.execute_reply": "2023-02-16T13:29:09.606254Z"
    },
    "id": "9bgU6Q6BZ8Bp"
   },
   "outputs": [
    {
     "data": {
      "text/plain": [
       "22.2"
      ]
     },
     "execution_count": 23,
     "metadata": {},
     "output_type": "execute_result"
    }
   ],
   "source": [
    "compute_avg_return(eval_env, random_policy, num_eval_episodes)"
   ]
  },
  {
   "cell_type": "markdown",
   "metadata": {
    "id": "NLva6g2jdWgr"
   },
   "source": [
    "## Replay Buffer\n",
    "\n",
    "In order to keep track of the data collected from the environment, we will use [Reverb](https://deepmind.com/research/open-source/Reverb), an efficient, extensible, and easy-to-use replay system by Deepmind. It stores experience data when we collect trajectories and is consumed during training.\n",
    "\n",
    "This replay buffer is constructed using specs describing the tensors that are to be stored, which can be obtained from the agent using agent.collect_data_spec.\n"
   ]
  },
  {
   "cell_type": "code",
   "execution_count": 24,
   "metadata": {
    "execution": {
     "iopub.execute_input": "2023-02-16T13:29:09.610057Z",
     "iopub.status.busy": "2023-02-16T13:29:09.609838Z",
     "iopub.status.idle": "2023-02-16T13:29:09.625882Z",
     "shell.execute_reply": "2023-02-16T13:29:09.625286Z"
    },
    "id": "vX2zGUWJGWAl"
   },
   "outputs": [
    {
     "name": "stderr",
     "output_type": "stream",
     "text": [
      "[reverb/cc/platform/tfrecord_checkpointer.cc:162]  Initializing TFRecordCheckpointer in /tmpfs/tmp/tmpfm37nz7v.\n",
      "[reverb/cc/platform/tfrecord_checkpointer.cc:567] Loading latest checkpoint from /tmpfs/tmp/tmpfm37nz7v\n",
      "[reverb/cc/platform/default/server.cc:71] Started replay server on port 39871\n"
     ]
    }
   ],
   "source": [
    "table_name = 'uniform_table'\n",
    "replay_buffer_signature = tensor_spec.from_spec(\n",
    "      agent.collect_data_spec)\n",
    "replay_buffer_signature = tensor_spec.add_outer_dim(\n",
    "    replay_buffer_signature)\n",
    "\n",
    "table = reverb.Table(\n",
    "    table_name,\n",
    "    max_size=replay_buffer_max_length,\n",
    "    sampler=reverb.selectors.Uniform(),\n",
    "    remover=reverb.selectors.Fifo(),\n",
    "    rate_limiter=reverb.rate_limiters.MinSize(1),\n",
    "    signature=replay_buffer_signature)\n",
    "\n",
    "reverb_server = reverb.Server([table])\n",
    "\n",
    "replay_buffer = reverb_replay_buffer.ReverbReplayBuffer(\n",
    "    agent.collect_data_spec,\n",
    "    table_name=table_name,\n",
    "    sequence_length=2,\n",
    "    local_server=reverb_server)\n",
    "\n",
    "rb_observer = reverb_utils.ReverbAddTrajectoryObserver(\n",
    "  replay_buffer.py_client,\n",
    "  table_name,\n",
    "  sequence_length=2)"
   ]
  },
  {
   "cell_type": "markdown",
   "metadata": {
    "id": "ZGNTDJpZs4NN"
   },
   "source": [
    "For most agents, `collect_data_spec` is a named tuple called `Trajectory`, containing the specs for observations, actions, rewards, and other items."
   ]
  },
  {
   "cell_type": "code",
   "execution_count": 25,
   "metadata": {
    "execution": {
     "iopub.execute_input": "2023-02-16T13:29:09.628708Z",
     "iopub.status.busy": "2023-02-16T13:29:09.628479Z",
     "iopub.status.idle": "2023-02-16T13:29:09.633712Z",
     "shell.execute_reply": "2023-02-16T13:29:09.633176Z"
    },
    "id": "_IZ-3HcqgE1z"
   },
   "outputs": [
    {
     "data": {
      "text/plain": [
       "Trajectory(\n",
       "{'action': BoundedTensorSpec(shape=(), dtype=tf.int64, name='action', minimum=array(0), maximum=array(1)),\n",
       " 'discount': BoundedTensorSpec(shape=(), dtype=tf.float32, name='discount', minimum=array(0., dtype=float32), maximum=array(1., dtype=float32)),\n",
       " 'next_step_type': TensorSpec(shape=(), dtype=tf.int32, name='step_type'),\n",
       " 'observation': BoundedTensorSpec(shape=(4,), dtype=tf.float32, name='observation', minimum=array([-4.8000002e+00, -3.4028235e+38, -4.1887903e-01, -3.4028235e+38],\n",
       "      dtype=float32), maximum=array([4.8000002e+00, 3.4028235e+38, 4.1887903e-01, 3.4028235e+38],\n",
       "      dtype=float32)),\n",
       " 'policy_info': (),\n",
       " 'reward': TensorSpec(shape=(), dtype=tf.float32, name='reward'),\n",
       " 'step_type': TensorSpec(shape=(), dtype=tf.int32, name='step_type')})"
      ]
     },
     "execution_count": 25,
     "metadata": {},
     "output_type": "execute_result"
    }
   ],
   "source": [
    "agent.collect_data_spec"
   ]
  },
  {
   "cell_type": "code",
   "execution_count": 26,
   "metadata": {
    "execution": {
     "iopub.execute_input": "2023-02-16T13:29:09.636454Z",
     "iopub.status.busy": "2023-02-16T13:29:09.636001Z",
     "iopub.status.idle": "2023-02-16T13:29:09.639719Z",
     "shell.execute_reply": "2023-02-16T13:29:09.639192Z"
    },
    "id": "sy6g1tGcfRlw"
   },
   "outputs": [
    {
     "data": {
      "text/plain": [
       "('step_type',\n",
       " 'observation',\n",
       " 'action',\n",
       " 'policy_info',\n",
       " 'next_step_type',\n",
       " 'reward',\n",
       " 'discount')"
      ]
     },
     "execution_count": 26,
     "metadata": {},
     "output_type": "execute_result"
    }
   ],
   "source": [
    "agent.collect_data_spec._fields"
   ]
  },
  {
   "cell_type": "markdown",
   "metadata": {
    "id": "rVD5nQ9ZGo8_"
   },
   "source": [
    "## Data Collection\n",
    "\n",
    "Now execute the random policy in the environment for a few steps, recording the data in the replay buffer.\n",
    "\n",
    "Here we are using 'PyDriver' to run the experience collecting loop. You can learn more about TF Agents driver in our [drivers tutorial](https://www.tensorflow.org/agents/tutorials/4_drivers_tutorial)."
   ]
  },
  {
   "cell_type": "code",
   "execution_count": 27,
   "metadata": {
    "execution": {
     "iopub.execute_input": "2023-02-16T13:29:09.642199Z",
     "iopub.status.busy": "2023-02-16T13:29:09.641990Z",
     "iopub.status.idle": "2023-02-16T13:29:09.878893Z",
     "shell.execute_reply": "2023-02-16T13:29:09.878231Z"
    },
    "id": "wr1KSAEGG4h9"
   },
   "outputs": [
    {
     "data": {
      "text/plain": [
       "(TimeStep(\n",
       " {'discount': array(1., dtype=float32),\n",
       "  'observation': array([ 0.03317351,  0.03446898, -0.01081271, -0.09491368], dtype=float32),\n",
       "  'reward': array(1., dtype=float32),\n",
       "  'step_type': array(1, dtype=int32)}),\n",
       " ())"
      ]
     },
     "execution_count": 27,
     "metadata": {},
     "output_type": "execute_result"
    }
   ],
   "source": [
    "#@test {\"skip\": true}\n",
    "py_driver.PyDriver(\n",
    "    env,\n",
    "    py_tf_eager_policy.PyTFEagerPolicy(\n",
    "      random_policy, use_tf_function=True),\n",
    "    [rb_observer],\n",
    "    max_steps=initial_collect_steps).run(train_py_env.reset())"
   ]
  },
  {
   "cell_type": "markdown",
   "metadata": {
    "id": "84z5pQJdoKxo"
   },
   "source": [
    "The replay buffer is now a collection of Trajectories."
   ]
  },
  {
   "cell_type": "code",
   "execution_count": 28,
   "metadata": {
    "execution": {
     "iopub.execute_input": "2023-02-16T13:29:09.881793Z",
     "iopub.status.busy": "2023-02-16T13:29:09.881559Z",
     "iopub.status.idle": "2023-02-16T13:29:09.884423Z",
     "shell.execute_reply": "2023-02-16T13:29:09.883809Z"
    },
    "id": "4wZnLu2ViO4E"
   },
   "outputs": [],
   "source": [
    "# For the curious:\n",
    "# Uncomment to peel one of these off and inspect it.\n",
    "# iter(replay_buffer.as_dataset()).next()"
   ]
  },
  {
   "cell_type": "markdown",
   "metadata": {
    "id": "TujU-PMUsKjS"
   },
   "source": [
    "The agent needs access to the replay buffer. This is provided by creating an iterable `tf.data.Dataset` pipeline which will feed data to the agent.\n",
    "\n",
    "Each row of the replay buffer only stores a single observation step. But since the DQN Agent needs both the current and next observation to compute the loss, the dataset pipeline will sample two adjacent rows for each item in the batch (`num_steps=2`).\n",
    "\n",
    "This dataset is also optimized by running parallel calls and prefetching data."
   ]
  },
  {
   "cell_type": "code",
   "execution_count": 29,
   "metadata": {
    "execution": {
     "iopub.execute_input": "2023-02-16T13:29:09.887212Z",
     "iopub.status.busy": "2023-02-16T13:29:09.887000Z",
     "iopub.status.idle": "2023-02-16T13:29:10.198112Z",
     "shell.execute_reply": "2023-02-16T13:29:10.197373Z"
    },
    "id": "ba7bilizt_qW"
   },
   "outputs": [
    {
     "name": "stdout",
     "output_type": "stream",
     "text": [
      "WARNING:tensorflow:From /tmpfs/src/tf_docs_env/lib/python3.9/site-packages/tensorflow/python/autograph/pyct/static_analysis/liveness.py:83: Analyzer.lamba_check (from tensorflow.python.autograph.pyct.static_analysis.liveness) is deprecated and will be removed after 2023-09-23.\n",
      "Instructions for updating:\n",
      "Lambda fuctions will be no more assumed to be used in the statement where they are used, or at least in the same block. https://github.com/tensorflow/tensorflow/issues/56089\n"
     ]
    },
    {
     "data": {
      "text/plain": [
       "<PrefetchDataset element_spec=(Trajectory(\n",
       "{'action': TensorSpec(shape=(64, 2), dtype=tf.int64, name=None),\n",
       " 'discount': TensorSpec(shape=(64, 2), dtype=tf.float32, name=None),\n",
       " 'next_step_type': TensorSpec(shape=(64, 2), dtype=tf.int32, name=None),\n",
       " 'observation': TensorSpec(shape=(64, 2, 4), dtype=tf.float32, name=None),\n",
       " 'policy_info': (),\n",
       " 'reward': TensorSpec(shape=(64, 2), dtype=tf.float32, name=None),\n",
       " 'step_type': TensorSpec(shape=(64, 2), dtype=tf.int32, name=None)}), SampleInfo(key=TensorSpec(shape=(64, 2), dtype=tf.uint64, name=None), probability=TensorSpec(shape=(64, 2), dtype=tf.float64, name=None), table_size=TensorSpec(shape=(64, 2), dtype=tf.int64, name=None), priority=TensorSpec(shape=(64, 2), dtype=tf.float64, name=None), times_sampled=TensorSpec(shape=(64, 2), dtype=tf.int32, name=None)))>"
      ]
     },
     "execution_count": 29,
     "metadata": {},
     "output_type": "execute_result"
    }
   ],
   "source": [
    "# Dataset generates trajectories with shape [Bx2x...]\n",
    "dataset = replay_buffer.as_dataset(\n",
    "    num_parallel_calls=3,\n",
    "    sample_batch_size=batch_size,\n",
    "    num_steps=2).prefetch(3)\n",
    "\n",
    "dataset"
   ]
  },
  {
   "cell_type": "code",
   "execution_count": 30,
   "metadata": {
    "execution": {
     "iopub.execute_input": "2023-02-16T13:29:10.201077Z",
     "iopub.status.busy": "2023-02-16T13:29:10.200820Z",
     "iopub.status.idle": "2023-02-16T13:29:10.278224Z",
     "shell.execute_reply": "2023-02-16T13:29:10.277502Z"
    },
    "id": "K13AST-2ppOq"
   },
   "outputs": [
    {
     "name": "stdout",
     "output_type": "stream",
     "text": [
      "<tensorflow.python.data.ops.iterator_ops.OwnedIterator object at 0x7fa86fb85f70>\n"
     ]
    }
   ],
   "source": [
    "iterator = iter(dataset)\n",
    "print(iterator)"
   ]
  },
  {
   "cell_type": "code",
   "execution_count": 31,
   "metadata": {
    "execution": {
     "iopub.execute_input": "2023-02-16T13:29:10.281186Z",
     "iopub.status.busy": "2023-02-16T13:29:10.280946Z",
     "iopub.status.idle": "2023-02-16T13:29:10.284104Z",
     "shell.execute_reply": "2023-02-16T13:29:10.283458Z"
    },
    "id": "Th5w5Sff0b16"
   },
   "outputs": [],
   "source": [
    "# For the curious:\n",
    "# Uncomment to see what the dataset iterator is feeding to the agent.\n",
    "# Compare this representation of replay data \n",
    "# to the collection of individual trajectories shown earlier.\n",
    "\n",
    "# iterator.next()"
   ]
  },
  {
   "cell_type": "markdown",
   "metadata": {
    "id": "hBc9lj9VWWtZ"
   },
   "source": [
    "## Training the agent\n",
    "\n",
    "Two things must happen during the training loop:\n",
    "\n",
    "-   collect data from the environment\n",
    "-   use that data to train the agent's neural network(s)\n",
    "\n",
    "This example also periodicially evaluates the policy and prints the current score.\n",
    "\n",
    "The following will take ~5 minutes to run."
   ]
  },
  {
   "cell_type": "code",
   "execution_count": 32,
   "metadata": {
    "execution": {
     "iopub.execute_input": "2023-02-16T13:29:10.286896Z",
     "iopub.status.busy": "2023-02-16T13:29:10.286648Z",
     "iopub.status.idle": "2023-02-16T13:35:29.658676Z",
     "shell.execute_reply": "2023-02-16T13:35:29.657960Z"
    },
    "id": "0pTbJ3PeyF-u"
   },
   "outputs": [
    {
     "name": "stdout",
     "output_type": "stream",
     "text": [
      "WARNING:tensorflow:From /tmpfs/src/tf_docs_env/lib/python3.9/site-packages/tensorflow/python/util/dispatch.py:1176: calling foldr_v2 (from tensorflow.python.ops.functional_ops) with back_prop=False is deprecated and will be removed in a future version.\n",
      "Instructions for updating:\n",
      "back_prop=False is deprecated. Consider using tf.stop_gradient instead.\n",
      "Instead of:\n",
      "results = tf.foldr(fn, elems, back_prop=False)\n",
      "Use:\n",
      "results = tf.nest.map_structure(tf.stop_gradient, tf.foldr(fn, elems))\n"
     ]
    },
    {
     "name": "stderr",
     "output_type": "stream",
     "text": [
      "[reverb/cc/client.cc:165] Sampler and server are owned by the same process (20519) so Table uniform_table is accessed directly without gRPC.\n",
      "[reverb/cc/client.cc:165] Sampler and server are owned by the same process (20519) so Table uniform_table is accessed directly without gRPC.\n",
      "[reverb/cc/client.cc:165] Sampler and server are owned by the same process (20519) so Table uniform_table is accessed directly without gRPC.\n",
      "[reverb/cc/client.cc:165] Sampler and server are owned by the same process (20519) so Table uniform_table is accessed directly without gRPC.\n",
      "[reverb/cc/client.cc:165] Sampler and server are owned by the same process (20519) so Table uniform_table is accessed directly without gRPC.\n",
      "[reverb/cc/client.cc:165] Sampler and server are owned by the same process (20519) so Table uniform_table is accessed directly without gRPC.\n"
     ]
    },
    {
     "name": "stdout",
     "output_type": "stream",
     "text": [
      "step = 200: loss = 20.331722259521484\n",
      "step = 400: loss = 1.3115228414535522\n",
      "step = 600: loss = 3.6862149238586426\n",
      "step = 800: loss = 25.54358673095703\n",
      "step = 1000: loss = 93.734619140625\n",
      "step = 1000: Average Return = 46.400001525878906\n",
      "step = 1200: loss = 24.599149703979492\n",
      "step = 1400: loss = 60.56067657470703\n",
      "step = 1600: loss = 760.88037109375\n",
      "step = 1800: loss = 106.09115600585938\n",
      "step = 2000: loss = 770.9517822265625\n",
      "step = 2000: Average Return = 200.0\n",
      "step = 2200: loss = 232.77313232421875\n",
      "step = 2400: loss = 954.6015625\n",
      "step = 2600: loss = 7539.4580078125\n",
      "step = 2800: loss = 471.50140380859375\n",
      "step = 3000: loss = 421.0692443847656\n",
      "step = 3000: Average Return = 200.0\n",
      "step = 3200: loss = 247.37408447265625\n",
      "step = 3400: loss = 640.3017578125\n",
      "step = 3600: loss = 15842.451171875\n",
      "step = 3800: loss = 2536.94091796875\n",
      "step = 4000: loss = 963.9180908203125\n",
      "step = 4000: Average Return = 200.0\n",
      "step = 4200: loss = 423.5577697753906\n",
      "step = 4400: loss = 403.044921875\n",
      "step = 4600: loss = 954.7439575195312\n",
      "step = 4800: loss = 289.0184631347656\n",
      "step = 5000: loss = 675.5223388671875\n",
      "step = 5000: Average Return = 200.0\n",
      "step = 5200: loss = 789.85888671875\n",
      "step = 5400: loss = 39104.31640625\n",
      "step = 5600: loss = 935.078125\n",
      "step = 5800: loss = 70645.5\n",
      "step = 6000: loss = 81613.0546875\n",
      "step = 6000: Average Return = 200.0\n",
      "step = 6200: loss = 670.2115478515625\n",
      "step = 6400: loss = 312.8699951171875\n",
      "step = 6600: loss = 484.3177490234375\n",
      "step = 6800: loss = 589.077880859375\n",
      "step = 7000: loss = 633.8604125976562\n",
      "step = 7000: Average Return = 200.0\n",
      "step = 7200: loss = 399.37847900390625\n",
      "step = 7400: loss = 866.277099609375\n",
      "step = 7600: loss = 491.73382568359375\n",
      "step = 7800: loss = 372.16693115234375\n",
      "step = 8000: loss = 254.13558959960938\n",
      "step = 8000: Average Return = 200.0\n",
      "step = 8200: loss = 401.8952331542969\n",
      "step = 8400: loss = 223.53965759277344\n",
      "step = 8600: loss = 422.3853759765625\n",
      "step = 8800: loss = 1538.7784423828125\n",
      "step = 9000: loss = 597.556396484375\n",
      "step = 9000: Average Return = 200.0\n",
      "step = 9200: loss = 618.9515991210938\n",
      "step = 9400: loss = 561.2392578125\n",
      "step = 9600: loss = 491.34844970703125\n",
      "step = 9800: loss = 229.70156860351562\n",
      "step = 10000: loss = 13431.5908203125\n",
      "step = 10000: Average Return = 200.0\n",
      "step = 10200: loss = 292.134521484375\n",
      "step = 10400: loss = 804.981689453125\n",
      "step = 10600: loss = 197.18800354003906\n",
      "step = 10800: loss = 606.76416015625\n",
      "step = 11000: loss = 440.2492370605469\n",
      "step = 11000: Average Return = 200.0\n",
      "step = 11200: loss = 303.9647216796875\n",
      "step = 11400: loss = 113.16478729248047\n",
      "step = 11600: loss = 280.0725402832031\n",
      "step = 11800: loss = 115.59662628173828\n",
      "step = 12000: loss = 125.70242309570312\n",
      "step = 12000: Average Return = 200.0\n",
      "step = 12200: loss = 218.43441772460938\n",
      "step = 12400: loss = 1094.86962890625\n",
      "step = 12600: loss = 213.63992309570312\n",
      "step = 12800: loss = 356.6697998046875\n",
      "step = 13000: loss = 825.29736328125\n",
      "step = 13000: Average Return = 200.0\n",
      "step = 13200: loss = 357.39111328125\n",
      "step = 13400: loss = 528.3963623046875\n",
      "step = 13600: loss = 319.46343994140625\n",
      "step = 13800: loss = 510.74554443359375\n",
      "step = 14000: loss = 496.3047790527344\n",
      "step = 14000: Average Return = 200.0\n",
      "step = 14200: loss = 1039.976806640625\n",
      "step = 14400: loss = 1224.116943359375\n",
      "step = 14600: loss = 150.0677490234375\n",
      "step = 14800: loss = 47494.9140625\n",
      "step = 15000: loss = 1130.8258056640625\n",
      "step = 15000: Average Return = 200.0\n",
      "step = 15200: loss = 1225.6185302734375\n",
      "step = 15400: loss = 1091.06640625\n",
      "step = 15600: loss = 1100.02099609375\n",
      "step = 15800: loss = 1358.365478515625\n",
      "step = 16000: loss = 525.7699584960938\n",
      "step = 16000: Average Return = 200.0\n",
      "step = 16200: loss = 1316.208251953125\n",
      "step = 16400: loss = 1414.6695556640625\n",
      "step = 16600: loss = 984.55029296875\n",
      "step = 16800: loss = 1629.3614501953125\n",
      "step = 17000: loss = 1256.438232421875\n",
      "step = 17000: Average Return = 200.0\n",
      "step = 17200: loss = 180060.078125\n",
      "step = 17400: loss = 1382.09912109375\n",
      "step = 17600: loss = 94595.5703125\n",
      "step = 17800: loss = 1473.7625732421875\n",
      "step = 18000: loss = 9914.451171875\n",
      "step = 18000: Average Return = 200.0\n",
      "step = 18200: loss = 1026.8931884765625\n",
      "step = 18400: loss = 861.779541015625\n",
      "step = 18600: loss = 1655.6065673828125\n",
      "step = 18800: loss = 1006.54150390625\n",
      "step = 19000: loss = 724.9564819335938\n",
      "step = 19000: Average Return = 200.0\n",
      "step = 19200: loss = 184484.34375\n",
      "step = 19400: loss = 613.6680908203125\n",
      "step = 19600: loss = 3162.27001953125\n",
      "step = 19800: loss = 1011.3887329101562\n",
      "step = 20000: loss = 3129.92919921875\n",
      "step = 20000: Average Return = 200.0\n"
     ]
    }
   ],
   "source": [
    "#@test {\"skip\": true}\n",
    "try:\n",
    "  %%time\n",
    "except:\n",
    "  pass\n",
    "\n",
    "# (Optional) Optimize by wrapping some of the code in a graph using TF function.\n",
    "agent.train = common.function(agent.train)\n",
    "\n",
    "# Reset the train step.\n",
    "agent.train_step_counter.assign(0)\n",
    "\n",
    "# Evaluate the agent's policy once before training.\n",
    "avg_return = compute_avg_return(eval_env, agent.policy, num_eval_episodes)\n",
    "returns = [avg_return]\n",
    "\n",
    "# Reset the environment.\n",
    "time_step = train_py_env.reset()\n",
    "\n",
    "# Create a driver to collect experience.\n",
    "collect_driver = py_driver.PyDriver(\n",
    "    env,\n",
    "    py_tf_eager_policy.PyTFEagerPolicy(\n",
    "      agent.collect_policy, use_tf_function=True),\n",
    "    [rb_observer],\n",
    "    max_steps=collect_steps_per_iteration)\n",
    "\n",
    "for _ in range(num_iterations):\n",
    "\n",
    "  # Collect a few steps and save to the replay buffer.\n",
    "  time_step, _ = collect_driver.run(time_step)\n",
    "\n",
    "  # Sample a batch of data from the buffer and update the agent's network.\n",
    "  experience, unused_info = next(iterator)\n",
    "  train_loss = agent.train(experience).loss\n",
    "\n",
    "  step = agent.train_step_counter.numpy()\n",
    "\n",
    "  if step % log_interval == 0:\n",
    "    print('step = {0}: loss = {1}'.format(step, train_loss))\n",
    "\n",
    "  if step % eval_interval == 0:\n",
    "    avg_return = compute_avg_return(eval_env, agent.policy, num_eval_episodes)\n",
    "    print('step = {0}: Average Return = {1}'.format(step, avg_return))\n",
    "    returns.append(avg_return)"
   ]
  },
  {
   "cell_type": "markdown",
   "metadata": {
    "id": "68jNcA_TiJDq"
   },
   "source": [
    "## Visualization\n"
   ]
  },
  {
   "cell_type": "markdown",
   "metadata": {
    "id": "aO-LWCdbbOIC"
   },
   "source": [
    "### Plots\n",
    "\n",
    "Use `matplotlib.pyplot` to chart how the policy improved during training.\n",
    "\n",
    "One iteration of `Cartpole-v0` consists of 200 time steps. The environment gives a reward of `+1` for each step the pole stays up, so the maximum return for one episode is 200. The charts shows the return increasing towards that maximum each time it is evaluated during training. (It may be a little unstable and not increase monotonically each time.)"
   ]
  },
  {
   "cell_type": "code",
   "execution_count": 33,
   "metadata": {
    "execution": {
     "iopub.execute_input": "2023-02-16T13:35:29.662009Z",
     "iopub.status.busy": "2023-02-16T13:35:29.661773Z",
     "iopub.status.idle": "2023-02-16T13:35:29.885023Z",
     "shell.execute_reply": "2023-02-16T13:35:29.884354Z"
    },
    "id": "NxtL1mbOYCVO"
   },
   "outputs": [
    {
     "data": {
      "text/plain": [
       "(0.1849997997283932, 250.0)"
      ]
     },
     "execution_count": 33,
     "metadata": {},
     "output_type": "execute_result"
    },
    {
     "data": {
      "image/png": "[encoded data removed]",
      "text/plain": [
       "<Figure size 640x480 with 1 Axes>"
      ]
     },
     "metadata": {},
     "output_type": "display_data"
    }
   ],
   "source": [
    "#@test {\"skip\": true}\n",
    "\n",
    "iterations = range(0, num_iterations + 1, eval_interval)\n",
    "plt.plot(iterations, returns)\n",
    "plt.ylabel('Average Return')\n",
    "plt.xlabel('Iterations')\n",
    "plt.ylim(top=250)"
   ]
  },
  {
   "cell_type": "markdown",
   "metadata": {
    "id": "M7-XpPP99Cy7"
   },
   "source": [
    "### Videos"
   ]
  },
  {
   "cell_type": "markdown",
   "metadata": {
    "id": "9pGfGxSH32gn"
   },
   "source": [
    "Charts are nice. But more exciting is seeing an agent actually performing a task in an environment. \n",
    "\n",
    "First, create a function to embed videos in the notebook."
   ]
  },
  {
   "cell_type": "code",
   "execution_count": 34,
   "metadata": {
    "execution": {
     "iopub.execute_input": "2023-02-16T13:35:29.887876Z",
     "iopub.status.busy": "2023-02-16T13:35:29.887660Z",
     "iopub.status.idle": "2023-02-16T13:35:29.891582Z",
     "shell.execute_reply": "2023-02-16T13:35:29.891021Z"
    },
    "id": "ULaGr8pvOKbl"
   },
   "outputs": [],
   "source": [
    "def embed_mp4(filename):\n",
    "  \"\"\"Embeds an mp4 file in the notebook.\"\"\"\n",
    "  video = open(filename,'rb').read()\n",
    "  b64 = base64.b64encode(video)\n",
    "  tag = '''\n",
    "  <video width=\"640\" height=\"480\" controls>\n",
    "    <source src=\"data:video/mp4;base64,{0}\" type=\"video/mp4\">\n",
    "  Your browser does not support the video tag.\n",
    "  </video>'''.format(b64.decode())\n",
    "\n",
    "  return IPython.display.HTML(tag)"
   ]
  },
  {
   "cell_type": "markdown",
   "metadata": {
    "id": "9c_PH-pX4Pr5"
   },
   "source": [
    "Now iterate through a few episodes of the Cartpole game with the agent. The underlying Python environment (the one \"inside\" the TensorFlow environment wrapper) provides a `render()` method, which outputs an image of the environment state. These can be collected into a video."
   ]
  },
  {
   "cell_type": "code",
   "execution_count": 35,
   "metadata": {
    "execution": {
     "iopub.execute_input": "2023-02-16T13:35:29.894211Z",
     "iopub.status.busy": "2023-02-16T13:35:29.893985Z",
     "iopub.status.idle": "2023-02-16T13:35:39.961504Z",
     "shell.execute_reply": "2023-02-16T13:35:39.960624Z"
    },
    "id": "owOVWB158NlF"
   },
   "outputs": [
    {
     "name": "stderr",
     "output_type": "stream",
     "text": [
      "WARNING:root:IMAGEIO FFMPEG_WRITER WARNING: input image is not divisible by macro_block_size=16, resizing from (400, 600) to (400, 608) to ensure video compatibility with most codecs and players. To prevent resizing, make your input image divisible by the macro_block_size or set the macro_block_size to None (risking incompatibility). You may also see a FFMPEG warning concerning speedloss due to data not being aligned.\n",
      "[swscaler @ 0x565325a66880] Warning: data is not aligned! This can lead to a speed loss\n"
     ]
    },
    {
     "data": {
      "text/html": [
       "\n",
       "  <video width=\"640\" height=\"480\" controls>\n",
       "    <source src=\"data:video/mp4;base64,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\" type=\"video/mp4\">\n",
       "  Your browser does not support the video tag.\n",
       "  </video>"
      ],
      "text/plain": [
       "<IPython.core.display.HTML object>"
      ]
     },
     "execution_count": 35,
     "metadata": {},
     "output_type": "execute_result"
    }
   ],
   "source": [
    "def create_policy_eval_video(policy, filename, num_episodes=5, fps=30):\n",
    "  filename = filename + \".mp4\"\n",
    "  with imageio.get_writer(filename, fps=fps) as video:\n",
    "    for _ in range(num_episodes):\n",
    "      time_step = eval_env.reset()\n",
    "      video.append_data(eval_py_env.render())\n",
    "      while not time_step.is_last():\n",
    "        action_step = policy.action(time_step)\n",
    "        time_step = eval_env.step(action_step.action)\n",
    "        video.append_data(eval_py_env.render())\n",
    "  return embed_mp4(filename)\n",
    "\n",
    "create_policy_eval_video(agent.policy, \"trained-agent\")"
   ]
  },
  {
   "cell_type": "markdown",
   "metadata": {
    "id": "povaAOcZygLw"
   },
   "source": [
    "For fun, compare the trained agent (above) to an agent moving randomly. (It does not do as well.)"
   ]
  },
  {
   "cell_type": "code",
   "execution_count": 36,
   "metadata": {
    "execution": {
     "iopub.execute_input": "2023-02-16T13:35:39.965122Z",
     "iopub.status.busy": "2023-02-16T13:35:39.964848Z",
     "iopub.status.idle": "2023-02-16T13:35:40.735835Z",
     "shell.execute_reply": "2023-02-16T13:35:40.734748Z"
    },
    "id": "pJZIdC37yNH4"
   },
   "outputs": [
    {
     "name": "stderr",
     "output_type": "stream",
     "text": [
      "WARNING:root:IMAGEIO FFMPEG_WRITER WARNING: input image is not divisible by macro_block_size=16, resizing from (400, 600) to (400, 608) to ensure video compatibility with most codecs and players. To prevent resizing, make your input image divisible by the macro_block_size or set the macro_block_size to None (risking incompatibility). You may also see a FFMPEG warning concerning speedloss due to data not being aligned.\n",
      "[swscaler @ 0x555dd7ee2880] Warning: data is not aligned! This can lead to a speed loss\n"
     ]
    },
    {
     "data": {
      "text/html": [
       "\n",
       "  <video width=\"640\" height=\"480\" controls>\n",
       "    <source src=\"data:video/mp4;base64,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\" type=\"video/mp4\">\n",
       "  Your browser does not support the video tag.\n",
       "  </video>"
      ],
      "text/plain": [
       "<IPython.core.display.HTML object>"
      ]
     },
     "execution_count": 36,
     "metadata": {},
     "output_type": "execute_result"
    }
   ],
   "source": [
    "create_policy_eval_video(random_policy, \"random-agent\")"
   ]
  }
 ],
 "metadata": {
  "colab": {
   "collapsed_sections": [],
   "name": "DQN Tutorial.ipynb",
   "private_outputs": true,
   "provenance": [],
   "toc_visible": true
  },
  "kernelspec": {
   "display_name": "Python 3 (ipykernel)",
   "language": "python",
   "name": "python3"
  },
  "language_info": {
   "codemirror_mode": {
    "name": "ipython",
    "version": 3
   },
   "file_extension": ".py",
   "mimetype": "text/x-python",
   "name": "python",
   "nbconvert_exporter": "python",
   "pygments_lexer": "ipython3",
   "version": "3.10.13"
  },
  "pycharm": {
   "stem_cell": {
    "cell_type": "raw",
    "metadata": {
     "collapsed": false
    },
    "source": []
   }
  }
 },
 "nbformat": 4,
 "nbformat_minor": 1
}
