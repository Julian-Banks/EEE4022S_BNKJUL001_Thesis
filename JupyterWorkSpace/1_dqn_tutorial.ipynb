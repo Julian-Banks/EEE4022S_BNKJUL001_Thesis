{
 "cells": [
  {
   "cell_type": "markdown",
   "metadata": {
    "id": "klGNgWREsvQv"
   },
   "source": [
    "##### Copyright 2023 The TF-Agents Authors."
   ]
  },
  {
   "cell_type": "code",
   "execution_count": 4,
   "metadata": {
    "cellView": "form",
    "execution": {
     "iopub.execute_input": "2023-02-16T13:28:22.657628Z",
     "iopub.status.busy": "2023-02-16T13:28:22.657046Z",
     "iopub.status.idle": "2023-02-16T13:28:22.660508Z",
     "shell.execute_reply": "2023-02-16T13:28:22.659968Z"
    },
    "id": "nQnmcm0oI1Q-"
   },
   "outputs": [],
   "source": [
    "#@title Licensed under the Apache License, Version 2.0 (the \"License\");\n",
    "# you may not use this file except in compliance with the License.\n",
    "# You may obtain a copy of the License at\n",
    "#\n",
    "# https://www.apache.org/licenses/LICENSE-2.0\n",
    "#\n",
    "# Unless required by applicable law or agreed to in writing, software\n",
    "# distributed under the License is distributed on an \"AS IS\" BASIS,\n",
    "# WITHOUT WARRANTIES OR CONDITIONS OF ANY KIND, either express or implied.\n",
    "# See the License for the specific language governing permissions and\n",
    "# limitations under the License."
   ]
  },
  {
   "cell_type": "markdown",
   "metadata": {
    "id": "pmDI-h7cI0tI"
   },
   "source": [
    "# Train a Deep Q Network with TF-Agents\n",
    "\n",
    "<table class=\"tfo-notebook-buttons\" align=\"left\">\n",
    "  <td>\n",
    "    <a target=\"_blank\" href=\"https://www.tensorflow.org/agents/tutorials/1_dqn_tutorial\">\n",
    "    <img src=\"https://www.tensorflow.org/images/tf_logo_32px.png\" />\n",
    "    View on TensorFlow.org</a>\n",
    "  </td>\n",
    "  <td>\n",
    "    <a target=\"_blank\" href=\"https://colab.research.google.com/github/tensorflow/agents/blob/master/docs/tutorials/1_dqn_tutorial.ipynb\">\n",
    "    <img src=\"https://www.tensorflow.org/images/colab_logo_32px.png\" />\n",
    "    Run in Google Colab</a>\n",
    "  </td>\n",
    "  <td>\n",
    "    <a target=\"_blank\" href=\"https://github.com/tensorflow/agents/blob/master/docs/tutorials/1_dqn_tutorial.ipynb\">\n",
    "    <img src=\"https://www.tensorflow.org/images/GitHub-Mark-32px.png\" />\n",
    "    View source on GitHub</a>\n",
    "  </td>\n",
    "  <td>\n",
    "    <a href=\"https://storage.googleapis.com/tensorflow_docs/agents/docs/tutorials/1_dqn_tutorial.ipynb\"><img src=\"https://www.tensorflow.org/images/download_logo_32px.png\" />Download notebook</a>\n",
    "  </td>\n",
    "</table>"
   ]
  },
  {
   "cell_type": "markdown",
   "metadata": {
    "id": "lsaQlK8fFQqH"
   },
   "source": [
    "## Introduction\n"
   ]
  },
  {
   "cell_type": "markdown",
   "metadata": {
    "id": "cKOCZlhUgXVK"
   },
   "source": [
    "This example shows how to train a [DQN (Deep Q Networks)](https://storage.googleapis.com/deepmind-media/dqn/DQNNaturePaper.pdf)  agent on the Cartpole environment using the TF-Agents library.\n",
    "\n",
    "![Cartpole environment](https://raw.githubusercontent.com/tensorflow/agents/master/docs/tutorials/images/cartpole.png)\n",
    "\n",
    "It will walk you through all the components in a Reinforcement Learning (RL) pipeline for training, evaluation and data collection.\n",
    "\n",
    "\n",
    "To run this code live, click the 'Run in Google Colab' link above.\n"
   ]
  },
  {
   "cell_type": "markdown",
   "metadata": {
    "id": "1u9QVVsShC9X"
   },
   "source": [
    "## Setup"
   ]
  },
  {
   "cell_type": "markdown",
   "metadata": {
    "id": "kNrNXKI7bINP"
   },
   "source": [
    "If you haven't installed the following dependencies, run:"
   ]
  },
  {
   "cell_type": "code",
   "execution_count": 7,
   "metadata": {
    "execution": {
     "iopub.execute_input": "2023-02-16T13:28:22.663719Z",
     "iopub.status.busy": "2023-02-16T13:28:22.663337Z",
     "iopub.status.idle": "2023-02-16T13:29:01.971399Z",
     "shell.execute_reply": "2023-02-16T13:29:01.970539Z"
    },
    "id": "KEHR2Ui-lo8O"
   },
   "outputs": [
    {
     "name": "stderr",
     "output_type": "stream",
     "text": [
      "'sudo' is not recognized as an internal or external command,\n",
      "operable program or batch file.\n",
      "'sudo' is not recognized as an internal or external command,\n",
      "operable program or batch file.\n"
     ]
    },
    {
     "name": "stdout",
     "output_type": "stream",
     "text": [
      "Collecting imageio\n",
      "  Obtaining dependency information for imageio from https://files.pythonhosted.org/packages/1a/55/7a7646d7cc42e771d689d39930afcbe57b3d82267544ebabead57ffb86d1/imageio-2.31.4-py3-none-any.whl.metadata\n",
      "  Downloading imageio-2.31.4-py3-none-any.whl.metadata (4.6 kB)\n",
      "Requirement already satisfied: numpy in c:\\anaconda3\\envs\\tensorflow\\lib\\site-packages (from imageio) (1.26.0)\n",
      "Collecting pillow>=8.3.2 (from imageio)\n",
      "  Obtaining dependency information for pillow>=8.3.2 from https://files.pythonhosted.org/packages/23/ca/7296d769f62266c0f94bf76496bc77114e7a96d2de3d7bcba91d0ba2856f/Pillow-10.0.1-cp310-cp310-win_amd64.whl.metadata\n",
      "  Using cached Pillow-10.0.1-cp310-cp310-win_amd64.whl.metadata (9.6 kB)\n",
      "Downloading imageio-2.31.4-py3-none-any.whl (313 kB)\n",
      "   ---------------------------------------- 0.0/313.2 kB ? eta -:--:--\n",
      "   ------- -------------------------------- 61.4/313.2 kB 1.7 MB/s eta 0:00:01\n",
      "   ------------------- -------------------- 153.6/313.2 kB 2.3 MB/s eta 0:00:01\n",
      "   ------------------------------------- -- 297.0/313.2 kB 3.1 MB/s eta 0:00:01\n",
      "   ---------------------------------------- 313.2/313.2 kB 2.8 MB/s eta 0:00:00\n",
      "Downloading Pillow-10.0.1-cp310-cp310-win_amd64.whl (2.5 MB)\n",
      "   ---------------------------------------- 0.0/2.5 MB ? eta -:--:--\n",
      "   - -------------------------------------- 0.1/2.5 MB 2.3 MB/s eta 0:00:02\n",
      "   --- ------------------------------------ 0.2/2.5 MB 3.0 MB/s eta 0:00:01\n",
      "   ---- ----------------------------------- 0.3/2.5 MB 2.8 MB/s eta 0:00:01\n",
      "   ------ --------------------------------- 0.4/2.5 MB 3.0 MB/s eta 0:00:01\n",
      "   ------- -------------------------------- 0.5/2.5 MB 2.8 MB/s eta 0:00:01\n",
      "   --------- ------------------------------ 0.6/2.5 MB 2.9 MB/s eta 0:00:01\n",
      "   ---------- ----------------------------- 0.7/2.5 MB 2.7 MB/s eta 0:00:01\n",
      "   ------------ --------------------------- 0.8/2.5 MB 2.8 MB/s eta 0:00:01\n",
      "   -------------- ------------------------- 0.9/2.5 MB 2.9 MB/s eta 0:00:01\n",
      "   ---------------- ----------------------- 1.0/2.5 MB 2.9 MB/s eta 0:00:01\n",
      "   ------------------ --------------------- 1.1/2.5 MB 2.9 MB/s eta 0:00:01\n",
      "   ------------------- -------------------- 1.2/2.5 MB 2.9 MB/s eta 0:00:01\n",
      "   --------------------- ------------------ 1.3/2.5 MB 2.9 MB/s eta 0:00:01\n",
      "   ---------------------- ----------------- 1.4/2.5 MB 2.8 MB/s eta 0:00:01\n",
      "   ------------------------ --------------- 1.6/2.5 MB 2.9 MB/s eta 0:00:01\n",
      "   -------------------------- ------------- 1.7/2.5 MB 2.9 MB/s eta 0:00:01\n",
      "   ---------------------------- ----------- 1.8/2.5 MB 2.9 MB/s eta 0:00:01\n",
      "   ----------------------------- ---------- 1.9/2.5 MB 2.9 MB/s eta 0:00:01\n",
      "   ------------------------------- -------- 2.0/2.5 MB 3.0 MB/s eta 0:00:01\n",
      "   --------------------------------- ------ 2.1/2.5 MB 2.9 MB/s eta 0:00:01\n",
      "   ----------------------------------- ---- 2.2/2.5 MB 2.9 MB/s eta 0:00:01\n",
      "   ------------------------------------- -- 2.3/2.5 MB 2.9 MB/s eta 0:00:01\n",
      "   -------------------------------------- - 2.4/2.5 MB 2.9 MB/s eta 0:00:01\n",
      "   ---------------------------------------  2.5/2.5 MB 2.9 MB/s eta 0:00:01\n",
      "   ---------------------------------------- 2.5/2.5 MB 2.9 MB/s eta 0:00:00\n",
      "Installing collected packages: pillow, imageio\n",
      "Successfully installed imageio-2.31.4 pillow-10.0.1\n",
      "Requirement already satisfied: pyvirtualdisplay in c:\\anaconda3\\envs\\tensorflow\\lib\\site-packages (3.0)\n",
      "Requirement already satisfied: tf-agents[reverb] in c:\\anaconda3\\envs\\tensorflow\\lib\\site-packages (0.5.0)\n",
      "Requirement already satisfied: absl-py>=0.6.1 in c:\\anaconda3\\envs\\tensorflow\\lib\\site-packages (from tf-agents[reverb]) (1.4.0)\n",
      "Requirement already satisfied: gin-config==0.1.3 in c:\\anaconda3\\envs\\tensorflow\\lib\\site-packages (from tf-agents[reverb]) (0.1.3)\n",
      "Requirement already satisfied: numpy>=1.13.3 in c:\\anaconda3\\envs\\tensorflow\\lib\\site-packages (from tf-agents[reverb]) (1.26.0)\n",
      "Requirement already satisfied: six>=1.10.0 in c:\\anaconda3\\envs\\tensorflow\\lib\\site-packages (from tf-agents[reverb]) (1.16.0)\n",
      "Requirement already satisfied: protobuf>=3.11.3 in c:\\anaconda3\\envs\\tensorflow\\lib\\site-packages (from tf-agents[reverb]) (3.19.6)\n",
      "Requirement already satisfied: tensorflow-probability>=0.9.0 in c:\\anaconda3\\envs\\tensorflow\\lib\\site-packages (from tf-agents[reverb]) (0.21.0)\n",
      "Requirement already satisfied: decorator in c:\\anaconda3\\envs\\tensorflow\\lib\\site-packages (from tensorflow-probability>=0.9.0->tf-agents[reverb]) (5.1.1)\n",
      "Requirement already satisfied: cloudpickle>=1.3 in c:\\anaconda3\\envs\\tensorflow\\lib\\site-packages (from tensorflow-probability>=0.9.0->tf-agents[reverb]) (2.2.1)\n",
      "Requirement already satisfied: gast>=0.3.2 in c:\\anaconda3\\envs\\tensorflow\\lib\\site-packages (from tensorflow-probability>=0.9.0->tf-agents[reverb]) (0.4.0)\n",
      "Requirement already satisfied: dm-tree in c:\\anaconda3\\envs\\tensorflow\\lib\\site-packages (from tensorflow-probability>=0.9.0->tf-agents[reverb]) (0.1.8)\n",
      "Requirement already satisfied: typing-extensions<4.6.0 in c:\\anaconda3\\envs\\tensorflow\\lib\\site-packages (from tensorflow-probability>=0.9.0->tf-agents[reverb]) (4.5.0)\n"
     ]
    },
    {
     "name": "stderr",
     "output_type": "stream",
     "text": [
      "WARNING: tf-agents 0.5.0 does not provide the extra 'reverb'\n"
     ]
    },
    {
     "name": "stdout",
     "output_type": "stream",
     "text": [
      "Requirement already satisfied: pyglet in c:\\anaconda3\\envs\\tensorflow\\lib\\site-packages (2.0.9)\n"
     ]
    }
   ],
   "source": [
    "!sudo apt-get update\n",
    "!sudo apt-get install -y xvfb ffmpeg freeglut3-dev\n",
    "!pip install imageio\n",
    "!pip install pyvirtualdisplay\n",
    "!pip install tf-agents[reverb]\n",
    "!pip install pyglet"
   ]
  },
  {
   "cell_type": "code",
   "execution_count": 9,
   "metadata": {},
   "outputs": [
    {
     "name": "stdout",
     "output_type": "stream",
     "text": [
      "Collecting matplotlib\n",
      "  Obtaining dependency information for matplotlib from https://files.pythonhosted.org/packages/7a/94/a1615bac6706eb8a58fe08675b80a11b5463ef9591176dd3e57257495774/matplotlib-3.8.0-cp310-cp310-win_amd64.whl.metadata\n",
      "  Downloading matplotlib-3.8.0-cp310-cp310-win_amd64.whl.metadata (5.9 kB)\n",
      "Collecting contourpy>=1.0.1 (from matplotlib)\n",
      "  Obtaining dependency information for contourpy>=1.0.1 from https://files.pythonhosted.org/packages/55/14/0dc1884e3c04f9b073a47283f5d424926644250891db392a07c56f05e5c5/contourpy-1.1.1-cp310-cp310-win_amd64.whl.metadata\n",
      "  Downloading contourpy-1.1.1-cp310-cp310-win_amd64.whl.metadata (5.9 kB)\n",
      "Collecting cycler>=0.10 (from matplotlib)\n",
      "  Using cached cycler-0.11.0-py3-none-any.whl (6.4 kB)\n",
      "Collecting fonttools>=4.22.0 (from matplotlib)\n",
      "  Obtaining dependency information for fonttools>=4.22.0 from https://files.pythonhosted.org/packages/1c/c6/408ee90eae2fd7ef85c5baaedfc8d533805f4c54fc6670dbde9539f1277b/fonttools-4.42.1-cp310-cp310-win_amd64.whl.metadata\n",
      "  Downloading fonttools-4.42.1-cp310-cp310-win_amd64.whl.metadata (154 kB)\n",
      "     ---------------------------------------- 0.0/154.1 kB ? eta -:--:--\n",
      "     -------------------------------------- 154.1/154.1 kB 4.6 MB/s eta 0:00:00\n",
      "Collecting kiwisolver>=1.0.1 (from matplotlib)\n",
      "  Obtaining dependency information for kiwisolver>=1.0.1 from https://files.pythonhosted.org/packages/4a/a1/8a9c9be45c642fa12954855d8b3a02d9fd8551165a558835a19508fec2e6/kiwisolver-1.4.5-cp310-cp310-win_amd64.whl.metadata\n",
      "  Downloading kiwisolver-1.4.5-cp310-cp310-win_amd64.whl.metadata (6.5 kB)\n",
      "Requirement already satisfied: numpy<2,>=1.21 in c:\\anaconda3\\envs\\tensorflow\\lib\\site-packages (from matplotlib) (1.26.0)\n",
      "Requirement already satisfied: packaging>=20.0 in c:\\anaconda3\\envs\\tensorflow\\lib\\site-packages (from matplotlib) (23.1)\n",
      "Requirement already satisfied: pillow>=6.2.0 in c:\\anaconda3\\envs\\tensorflow\\lib\\site-packages (from matplotlib) (10.0.1)\n",
      "Collecting pyparsing>=2.3.1 (from matplotlib)\n",
      "  Obtaining dependency information for pyparsing>=2.3.1 from https://files.pythonhosted.org/packages/39/92/8486ede85fcc088f1b3dba4ce92dd29d126fd96b0008ea213167940a2475/pyparsing-3.1.1-py3-none-any.whl.metadata\n",
      "  Using cached pyparsing-3.1.1-py3-none-any.whl.metadata (5.1 kB)\n",
      "Requirement already satisfied: python-dateutil>=2.7 in c:\\anaconda3\\envs\\tensorflow\\lib\\site-packages (from matplotlib) (2.8.2)\n",
      "Requirement already satisfied: six>=1.5 in c:\\anaconda3\\envs\\tensorflow\\lib\\site-packages (from python-dateutil>=2.7->matplotlib) (1.16.0)\n",
      "Downloading matplotlib-3.8.0-cp310-cp310-win_amd64.whl (7.6 MB)\n",
      "   ---------------------------------------- 0.0/7.6 MB ? eta -:--:--\n",
      "    --------------------------------------- 0.2/7.6 MB 5.3 MB/s eta 0:00:02\n",
      "   - -------------------------------------- 0.3/7.6 MB 4.4 MB/s eta 0:00:02\n",
      "   -- ------------------------------------- 0.5/7.6 MB 5.2 MB/s eta 0:00:02\n",
      "   --- ------------------------------------ 0.7/7.6 MB 5.1 MB/s eta 0:00:02\n",
      "   ---- ----------------------------------- 0.9/7.6 MB 5.4 MB/s eta 0:00:02\n",
      "   ----- ---------------------------------- 1.1/7.6 MB 5.3 MB/s eta 0:00:02\n",
      "   ------ --------------------------------- 1.3/7.6 MB 5.1 MB/s eta 0:00:02\n",
      "   ------- -------------------------------- 1.4/7.6 MB 5.0 MB/s eta 0:00:02\n",
      "   -------- ------------------------------- 1.6/7.6 MB 5.1 MB/s eta 0:00:02\n",
      "   --------- ------------------------------ 1.8/7.6 MB 5.1 MB/s eta 0:00:02\n",
      "   ---------- ----------------------------- 2.0/7.6 MB 5.1 MB/s eta 0:00:02\n",
      "   ----------- ---------------------------- 2.2/7.6 MB 5.1 MB/s eta 0:00:02\n",
      "   ------------ --------------------------- 2.4/7.6 MB 5.0 MB/s eta 0:00:02\n",
      "   ------------- -------------------------- 2.6/7.6 MB 5.2 MB/s eta 0:00:01\n",
      "   -------------- ------------------------- 2.8/7.6 MB 5.3 MB/s eta 0:00:01\n",
      "   ---------------- ----------------------- 3.1/7.6 MB 5.3 MB/s eta 0:00:01\n",
      "   ----------------- ---------------------- 3.3/7.6 MB 5.4 MB/s eta 0:00:01\n",
      "   ------------------ --------------------- 3.5/7.6 MB 5.4 MB/s eta 0:00:01\n",
      "   ------------------ --------------------- 3.6/7.6 MB 5.4 MB/s eta 0:00:01\n",
      "   -------------------- ------------------- 3.8/7.6 MB 5.3 MB/s eta 0:00:01\n",
      "   -------------------- ------------------- 4.0/7.6 MB 5.3 MB/s eta 0:00:01\n",
      "   --------------------- ------------------ 4.1/7.6 MB 5.3 MB/s eta 0:00:01\n",
      "   ---------------------- ----------------- 4.3/7.6 MB 5.2 MB/s eta 0:00:01\n",
      "   ----------------------- ---------------- 4.5/7.6 MB 5.3 MB/s eta 0:00:01\n",
      "   ------------------------ --------------- 4.7/7.6 MB 5.3 MB/s eta 0:00:01\n",
      "   ------------------------- -------------- 4.9/7.6 MB 5.2 MB/s eta 0:00:01\n",
      "   -------------------------- ------------- 5.1/7.6 MB 5.3 MB/s eta 0:00:01\n",
      "   --------------------------- ------------ 5.3/7.6 MB 5.3 MB/s eta 0:00:01\n",
      "   ---------------------------- ----------- 5.5/7.6 MB 5.3 MB/s eta 0:00:01\n",
      "   ----------------------------- ---------- 5.7/7.6 MB 5.3 MB/s eta 0:00:01\n",
      "   ------------------------------ --------- 5.8/7.6 MB 5.2 MB/s eta 0:00:01\n",
      "   ------------------------------- -------- 5.9/7.6 MB 5.1 MB/s eta 0:00:01\n",
      "   -------------------------------- ------- 6.2/7.6 MB 5.2 MB/s eta 0:00:01\n",
      "   --------------------------------- ------ 6.3/7.6 MB 5.2 MB/s eta 0:00:01\n",
      "   --------------------------------- ------ 6.5/7.6 MB 5.2 MB/s eta 0:00:01\n",
      "   ---------------------------------- ----- 6.7/7.6 MB 5.1 MB/s eta 0:00:01\n",
      "   ----------------------------------- ---- 6.9/7.6 MB 5.2 MB/s eta 0:00:01\n",
      "   ------------------------------------ --- 7.1/7.6 MB 5.2 MB/s eta 0:00:01\n",
      "   ------------------------------------- -- 7.2/7.6 MB 5.1 MB/s eta 0:00:01\n",
      "   -------------------------------------- - 7.4/7.6 MB 5.2 MB/s eta 0:00:01\n",
      "   ---------------------------------------  7.6/7.6 MB 5.2 MB/s eta 0:00:01\n",
      "   ---------------------------------------  7.6/7.6 MB 5.1 MB/s eta 0:00:01\n",
      "   ---------------------------------------- 7.6/7.6 MB 5.0 MB/s eta 0:00:00\n",
      "Downloading contourpy-1.1.1-cp310-cp310-win_amd64.whl (477 kB)\n",
      "   ---------------------------------------- 0.0/478.0 kB ? eta -:--:--\n",
      "   ------------------ --------------------- 225.3/478.0 kB 6.9 MB/s eta 0:00:01\n",
      "   ------------------------------------- -- 450.6/478.0 kB 7.1 MB/s eta 0:00:01\n",
      "   ---------------------------------------- 478.0/478.0 kB 6.0 MB/s eta 0:00:00\n",
      "Downloading fonttools-4.42.1-cp310-cp310-win_amd64.whl (2.1 MB)\n",
      "   ---------------------------------------- 0.0/2.1 MB ? eta -:--:--\n",
      "   ---- ----------------------------------- 0.2/2.1 MB 6.7 MB/s eta 0:00:01\n",
      "   ------- -------------------------------- 0.4/2.1 MB 6.0 MB/s eta 0:00:01\n",
      "   ----------- ---------------------------- 0.6/2.1 MB 6.5 MB/s eta 0:00:01\n",
      "   --------------- ------------------------ 0.8/2.1 MB 5.9 MB/s eta 0:00:01\n",
      "   ------------------- -------------------- 1.0/2.1 MB 6.0 MB/s eta 0:00:01\n",
      "   ------------------------ --------------- 1.3/2.1 MB 6.2 MB/s eta 0:00:01\n",
      "   --------------------------- ------------ 1.5/2.1 MB 5.8 MB/s eta 0:00:01\n",
      "   ------------------------------- -------- 1.7/2.1 MB 5.9 MB/s eta 0:00:01\n",
      "   ---------------------------------- ----- 1.8/2.1 MB 5.8 MB/s eta 0:00:01\n",
      "   -------------------------------------- - 2.0/2.1 MB 5.6 MB/s eta 0:00:01\n",
      "   ---------------------------------------- 2.1/2.1 MB 5.4 MB/s eta 0:00:00\n",
      "Downloading kiwisolver-1.4.5-cp310-cp310-win_amd64.whl (56 kB)\n",
      "   ---------------------------------------- 0.0/56.1 kB ? eta -:--:--\n",
      "   ---------------------------------------- 56.1/56.1 kB ? eta 0:00:00\n",
      "Using cached pyparsing-3.1.1-py3-none-any.whl (103 kB)\n",
      "Installing collected packages: pyparsing, kiwisolver, fonttools, cycler, contourpy, matplotlib\n",
      "Successfully installed contourpy-1.1.1 cycler-0.11.0 fonttools-4.42.1 kiwisolver-1.4.5 matplotlib-3.8.0 pyparsing-3.1.1\n"
     ]
    }
   ],
   "source": [
    "!pip install matplotlib"
   ]
  },
  {
   "cell_type": "code",
   "execution_count": 10,
   "metadata": {
    "execution": {
     "iopub.execute_input": "2023-02-16T13:29:01.975124Z",
     "iopub.status.busy": "2023-02-16T13:29:01.974879Z",
     "iopub.status.idle": "2023-02-16T13:29:04.620016Z",
     "shell.execute_reply": "2023-02-16T13:29:04.619255Z"
    },
    "id": "sMitx5qSgJk1"
   },
   "outputs": [
    {
     "ename": "ModuleNotFoundError",
     "evalue": "No module named 'reverb'",
     "output_type": "error",
     "traceback": [
      "\u001b[1;31m---------------------------------------------------------------------------\u001b[0m",
      "\u001b[1;31mModuleNotFoundError\u001b[0m                       Traceback (most recent call last)",
      "Cell \u001b[1;32mIn[10], line 11\u001b[0m\n\u001b[0;32m      9\u001b[0m \u001b[38;5;28;01mimport\u001b[39;00m \u001b[38;5;21;01mPIL\u001b[39;00m\u001b[38;5;21;01m.\u001b[39;00m\u001b[38;5;21;01mImage\u001b[39;00m\n\u001b[0;32m     10\u001b[0m \u001b[38;5;28;01mimport\u001b[39;00m \u001b[38;5;21;01mpyvirtualdisplay\u001b[39;00m\n\u001b[1;32m---> 11\u001b[0m \u001b[38;5;28;01mimport\u001b[39;00m \u001b[38;5;21;01mreverb\u001b[39;00m\n\u001b[0;32m     13\u001b[0m \u001b[38;5;28;01mimport\u001b[39;00m \u001b[38;5;21;01mtensorflow\u001b[39;00m \u001b[38;5;28;01mas\u001b[39;00m \u001b[38;5;21;01mtf\u001b[39;00m\n\u001b[0;32m     15\u001b[0m \u001b[38;5;28;01mfrom\u001b[39;00m \u001b[38;5;21;01mtf_agents\u001b[39;00m\u001b[38;5;21;01m.\u001b[39;00m\u001b[38;5;21;01magents\u001b[39;00m\u001b[38;5;21;01m.\u001b[39;00m\u001b[38;5;21;01mdqn\u001b[39;00m \u001b[38;5;28;01mimport\u001b[39;00m dqn_agent\n",
      "\u001b[1;31mModuleNotFoundError\u001b[0m: No module named 'reverb'"
     ]
    }
   ],
   "source": [
    "from __future__ import absolute_import, division, print_function\n",
    "\n",
    "import base64\n",
    "import imageio\n",
    "import IPython\n",
    "import matplotlib\n",
    "import matplotlib.pyplot as plt\n",
    "import numpy as np\n",
    "import PIL.Image\n",
    "import pyvirtualdisplay\n",
    "import reverb\n",
    "\n",
    "import tensorflow as tf\n",
    "\n",
    "from tf_agents.agents.dqn import dqn_agent\n",
    "from tf_agents.drivers import py_driver\n",
    "from tf_agents.environments import suite_gym\n",
    "from tf_agents.environments import tf_py_environment\n",
    "from tf_agents.eval import metric_utils\n",
    "from tf_agents.metrics import tf_metrics\n",
    "from tf_agents.networks import sequential\n",
    "from tf_agents.policies import py_tf_eager_policy\n",
    "from tf_agents.policies import random_tf_policy\n",
    "from tf_agents.replay_buffers import reverb_replay_buffer\n",
    "from tf_agents.replay_buffers import reverb_utils\n",
    "from tf_agents.trajectories import trajectory\n",
    "from tf_agents.specs import tensor_spec\n",
    "from tf_agents.utils import common"
   ]
  },
  {
   "cell_type": "code",
   "execution_count": null,
   "metadata": {},
   "outputs": [],
   "source": []
  },
  {
   "cell_type": "code",
   "execution_count": null,
   "metadata": {
    "execution": {
     "iopub.execute_input": "2023-02-16T13:29:04.623737Z",
     "iopub.status.busy": "2023-02-16T13:29:04.623296Z",
     "iopub.status.idle": "2023-02-16T13:29:04.706102Z",
     "shell.execute_reply": "2023-02-16T13:29:04.705051Z"
    },
    "id": "J6HsdS5GbSjd"
   },
   "outputs": [],
   "source": [
    "# Set up a virtual display for rendering OpenAI gym environments.\n",
    "display = pyvirtualdisplay.Display(visible=0, size=(1400, 900)).start()"
   ]
  },
  {
   "cell_type": "code",
   "execution_count": null,
   "metadata": {
    "execution": {
     "iopub.execute_input": "2023-02-16T13:29:04.709920Z",
     "iopub.status.busy": "2023-02-16T13:29:04.709635Z",
     "iopub.status.idle": "2023-02-16T13:29:04.717124Z",
     "shell.execute_reply": "2023-02-16T13:29:04.716583Z"
    },
    "id": "NspmzG4nP3b9"
   },
   "outputs": [],
   "source": [
    "tf.version.VERSION"
   ]
  },
  {
   "cell_type": "markdown",
   "metadata": {
    "id": "LmC0NDhdLIKY"
   },
   "source": [
    "## Hyperparameters"
   ]
  },
  {
   "cell_type": "code",
   "execution_count": null,
   "metadata": {
    "execution": {
     "iopub.execute_input": "2023-02-16T13:29:04.720105Z",
     "iopub.status.busy": "2023-02-16T13:29:04.719876Z",
     "iopub.status.idle": "2023-02-16T13:29:04.723601Z",
     "shell.execute_reply": "2023-02-16T13:29:04.723001Z"
    },
    "id": "HC1kNrOsLSIZ"
   },
   "outputs": [],
   "source": [
    "num_iterations = 20000 # @param {type:\"integer\"}\n",
    "\n",
    "initial_collect_steps = 100  # @param {type:\"integer\"}\n",
    "collect_steps_per_iteration =   1# @param {type:\"integer\"}\n",
    "replay_buffer_max_length = 100000  # @param {type:\"integer\"}\n",
    "\n",
    "batch_size = 64  # @param {type:\"integer\"}\n",
    "learning_rate = 1e-3  # @param {type:\"number\"}\n",
    "log_interval = 200  # @param {type:\"integer\"}\n",
    "\n",
    "num_eval_episodes = 10  # @param {type:\"integer\"}\n",
    "eval_interval = 1000  # @param {type:\"integer\"}"
   ]
  },
  {
   "cell_type": "markdown",
   "metadata": {
    "id": "VMsJC3DEgI0x"
   },
   "source": [
    "## Environment\n",
    "\n",
    "In Reinforcement Learning (RL), an environment represents the task or problem to be solved. Standard environments can be created in TF-Agents using `tf_agents.environments` suites. TF-Agents has suites for loading environments from sources such as the OpenAI Gym, Atari, and DM Control.\n",
    "\n",
    "Load the CartPole environment from the OpenAI Gym suite. "
   ]
  },
  {
   "cell_type": "code",
   "execution_count": null,
   "metadata": {
    "execution": {
     "iopub.execute_input": "2023-02-16T13:29:04.726761Z",
     "iopub.status.busy": "2023-02-16T13:29:04.726190Z",
     "iopub.status.idle": "2023-02-16T13:29:04.755764Z",
     "shell.execute_reply": "2023-02-16T13:29:04.755203Z"
    },
    "id": "pYEz-S9gEv2-"
   },
   "outputs": [],
   "source": [
    "env_name = 'CartPole-v0'\n",
    "env = suite_gym.load(env_name)"
   ]
  },
  {
   "cell_type": "markdown",
   "metadata": {
    "id": "IIHYVBkuvPNw"
   },
   "source": [
    "You can render this environment to see how it looks. A free-swinging pole is attached to a cart.  The goal is to move the cart right or left in order to keep the pole pointing up."
   ]
  },
  {
   "cell_type": "code",
   "execution_count": null,
   "metadata": {
    "execution": {
     "iopub.execute_input": "2023-02-16T13:29:04.758685Z",
     "iopub.status.busy": "2023-02-16T13:29:04.758440Z",
     "iopub.status.idle": "2023-02-16T13:29:04.884474Z",
     "shell.execute_reply": "2023-02-16T13:29:04.883958Z"
    },
    "id": "RlO7WIQHu_7D"
   },
   "outputs": [],
   "source": [
    "#@test {\"skip\": true}\n",
    "env.reset()\n",
    "PIL.Image.fromarray(env.render())"
   ]
  },
  {
   "cell_type": "markdown",
   "metadata": {
    "id": "B9_lskPOey18"
   },
   "source": [
    "The `environment.step` method takes an `action` in the environment and returns a `TimeStep` tuple containing the next observation of the environment and the reward for the action.\n",
    "\n",
    "The `time_step_spec()` method returns the specification for the `TimeStep` tuple. Its `observation` attribute shows the shape of observations, the data types, and the ranges of allowed values. The `reward` attribute shows the same details for the reward.\n"
   ]
  },
  {
   "cell_type": "code",
   "execution_count": null,
   "metadata": {
    "execution": {
     "iopub.execute_input": "2023-02-16T13:29:04.887427Z",
     "iopub.status.busy": "2023-02-16T13:29:04.887196Z",
     "iopub.status.idle": "2023-02-16T13:29:05.051752Z",
     "shell.execute_reply": "2023-02-16T13:29:05.051051Z"
    },
    "id": "exDv57iHfwQV"
   },
   "outputs": [],
   "source": [
    "print('Observation Spec:')\n",
    "print(env.time_step_spec().observation)"
   ]
  },
  {
   "cell_type": "code",
   "execution_count": null,
   "metadata": {
    "execution": {
     "iopub.execute_input": "2023-02-16T13:29:05.054614Z",
     "iopub.status.busy": "2023-02-16T13:29:05.054391Z",
     "iopub.status.idle": "2023-02-16T13:29:05.058095Z",
     "shell.execute_reply": "2023-02-16T13:29:05.057559Z"
    },
    "id": "UxiSyCbBUQPi"
   },
   "outputs": [],
   "source": [
    "print('Reward Spec:')\n",
    "print(env.time_step_spec().reward)"
   ]
  },
  {
   "cell_type": "markdown",
   "metadata": {
    "id": "b_lHcIcqUaqB"
   },
   "source": [
    "The `action_spec()` method returns the shape, data types, and allowed values of valid actions."
   ]
  },
  {
   "cell_type": "code",
   "execution_count": null,
   "metadata": {
    "execution": {
     "iopub.execute_input": "2023-02-16T13:29:05.061060Z",
     "iopub.status.busy": "2023-02-16T13:29:05.060812Z",
     "iopub.status.idle": "2023-02-16T13:29:05.064259Z",
     "shell.execute_reply": "2023-02-16T13:29:05.063722Z"
    },
    "id": "bttJ4uxZUQBr"
   },
   "outputs": [],
   "source": [
    "print('Action Spec:')\n",
    "print(env.action_spec())"
   ]
  },
  {
   "cell_type": "markdown",
   "metadata": {
    "id": "eJCgJnx3g0yY"
   },
   "source": [
    "In the Cartpole environment:\n",
    "\n",
    "-   `observation` is an array of 4 floats: \n",
    "    -   the position and velocity of the cart\n",
    "    -   the angular position and velocity of the pole \n",
    "-   `reward` is a scalar float value\n",
    "-   `action` is a scalar integer with only two possible values:\n",
    "    -   `0` — \"move left\"\n",
    "    -   `1` — \"move right\"\n"
   ]
  },
  {
   "cell_type": "code",
   "execution_count": null,
   "metadata": {
    "execution": {
     "iopub.execute_input": "2023-02-16T13:29:05.067062Z",
     "iopub.status.busy": "2023-02-16T13:29:05.066849Z",
     "iopub.status.idle": "2023-02-16T13:29:05.073103Z",
     "shell.execute_reply": "2023-02-16T13:29:05.072574Z"
    },
    "id": "V2UGR5t_iZX-"
   },
   "outputs": [],
   "source": [
    "time_step = env.reset()\n",
    "print('Time step:')\n",
    "print(time_step)\n",
    "\n",
    "action = np.array(1, dtype=np.int32)\n",
    "\n",
    "next_time_step = env.step(action)\n",
    "print('Next time step:')\n",
    "print(next_time_step)"
   ]
  },
  {
   "cell_type": "markdown",
   "metadata": {
    "id": "4JSc9GviWUBK"
   },
   "source": [
    "Usually two environments are instantiated: one for training and one for evaluation. "
   ]
  },
  {
   "cell_type": "code",
   "execution_count": null,
   "metadata": {
    "execution": {
     "iopub.execute_input": "2023-02-16T13:29:05.075881Z",
     "iopub.status.busy": "2023-02-16T13:29:05.075668Z",
     "iopub.status.idle": "2023-02-16T13:29:05.080322Z",
     "shell.execute_reply": "2023-02-16T13:29:05.079766Z"
    },
    "id": "N7brXNIGWXjC"
   },
   "outputs": [],
   "source": [
    "train_py_env = suite_gym.load(env_name)\n",
    "eval_py_env = suite_gym.load(env_name)"
   ]
  },
  {
   "cell_type": "markdown",
   "metadata": {
    "id": "zuUqXAVmecTU"
   },
   "source": [
    "The Cartpole environment, like most environments, is written in pure Python. This is converted to TensorFlow using the `TFPyEnvironment` wrapper.\n",
    "\n",
    "The original environment's API uses Numpy arrays. The `TFPyEnvironment` converts these to `Tensors` to make it compatible with Tensorflow agents and policies.\n"
   ]
  },
  {
   "cell_type": "code",
   "execution_count": null,
   "metadata": {
    "execution": {
     "iopub.execute_input": "2023-02-16T13:29:05.083292Z",
     "iopub.status.busy": "2023-02-16T13:29:05.082809Z",
     "iopub.status.idle": "2023-02-16T13:29:05.091575Z",
     "shell.execute_reply": "2023-02-16T13:29:05.090925Z"
    },
    "id": "Xp-Y4mD6eDhF"
   },
   "outputs": [],
   "source": [
    "train_env = tf_py_environment.TFPyEnvironment(train_py_env)\n",
    "eval_env = tf_py_environment.TFPyEnvironment(eval_py_env)"
   ]
  },
  {
   "cell_type": "markdown",
   "metadata": {
    "id": "E9lW_OZYFR8A"
   },
   "source": [
    "## Agent\n",
    "\n",
    "The algorithm used to solve an RL problem is represented by an `Agent`. TF-Agents provides standard implementations of a variety of `Agents`, including:\n",
    "\n",
    "-   [DQN](https://storage.googleapis.com/deepmind-media/dqn/DQNNaturePaper.pdf) (used in this tutorial)\n",
    "-   [REINFORCE](https://www-anw.cs.umass.edu/~barto/courses/cs687/williams92simple.pdf)\n",
    "-   [DDPG](https://arxiv.org/pdf/1509.02971.pdf)\n",
    "-   [TD3](https://arxiv.org/pdf/1802.09477.pdf)\n",
    "-   [PPO](https://arxiv.org/abs/1707.06347)\n",
    "-   [SAC](https://arxiv.org/abs/1801.01290)\n",
    "\n",
    "The DQN agent can be used in any environment which has a discrete action space.\n",
    "\n",
    "At the heart of a DQN Agent is a `QNetwork`, a neural network model that can learn to predict `QValues` (expected returns) for all actions, given an observation from the environment.\n",
    "\n",
    "We will use `tf_agents.networks.` to create a `QNetwork`. The network will consist of a sequence of `tf.keras.layers.Dense` layers, where the final layer will have 1 output for each possible action."
   ]
  },
  {
   "cell_type": "code",
   "execution_count": null,
   "metadata": {
    "execution": {
     "iopub.execute_input": "2023-02-16T13:29:05.094404Z",
     "iopub.status.busy": "2023-02-16T13:29:05.094178Z",
     "iopub.status.idle": "2023-02-16T13:29:05.111080Z",
     "shell.execute_reply": "2023-02-16T13:29:05.110446Z"
    },
    "id": "TgkdEPg_muzV"
   },
   "outputs": [],
   "source": [
    "fc_layer_params = (100, 50)\n",
    "action_tensor_spec = tensor_spec.from_spec(env.action_spec())\n",
    "num_actions = action_tensor_spec.maximum - action_tensor_spec.minimum + 1\n",
    "\n",
    "# Define a helper function to create Dense layers configured with the right\n",
    "# activation and kernel initializer.\n",
    "def dense_layer(num_units):\n",
    "  return tf.keras.layers.Dense(\n",
    "      num_units,\n",
    "      activation=tf.keras.activations.relu,\n",
    "      kernel_initializer=tf.keras.initializers.VarianceScaling(\n",
    "          scale=2.0, mode='fan_in', distribution='truncated_normal'))\n",
    "\n",
    "# QNetwork consists of a sequence of Dense layers followed by a dense layer\n",
    "# with `num_actions` units to generate one q_value per available action as\n",
    "# its output.\n",
    "dense_layers = [dense_layer(num_units) for num_units in fc_layer_params]\n",
    "q_values_layer = tf.keras.layers.Dense(\n",
    "    num_actions,\n",
    "    activation=None,\n",
    "    kernel_initializer=tf.keras.initializers.RandomUniform(\n",
    "        minval=-0.03, maxval=0.03),\n",
    "    bias_initializer=tf.keras.initializers.Constant(-0.2))\n",
    "q_net = sequential.Sequential(dense_layers + [q_values_layer])"
   ]
  },
  {
   "cell_type": "markdown",
   "metadata": {
    "id": "z62u55hSmviJ"
   },
   "source": [
    "Now use `tf_agents.agents.dqn.dqn_agent` to instantiate a `DqnAgent`. In addition to the `time_step_spec`, `action_spec` and the QNetwork, the agent constructor also requires an optimizer (in this case, `AdamOptimizer`), a loss function, and an integer step counter."
   ]
  },
  {
   "cell_type": "code",
   "execution_count": null,
   "metadata": {
    "execution": {
     "iopub.execute_input": "2023-02-16T13:29:05.113866Z",
     "iopub.status.busy": "2023-02-16T13:29:05.113663Z",
     "iopub.status.idle": "2023-02-16T13:29:08.684793Z",
     "shell.execute_reply": "2023-02-16T13:29:08.684103Z"
    },
    "id": "jbY4yrjTEyc9"
   },
   "outputs": [],
   "source": [
    "optimizer = tf.keras.optimizers.Adam(learning_rate=learning_rate)\n",
    "\n",
    "train_step_counter = tf.Variable(0)\n",
    "\n",
    "agent = dqn_agent.DqnAgent(\n",
    "    train_env.time_step_spec(),\n",
    "    train_env.action_spec(),\n",
    "    q_network=q_net,\n",
    "    optimizer=optimizer,\n",
    "    td_errors_loss_fn=common.element_wise_squared_loss,\n",
    "    train_step_counter=train_step_counter)\n",
    "\n",
    "agent.initialize()"
   ]
  },
  {
   "cell_type": "markdown",
   "metadata": {
    "id": "I0KLrEPwkn5x"
   },
   "source": [
    "## Policies\n",
    "\n",
    "A policy defines the way an agent acts in an environment. Typically, the goal of reinforcement learning is to train the underlying model until the policy produces the desired outcome.\n",
    "\n",
    "In this tutorial:\n",
    "\n",
    "-   The desired outcome is keeping the pole balanced upright over the cart.\n",
    "-   The policy returns an action (left or right) for each `time_step` observation.\n",
    "\n",
    "Agents contain two policies: \n",
    "\n",
    "-   `agent.policy` — The main policy that is used for evaluation and deployment.\n",
    "-   `agent.collect_policy` — A second policy that is used for data collection.\n"
   ]
  },
  {
   "cell_type": "code",
   "execution_count": null,
   "metadata": {
    "execution": {
     "iopub.execute_input": "2023-02-16T13:29:08.688393Z",
     "iopub.status.busy": "2023-02-16T13:29:08.688151Z",
     "iopub.status.idle": "2023-02-16T13:29:08.691431Z",
     "shell.execute_reply": "2023-02-16T13:29:08.690712Z"
    },
    "id": "BwY7StuMkuV4"
   },
   "outputs": [],
   "source": [
    "eval_policy = agent.policy\n",
    "collect_policy = agent.collect_policy"
   ]
  },
  {
   "cell_type": "markdown",
   "metadata": {
    "id": "2Qs1Fl3dV0ae"
   },
   "source": [
    "Policies can be created independently of agents. For example, use `tf_agents.policies.random_tf_policy` to create a policy which will randomly select an action for each `time_step`."
   ]
  },
  {
   "cell_type": "code",
   "execution_count": null,
   "metadata": {
    "execution": {
     "iopub.execute_input": "2023-02-16T13:29:08.694293Z",
     "iopub.status.busy": "2023-02-16T13:29:08.694073Z",
     "iopub.status.idle": "2023-02-16T13:29:08.697417Z",
     "shell.execute_reply": "2023-02-16T13:29:08.696833Z"
    },
    "id": "HE37-UCIrE69"
   },
   "outputs": [],
   "source": [
    "random_policy = random_tf_policy.RandomTFPolicy(train_env.time_step_spec(),\n",
    "                                                train_env.action_spec())"
   ]
  },
  {
   "cell_type": "markdown",
   "metadata": {
    "id": "dOlnlRRsUbxP"
   },
   "source": [
    "To get an action from a policy, call the `policy.action(time_step)` method. The `time_step` contains the observation from the environment. This method returns a `PolicyStep`, which is a named tuple with three components:\n",
    "\n",
    "-   `action` — the action to be taken (in this case, `0` or `1`)\n",
    "-   `state` — used for stateful (that is, RNN-based) policies\n",
    "-   `info` — auxiliary data, such as log probabilities of actions"
   ]
  },
  {
   "cell_type": "code",
   "execution_count": null,
   "metadata": {
    "execution": {
     "iopub.execute_input": "2023-02-16T13:29:08.700522Z",
     "iopub.status.busy": "2023-02-16T13:29:08.699955Z",
     "iopub.status.idle": "2023-02-16T13:29:08.706195Z",
     "shell.execute_reply": "2023-02-16T13:29:08.705671Z"
    },
    "id": "5gCcpXswVAxk"
   },
   "outputs": [],
   "source": [
    "example_environment = tf_py_environment.TFPyEnvironment(\n",
    "    suite_gym.load('CartPole-v0'))"
   ]
  },
  {
   "cell_type": "code",
   "execution_count": null,
   "metadata": {
    "execution": {
     "iopub.execute_input": "2023-02-16T13:29:08.708843Z",
     "iopub.status.busy": "2023-02-16T13:29:08.708636Z",
     "iopub.status.idle": "2023-02-16T13:29:08.713747Z",
     "shell.execute_reply": "2023-02-16T13:29:08.713208Z"
    },
    "id": "D4DHZtq3Ndis"
   },
   "outputs": [],
   "source": [
    "time_step = example_environment.reset()"
   ]
  },
  {
   "cell_type": "code",
   "execution_count": null,
   "metadata": {
    "execution": {
     "iopub.execute_input": "2023-02-16T13:29:08.716815Z",
     "iopub.status.busy": "2023-02-16T13:29:08.716259Z",
     "iopub.status.idle": "2023-02-16T13:29:08.728163Z",
     "shell.execute_reply": "2023-02-16T13:29:08.727562Z"
    },
    "id": "PRFqAUzpNaAW"
   },
   "outputs": [],
   "source": [
    "random_policy.action(time_step)"
   ]
  },
  {
   "cell_type": "markdown",
   "metadata": {
    "id": "94rCXQtbUbXv"
   },
   "source": [
    "## Metrics and Evaluation\n",
    "\n",
    "The most common metric used to evaluate a policy is the average return. The return is the sum of rewards obtained while running a policy in an environment for an episode. Several episodes are run, creating an average return.\n",
    "\n",
    "The following function computes the average return of a policy, given the policy, environment, and a number of episodes.\n"
   ]
  },
  {
   "cell_type": "code",
   "execution_count": null,
   "metadata": {
    "execution": {
     "iopub.execute_input": "2023-02-16T13:29:08.730917Z",
     "iopub.status.busy": "2023-02-16T13:29:08.730649Z",
     "iopub.status.idle": "2023-02-16T13:29:08.734965Z",
     "shell.execute_reply": "2023-02-16T13:29:08.734349Z"
    },
    "id": "bitzHo5_UbXy"
   },
   "outputs": [],
   "source": [
    "#@test {\"skip\": true}\n",
    "def compute_avg_return(environment, policy, num_episodes=10):\n",
    "\n",
    "  total_return = 0.0\n",
    "  for _ in range(num_episodes):\n",
    "\n",
    "    time_step = environment.reset()\n",
    "    episode_return = 0.0\n",
    "\n",
    "    while not time_step.is_last():\n",
    "      action_step = policy.action(time_step)\n",
    "      time_step = environment.step(action_step.action)\n",
    "      episode_return += time_step.reward\n",
    "    total_return += episode_return\n",
    "\n",
    "  avg_return = total_return / num_episodes\n",
    "  return avg_return.numpy()[0]\n",
    "\n",
    "\n",
    "# See also the metrics module for standard implementations of different metrics.\n",
    "# https://github.com/tensorflow/agents/tree/master/tf_agents/metrics"
   ]
  },
  {
   "cell_type": "markdown",
   "metadata": {
    "id": "_snCVvq5Z8lJ"
   },
   "source": [
    "Running this computation on the `random_policy` shows a baseline performance in the environment."
   ]
  },
  {
   "cell_type": "code",
   "execution_count": null,
   "metadata": {
    "execution": {
     "iopub.execute_input": "2023-02-16T13:29:08.737925Z",
     "iopub.status.busy": "2023-02-16T13:29:08.737387Z",
     "iopub.status.idle": "2023-02-16T13:29:09.607013Z",
     "shell.execute_reply": "2023-02-16T13:29:09.606254Z"
    },
    "id": "9bgU6Q6BZ8Bp"
   },
   "outputs": [],
   "source": [
    "compute_avg_return(eval_env, random_policy, num_eval_episodes)"
   ]
  },
  {
   "cell_type": "markdown",
   "metadata": {
    "id": "NLva6g2jdWgr"
   },
   "source": [
    "## Replay Buffer\n",
    "\n",
    "In order to keep track of the data collected from the environment, we will use [Reverb](https://deepmind.com/research/open-source/Reverb), an efficient, extensible, and easy-to-use replay system by Deepmind. It stores experience data when we collect trajectories and is consumed during training.\n",
    "\n",
    "This replay buffer is constructed using specs describing the tensors that are to be stored, which can be obtained from the agent using agent.collect_data_spec.\n"
   ]
  },
  {
   "cell_type": "code",
   "execution_count": null,
   "metadata": {
    "execution": {
     "iopub.execute_input": "2023-02-16T13:29:09.610057Z",
     "iopub.status.busy": "2023-02-16T13:29:09.609838Z",
     "iopub.status.idle": "2023-02-16T13:29:09.625882Z",
     "shell.execute_reply": "2023-02-16T13:29:09.625286Z"
    },
    "id": "vX2zGUWJGWAl"
   },
   "outputs": [],
   "source": [
    "table_name = 'uniform_table'\n",
    "replay_buffer_signature = tensor_spec.from_spec(\n",
    "      agent.collect_data_spec)\n",
    "replay_buffer_signature = tensor_spec.add_outer_dim(\n",
    "    replay_buffer_signature)\n",
    "\n",
    "table = reverb.Table(\n",
    "    table_name,\n",
    "    max_size=replay_buffer_max_length,\n",
    "    sampler=reverb.selectors.Uniform(),\n",
    "    remover=reverb.selectors.Fifo(),\n",
    "    rate_limiter=reverb.rate_limiters.MinSize(1),\n",
    "    signature=replay_buffer_signature)\n",
    "\n",
    "reverb_server = reverb.Server([table])\n",
    "\n",
    "replay_buffer = reverb_replay_buffer.ReverbReplayBuffer(\n",
    "    agent.collect_data_spec,\n",
    "    table_name=table_name,\n",
    "    sequence_length=2,\n",
    "    local_server=reverb_server)\n",
    "\n",
    "rb_observer = reverb_utils.ReverbAddTrajectoryObserver(\n",
    "  replay_buffer.py_client,\n",
    "  table_name,\n",
    "  sequence_length=2)"
   ]
  },
  {
   "cell_type": "markdown",
   "metadata": {
    "id": "ZGNTDJpZs4NN"
   },
   "source": [
    "For most agents, `collect_data_spec` is a named tuple called `Trajectory`, containing the specs for observations, actions, rewards, and other items."
   ]
  },
  {
   "cell_type": "code",
   "execution_count": null,
   "metadata": {
    "execution": {
     "iopub.execute_input": "2023-02-16T13:29:09.628708Z",
     "iopub.status.busy": "2023-02-16T13:29:09.628479Z",
     "iopub.status.idle": "2023-02-16T13:29:09.633712Z",
     "shell.execute_reply": "2023-02-16T13:29:09.633176Z"
    },
    "id": "_IZ-3HcqgE1z"
   },
   "outputs": [],
   "source": [
    "agent.collect_data_spec"
   ]
  },
  {
   "cell_type": "code",
   "execution_count": null,
   "metadata": {
    "execution": {
     "iopub.execute_input": "2023-02-16T13:29:09.636454Z",
     "iopub.status.busy": "2023-02-16T13:29:09.636001Z",
     "iopub.status.idle": "2023-02-16T13:29:09.639719Z",
     "shell.execute_reply": "2023-02-16T13:29:09.639192Z"
    },
    "id": "sy6g1tGcfRlw"
   },
   "outputs": [],
   "source": [
    "agent.collect_data_spec._fields"
   ]
  },
  {
   "cell_type": "markdown",
   "metadata": {
    "id": "rVD5nQ9ZGo8_"
   },
   "source": [
    "## Data Collection\n",
    "\n",
    "Now execute the random policy in the environment for a few steps, recording the data in the replay buffer.\n",
    "\n",
    "Here we are using 'PyDriver' to run the experience collecting loop. You can learn more about TF Agents driver in our [drivers tutorial](https://www.tensorflow.org/agents/tutorials/4_drivers_tutorial)."
   ]
  },
  {
   "cell_type": "code",
   "execution_count": null,
   "metadata": {
    "execution": {
     "iopub.execute_input": "2023-02-16T13:29:09.642199Z",
     "iopub.status.busy": "2023-02-16T13:29:09.641990Z",
     "iopub.status.idle": "2023-02-16T13:29:09.878893Z",
     "shell.execute_reply": "2023-02-16T13:29:09.878231Z"
    },
    "id": "wr1KSAEGG4h9"
   },
   "outputs": [],
   "source": [
    "#@test {\"skip\": true}\n",
    "py_driver.PyDriver(\n",
    "    env,\n",
    "    py_tf_eager_policy.PyTFEagerPolicy(\n",
    "      random_policy, use_tf_function=True),\n",
    "    [rb_observer],\n",
    "    max_steps=initial_collect_steps).run(train_py_env.reset())"
   ]
  },
  {
   "cell_type": "markdown",
   "metadata": {
    "id": "84z5pQJdoKxo"
   },
   "source": [
    "The replay buffer is now a collection of Trajectories."
   ]
  },
  {
   "cell_type": "code",
   "execution_count": null,
   "metadata": {
    "execution": {
     "iopub.execute_input": "2023-02-16T13:29:09.881793Z",
     "iopub.status.busy": "2023-02-16T13:29:09.881559Z",
     "iopub.status.idle": "2023-02-16T13:29:09.884423Z",
     "shell.execute_reply": "2023-02-16T13:29:09.883809Z"
    },
    "id": "4wZnLu2ViO4E"
   },
   "outputs": [],
   "source": [
    "# For the curious:\n",
    "# Uncomment to peel one of these off and inspect it.\n",
    "# iter(replay_buffer.as_dataset()).next()"
   ]
  },
  {
   "cell_type": "markdown",
   "metadata": {
    "id": "TujU-PMUsKjS"
   },
   "source": [
    "The agent needs access to the replay buffer. This is provided by creating an iterable `tf.data.Dataset` pipeline which will feed data to the agent.\n",
    "\n",
    "Each row of the replay buffer only stores a single observation step. But since the DQN Agent needs both the current and next observation to compute the loss, the dataset pipeline will sample two adjacent rows for each item in the batch (`num_steps=2`).\n",
    "\n",
    "This dataset is also optimized by running parallel calls and prefetching data."
   ]
  },
  {
   "cell_type": "code",
   "execution_count": null,
   "metadata": {
    "execution": {
     "iopub.execute_input": "2023-02-16T13:29:09.887212Z",
     "iopub.status.busy": "2023-02-16T13:29:09.887000Z",
     "iopub.status.idle": "2023-02-16T13:29:10.198112Z",
     "shell.execute_reply": "2023-02-16T13:29:10.197373Z"
    },
    "id": "ba7bilizt_qW"
   },
   "outputs": [],
   "source": [
    "# Dataset generates trajectories with shape [Bx2x...]\n",
    "dataset = replay_buffer.as_dataset(\n",
    "    num_parallel_calls=3,\n",
    "    sample_batch_size=batch_size,\n",
    "    num_steps=2).prefetch(3)\n",
    "\n",
    "dataset"
   ]
  },
  {
   "cell_type": "code",
   "execution_count": null,
   "metadata": {
    "execution": {
     "iopub.execute_input": "2023-02-16T13:29:10.201077Z",
     "iopub.status.busy": "2023-02-16T13:29:10.200820Z",
     "iopub.status.idle": "2023-02-16T13:29:10.278224Z",
     "shell.execute_reply": "2023-02-16T13:29:10.277502Z"
    },
    "id": "K13AST-2ppOq"
   },
   "outputs": [],
   "source": [
    "iterator = iter(dataset)\n",
    "print(iterator)"
   ]
  },
  {
   "cell_type": "code",
   "execution_count": null,
   "metadata": {
    "execution": {
     "iopub.execute_input": "2023-02-16T13:29:10.281186Z",
     "iopub.status.busy": "2023-02-16T13:29:10.280946Z",
     "iopub.status.idle": "2023-02-16T13:29:10.284104Z",
     "shell.execute_reply": "2023-02-16T13:29:10.283458Z"
    },
    "id": "Th5w5Sff0b16"
   },
   "outputs": [],
   "source": [
    "# For the curious:\n",
    "# Uncomment to see what the dataset iterator is feeding to the agent.\n",
    "# Compare this representation of replay data \n",
    "# to the collection of individual trajectories shown earlier.\n",
    "\n",
    "# iterator.next()"
   ]
  },
  {
   "cell_type": "markdown",
   "metadata": {
    "id": "hBc9lj9VWWtZ"
   },
   "source": [
    "## Training the agent\n",
    "\n",
    "Two things must happen during the training loop:\n",
    "\n",
    "-   collect data from the environment\n",
    "-   use that data to train the agent's neural network(s)\n",
    "\n",
    "This example also periodicially evaluates the policy and prints the current score.\n",
    "\n",
    "The following will take ~5 minutes to run."
   ]
  },
  {
   "cell_type": "code",
   "execution_count": null,
   "metadata": {
    "execution": {
     "iopub.execute_input": "2023-02-16T13:29:10.286896Z",
     "iopub.status.busy": "2023-02-16T13:29:10.286648Z",
     "iopub.status.idle": "2023-02-16T13:35:29.658676Z",
     "shell.execute_reply": "2023-02-16T13:35:29.657960Z"
    },
    "id": "0pTbJ3PeyF-u"
   },
   "outputs": [],
   "source": [
    "#@test {\"skip\": true}\n",
    "try:\n",
    "  %%time\n",
    "except:\n",
    "  pass\n",
    "\n",
    "# (Optional) Optimize by wrapping some of the code in a graph using TF function.\n",
    "agent.train = common.function(agent.train)\n",
    "\n",
    "# Reset the train step.\n",
    "agent.train_step_counter.assign(0)\n",
    "\n",
    "# Evaluate the agent's policy once before training.\n",
    "avg_return = compute_avg_return(eval_env, agent.policy, num_eval_episodes)\n",
    "returns = [avg_return]\n",
    "\n",
    "# Reset the environment.\n",
    "time_step = train_py_env.reset()\n",
    "\n",
    "# Create a driver to collect experience.\n",
    "collect_driver = py_driver.PyDriver(\n",
    "    env,\n",
    "    py_tf_eager_policy.PyTFEagerPolicy(\n",
    "      agent.collect_policy, use_tf_function=True),\n",
    "    [rb_observer],\n",
    "    max_steps=collect_steps_per_iteration)\n",
    "\n",
    "for _ in range(num_iterations):\n",
    "\n",
    "  # Collect a few steps and save to the replay buffer.\n",
    "  time_step, _ = collect_driver.run(time_step)\n",
    "\n",
    "  # Sample a batch of data from the buffer and update the agent's network.\n",
    "  experience, unused_info = next(iterator)\n",
    "  train_loss = agent.train(experience).loss\n",
    "\n",
    "  step = agent.train_step_counter.numpy()\n",
    "\n",
    "  if step % log_interval == 0:\n",
    "    print('step = {0}: loss = {1}'.format(step, train_loss))\n",
    "\n",
    "  if step % eval_interval == 0:\n",
    "    avg_return = compute_avg_return(eval_env, agent.policy, num_eval_episodes)\n",
    "    print('step = {0}: Average Return = {1}'.format(step, avg_return))\n",
    "    returns.append(avg_return)"
   ]
  },
  {
   "cell_type": "markdown",
   "metadata": {
    "id": "68jNcA_TiJDq"
   },
   "source": [
    "## Visualization\n"
   ]
  },
  {
   "cell_type": "markdown",
   "metadata": {
    "id": "aO-LWCdbbOIC"
   },
   "source": [
    "### Plots\n",
    "\n",
    "Use `matplotlib.pyplot` to chart how the policy improved during training.\n",
    "\n",
    "One iteration of `Cartpole-v0` consists of 200 time steps. The environment gives a reward of `+1` for each step the pole stays up, so the maximum return for one episode is 200. The charts shows the return increasing towards that maximum each time it is evaluated during training. (It may be a little unstable and not increase monotonically each time.)"
   ]
  },
  {
   "cell_type": "code",
   "execution_count": null,
   "metadata": {
    "execution": {
     "iopub.execute_input": "2023-02-16T13:35:29.662009Z",
     "iopub.status.busy": "2023-02-16T13:35:29.661773Z",
     "iopub.status.idle": "2023-02-16T13:35:29.885023Z",
     "shell.execute_reply": "2023-02-16T13:35:29.884354Z"
    },
    "id": "NxtL1mbOYCVO"
   },
   "outputs": [],
   "source": [
    "#@test {\"skip\": true}\n",
    "\n",
    "iterations = range(0, num_iterations + 1, eval_interval)\n",
    "plt.plot(iterations, returns)\n",
    "plt.ylabel('Average Return')\n",
    "plt.xlabel('Iterations')\n",
    "plt.ylim(top=250)"
   ]
  },
  {
   "cell_type": "markdown",
   "metadata": {
    "id": "M7-XpPP99Cy7"
   },
   "source": [
    "### Videos"
   ]
  },
  {
   "cell_type": "markdown",
   "metadata": {
    "id": "9pGfGxSH32gn"
   },
   "source": [
    "Charts are nice. But more exciting is seeing an agent actually performing a task in an environment. \n",
    "\n",
    "First, create a function to embed videos in the notebook."
   ]
  },
  {
   "cell_type": "code",
   "execution_count": null,
   "metadata": {
    "execution": {
     "iopub.execute_input": "2023-02-16T13:35:29.887876Z",
     "iopub.status.busy": "2023-02-16T13:35:29.887660Z",
     "iopub.status.idle": "2023-02-16T13:35:29.891582Z",
     "shell.execute_reply": "2023-02-16T13:35:29.891021Z"
    },
    "id": "ULaGr8pvOKbl"
   },
   "outputs": [],
   "source": [
    "def embed_mp4(filename):\n",
    "  \"\"\"Embeds an mp4 file in the notebook.\"\"\"\n",
    "  video = open(filename,'rb').read()\n",
    "  b64 = base64.b64encode(video)\n",
    "  tag = '''\n",
    "  <video width=\"640\" height=\"480\" controls>\n",
    "    <source src=\"data:video/mp4;base64,{0}\" type=\"video/mp4\">\n",
    "  Your browser does not support the video tag.\n",
    "  </video>'''.format(b64.decode())\n",
    "\n",
    "  return IPython.display.HTML(tag)"
   ]
  },
  {
   "cell_type": "markdown",
   "metadata": {
    "id": "9c_PH-pX4Pr5"
   },
   "source": [
    "Now iterate through a few episodes of the Cartpole game with the agent. The underlying Python environment (the one \"inside\" the TensorFlow environment wrapper) provides a `render()` method, which outputs an image of the environment state. These can be collected into a video."
   ]
  },
  {
   "cell_type": "code",
   "execution_count": null,
   "metadata": {
    "execution": {
     "iopub.execute_input": "2023-02-16T13:35:29.894211Z",
     "iopub.status.busy": "2023-02-16T13:35:29.893985Z",
     "iopub.status.idle": "2023-02-16T13:35:39.961504Z",
     "shell.execute_reply": "2023-02-16T13:35:39.960624Z"
    },
    "id": "owOVWB158NlF"
   },
   "outputs": [],
   "source": [
    "def create_policy_eval_video(policy, filename, num_episodes=5, fps=30):\n",
    "  filename = filename + \".mp4\"\n",
    "  with imageio.get_writer(filename, fps=fps) as video:\n",
    "    for _ in range(num_episodes):\n",
    "      time_step = eval_env.reset()\n",
    "      video.append_data(eval_py_env.render())\n",
    "      while not time_step.is_last():\n",
    "        action_step = policy.action(time_step)\n",
    "        time_step = eval_env.step(action_step.action)\n",
    "        video.append_data(eval_py_env.render())\n",
    "  return embed_mp4(filename)\n",
    "\n",
    "create_policy_eval_video(agent.policy, \"trained-agent\")"
   ]
  },
  {
   "cell_type": "markdown",
   "metadata": {
    "id": "povaAOcZygLw"
   },
   "source": [
    "For fun, compare the trained agent (above) to an agent moving randomly. (It does not do as well.)"
   ]
  },
  {
   "cell_type": "code",
   "execution_count": null,
   "metadata": {
    "execution": {
     "iopub.execute_input": "2023-02-16T13:35:39.965122Z",
     "iopub.status.busy": "2023-02-16T13:35:39.964848Z",
     "iopub.status.idle": "2023-02-16T13:35:40.735835Z",
     "shell.execute_reply": "2023-02-16T13:35:40.734748Z"
    },
    "id": "pJZIdC37yNH4"
   },
   "outputs": [],
   "source": [
    "create_policy_eval_video(random_policy, \"random-agent\")"
   ]
  }
 ],
 "metadata": {
  "colab": {
   "collapsed_sections": [],
   "name": "DQN Tutorial.ipynb",
   "private_outputs": true,
   "provenance": [],
   "toc_visible": true
  },
  "kernelspec": {
   "display_name": "Python 3 (ipykernel)",
   "language": "python",
   "name": "python3"
  },
  "language_info": {
   "codemirror_mode": {
    "name": "ipython",
    "version": 3
   },
   "file_extension": ".py",
   "mimetype": "text/x-python",
   "name": "python",
   "nbconvert_exporter": "python",
   "pygments_lexer": "ipython3",
   "version": "3.10.13"
  },
  "pycharm": {
   "stem_cell": {
    "cell_type": "raw",
    "metadata": {
     "collapsed": false
    },
    "source": []
   }
  }
 },
 "nbformat": 4,
 "nbformat_minor": 1
}
